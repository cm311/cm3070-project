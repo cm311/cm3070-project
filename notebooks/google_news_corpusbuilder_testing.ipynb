{
 "cells": [
  {
   "cell_type": "code",
   "execution_count": 3,
   "id": "613c4900-e4c8-43b6-974f-1612337a2fc0",
   "metadata": {},
   "outputs": [],
   "source": [
    "import modules.g_news_corpus"
   ]
  },
  {
   "cell_type": "code",
   "execution_count": null,
   "id": "8b87086e-f099-47d8-9e27-13571d30100c",
   "metadata": {},
   "outputs": [],
   "source": [
    "g_news_corpus."
   ]
  }
 ],
 "metadata": {
  "kernelspec": {
   "display_name": "Python 3",
   "language": "python",
   "name": "python3"
  },
  "language_info": {
   "codemirror_mode": {
    "name": "ipython",
    "version": 3
   },
   "file_extension": ".py",
   "mimetype": "text/x-python",
   "name": "python",
   "nbconvert_exporter": "python",
   "pygments_lexer": "ipython3",
   "version": "3.9.5"
  }
 },
 "nbformat": 4,
 "nbformat_minor": 5
}
