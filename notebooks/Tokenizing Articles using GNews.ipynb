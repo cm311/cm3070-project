{
 "cells": [
  {
   "cell_type": "code",
   "execution_count": 11,
   "id": "95985492-0150-42cd-bc08-0bc6719ba64e",
   "metadata": {},
   "outputs": [],
   "source": [
    "from gnews import GNews\n",
    "import nltk\n",
    "import requests\n",
    "\n",
    "google_news = GNews(period='1d')\n",
    "france = google_news.get_news('France')\n",
    "\n",
    "#the problem with this tokenizer is that at the end of each description, the news source is there.  No biggie for now.\n",
    "tokens = []\n",
    "for article in france:\n",
    "    words = nltk.word_tokenize(article['description'])\n",
    "    tokens += words\n"
   ]
  },
  {
   "cell_type": "code",
   "execution_count": 12,
   "id": "5ec4cc93-9c5c-4e15-9a8e-a962e7827b3c",
   "metadata": {},
   "outputs": [],
   "source": [
    "from bs4 import BeautifulSoup\n",
    "import urllib3\n",
    "import random, math\n",
    "import time\n",
    "\n",
    "url = france[0]['url']\n",
    "http = urllib3.PoolManager()\n",
    "response = http.request(\"GET\", url)\n",
    "soup = BeautifulSoup(response.data, 'html.parser')\n",
    "\n",
    "\n",
    "\n",
    "#read about that structured data that gnews uses"
   ]
  },
  {
   "cell_type": "code",
   "execution_count": 13,
   "id": "9cb5ed24-d8f2-4f77-9187-da82162810ce",
   "metadata": {},
   "outputs": [
    {
     "data": {
      "text/plain": [
       "{'title': '‘France’ Review: Cycling Into the Past - The Wall Street Journal',\n",
       " 'description': '‘France’ Review: Cycling Into the Past  The Wall Street Journal',\n",
       " 'published date': 'Fri, 24 Jun 2022 15:51:00 GMT',\n",
       " 'url': 'https://www.wsj.com/articles/france-book-review-history-cycling-travel-pedaling-into-the-past-11656085790',\n",
       " 'publisher': {'href': 'https://www.wsj.com',\n",
       "  'title': 'The Wall Street Journal'}}"
      ]
     },
     "execution_count": 13,
     "metadata": {},
     "output_type": "execute_result"
    }
   ],
   "source": [
    "france[6]"
   ]
  },
  {
   "cell_type": "code",
   "execution_count": 14,
   "id": "46005f26-15fe-4a68-837a-a3677141afc9",
   "metadata": {},
   "outputs": [],
   "source": [
    "freq = nltk.FreqDist([word.lower() for word in tokens])"
   ]
  },
  {
   "cell_type": "code",
   "execution_count": 15,
   "id": "4358e25c-36b2-4364-92a4-4aa30f037ad5",
   "metadata": {},
   "outputs": [],
   "source": [
    "#get the tuples of the 16 - 20th most common terms from the description\n",
    "#I'm doing it this way for now to avoid the news sources, which the GNews library appends at the end of the description.\n",
    "terms = freq.most_common()[45:50]"
   ]
  },
  {
   "cell_type": "code",
   "execution_count": 16,
   "id": "94d54e1b-ef3c-4567-8525-aa05656089dc",
   "metadata": {},
   "outputs": [
    {
     "data": {
      "text/plain": [
       "['velonews', '’', 'cycling', 'journal', 'reuters.com']"
      ]
     },
     "execution_count": 16,
     "metadata": {},
     "output_type": "execute_result"
    }
   ],
   "source": [
    "#just get the words\n",
    "terms = [j[0] for j in terms]\n",
    "terms"
   ]
  },
  {
   "cell_type": "code",
   "execution_count": 17,
   "id": "46f7e275-13c6-4834-b481-4f8f61ef9b16",
   "metadata": {},
   "outputs": [],
   "source": [
    "#an object containing the related terms to this concept.\n",
    "obj = requests.get('http://api.conceptnet.io/related/c/en/' + terms[2] + '?filter=/c/en').json()"
   ]
  },
  {
   "cell_type": "code",
   "execution_count": 18,
   "id": "3300712c-32e6-4d23-9307-2547c77ed522",
   "metadata": {},
   "outputs": [
    {
     "data": {
      "text/plain": [
       "{'@id': '/c/en/cycling',\n",
       " 'related': [{'@id': '/c/en/cycling', 'weight': 1.0},\n",
       "  {'@id': '/c/en/audax', 'weight': 0.896},\n",
       "  {'@id': '/c/en/bicycling', 'weight': 0.891},\n",
       "  {'@id': '/c/en/vuelta_españa', 'weight': 0.883},\n",
       "  {'@id': '/c/en/giro_d_italia', 'weight': 0.877},\n",
       "  {'@id': '/c/en/yellow_jersey', 'weight': 0.853},\n",
       "  {'@id': '/c/en/biking', 'weight': 0.823},\n",
       "  {'@id': '/c/en/individual_pursuit', 'weight': 0.814},\n",
       "  {'@id': '/c/en/cyclist', 'weight': 0.787},\n",
       "  {'@id': '/c/en/cyclocross', 'weight': 0.778},\n",
       "  {'@id': '/c/en/tour_de_france', 'weight': 0.778},\n",
       "  {'@id': '/c/en/track_cycling', 'weight': 0.773},\n",
       "  {'@id': '/c/en/bernard_hinault', 'weight': 0.765},\n",
       "  {'@id': '/c/en/hors_categorie', 'weight': 0.758},\n",
       "  {'@id': '/c/en/bmx_bike', 'weight': 0.747},\n",
       "  {'@id': '/c/en/bicycle_motocross', 'weight': 0.723},\n",
       "  {'@id': '/c/en/cyclists', 'weight': 0.719},\n",
       "  {'@id': '/c/en/bike', 'weight': 0.715},\n",
       "  {'@id': '/c/en/bicycle', 'weight': 0.715},\n",
       "  {'@id': '/c/en/mountain_biking', 'weight': 0.691},\n",
       "  {'@id': '/c/en/omnium', 'weight': 0.679},\n",
       "  {'@id': '/c/en/bicyclist', 'weight': 0.677},\n",
       "  {'@id': '/c/en/kom', 'weight': 0.674},\n",
       "  {'@id': '/c/en/recumbent_bicycle', 'weight': 0.67},\n",
       "  {'@id': '/c/en/bikes', 'weight': 0.67},\n",
       "  {'@id': '/c/en/pushbike', 'weight': 0.669},\n",
       "  {'@id': '/c/en/motorcycling', 'weight': 0.658},\n",
       "  {'@id': '/c/en/mountain_bike', 'weight': 0.656},\n",
       "  {'@id': '/c/en/keirin', 'weight': 0.651},\n",
       "  {'@id': '/c/en/bicycled', 'weight': 0.649},\n",
       "  {'@id': '/c/en/bmx', 'weight': 0.643},\n",
       "  {'@id': '/c/en/wiggo', 'weight': 0.623},\n",
       "  {'@id': '/c/en/pedalling', 'weight': 0.618},\n",
       "  {'@id': '/c/en/bicycles', 'weight': 0.609},\n",
       "  {'@id': '/c/en/commissaire', 'weight': 0.6},\n",
       "  {'@id': '/c/en/biker', 'weight': 0.597},\n",
       "  {'@id': '/c/en/bycicle', 'weight': 0.594},\n",
       "  {'@id': '/c/en/poker_run', 'weight': 0.592},\n",
       "  {'@id': '/c/en/pedaling', 'weight': 0.589},\n",
       "  {'@id': '/c/en/fatbike', 'weight': 0.585},\n",
       "  {'@id': '/c/en/cyclery', 'weight': 0.579},\n",
       "  {'@id': '/c/en/fixie', 'weight': 0.575},\n",
       "  {'@id': '/c/en/bicyclists', 'weight': 0.57},\n",
       "  {'@id': '/c/en/domestique', 'weight': 0.569},\n",
       "  {'@id': '/c/en/cycle', 'weight': 0.569},\n",
       "  {'@id': '/c/en/reduce_carbon_emissions', 'weight': 0.567},\n",
       "  {'@id': '/c/en/groupset', 'weight': 0.567},\n",
       "  {'@id': '/c/en/penny_farthing', 'weight': 0.565},\n",
       "  {'@id': '/c/en/cycled', 'weight': 0.564},\n",
       "  {'@id': '/c/en/hardtail', 'weight': 0.562}]}"
      ]
     },
     "execution_count": 18,
     "metadata": {},
     "output_type": "execute_result"
    }
   ],
   "source": [
    "obj['related'][1]['@id']"
   ]
  },
  {
   "cell_type": "code",
   "execution_count": 31,
   "id": "cbb7f99b-9b62-4c61-862c-51fadf389201",
   "metadata": {},
   "outputs": [
    {
     "name": "stderr",
     "output_type": "stream",
     "text": [
      "WARNING: pip is being invoked by an old script wrapper. This will fail in a future version of pip.\n",
      "Please see https://github.com/pypa/pip/issues/5599 for advice on fixing the underlying issue.\n",
      "To avoid this problem you can invoke Python with '-m pip' instead of running pip directly.\n"
     ]
    },
    {
     "data": {
      "text/html": [
       "<pre style=\"white-space:pre;overflow-x:auto;line-height:normal;font-family:Menlo,'DejaVu Sans Mono',consolas,'Courier New',monospace\"><span style=\"color: #808000; text-decoration-color: #808000\">WARNING: Ignoring invalid distribution -eepspeech-tflite (c:\\python\\python39\\lib\\site-packages)\n",
       "</span></pre>\n"
      ],
      "text/plain": [
       "\u001b[33mWARNING: Ignoring invalid distribution -eepspeech-tflite (c:\\python\\python39\\lib\\site-packages)\u001b[0m\u001b[33m\n",
       "\u001b[0m"
      ]
     },
     "metadata": {},
     "output_type": "display_data"
    },
    {
     "data": {
      "text/html": [
       "<pre style=\"white-space:pre;overflow-x:auto;line-height:normal;font-family:Menlo,'DejaVu Sans Mono',consolas,'Courier New',monospace\"><span style=\"color: #808000; text-decoration-color: #808000\">WARNING: Ignoring invalid distribution -eepspeech-tflite (c:\\python\\python39\\lib\\site-packages)\n",
       "</span></pre>\n"
      ],
      "text/plain": [
       "\u001b[33mWARNING: Ignoring invalid distribution -eepspeech-tflite (c:\\python\\python39\\lib\\site-packages)\u001b[0m\u001b[33m\n",
       "\u001b[0m"
      ]
     },
     "metadata": {},
     "output_type": "display_data"
    },
    {
     "data": {
      "text/html": [
       "<pre style=\"white-space:pre;overflow-x:auto;line-height:normal;font-family:Menlo,'DejaVu Sans Mono',consolas,'Courier New',monospace\">Requirement already satisfied: newspaper3k in c:\\python\\python39\\lib\\site-packages (0.2.8)\n",
       "</pre>\n"
      ],
      "text/plain": [
       "Requirement already satisfied: newspaper3k in c:\\python\\python39\\lib\\site-packages (0.2.8)\n"
      ]
     },
     "metadata": {},
     "output_type": "display_data"
    },
    {
     "data": {
      "text/html": [
       "<pre style=\"white-space:pre;overflow-x:auto;line-height:normal;font-family:Menlo,'DejaVu Sans Mono',consolas,'Courier New',monospace\">Requirement already satisfied: beautifulsoup4&gt;=4.4.1 in c:\\python\\python39\\lib\\site-packages (from newspaper3k) (4.9.3)\n",
       "</pre>\n"
      ],
      "text/plain": [
       "Requirement already satisfied: beautifulsoup4>=4.4.1 in c:\\python\\python39\\lib\\site-packages (from newspaper3k) (4.9.3)\n"
      ]
     },
     "metadata": {},
     "output_type": "display_data"
    },
    {
     "data": {
      "text/html": [
       "<pre style=\"white-space:pre;overflow-x:auto;line-height:normal;font-family:Menlo,'DejaVu Sans Mono',consolas,'Courier New',monospace\">Requirement already satisfied: PyYAML&gt;=3.11 in c:\\python\\python39\\lib\\site-packages (from newspaper3k) (6.0)\n",
       "</pre>\n"
      ],
      "text/plain": [
       "Requirement already satisfied: PyYAML>=3.11 in c:\\python\\python39\\lib\\site-packages (from newspaper3k) (6.0)\n"
      ]
     },
     "metadata": {},
     "output_type": "display_data"
    },
    {
     "data": {
      "text/html": [
       "<pre style=\"white-space:pre;overflow-x:auto;line-height:normal;font-family:Menlo,'DejaVu Sans Mono',consolas,'Courier New',monospace\">Requirement already satisfied: python-dateutil&gt;=2.5.3 in c:\\python\\python39\\lib\\site-packages (from newspaper3k) (2.8.1)\n",
       "</pre>\n"
      ],
      "text/plain": [
       "Requirement already satisfied: python-dateutil>=2.5.3 in c:\\python\\python39\\lib\\site-packages (from newspaper3k) (2.8.1)\n"
      ]
     },
     "metadata": {},
     "output_type": "display_data"
    },
    {
     "data": {
      "text/html": [
       "<pre style=\"white-space:pre;overflow-x:auto;line-height:normal;font-family:Menlo,'DejaVu Sans Mono',consolas,'Courier New',monospace\">Requirement already satisfied: feedfinder2&gt;=0.0.4 in c:\\python\\python39\\lib\\site-packages (from newspaper3k) (0.0.4)\n",
       "</pre>\n"
      ],
      "text/plain": [
       "Requirement already satisfied: feedfinder2>=0.0.4 in c:\\python\\python39\\lib\\site-packages (from newspaper3k) (0.0.4)\n"
      ]
     },
     "metadata": {},
     "output_type": "display_data"
    },
    {
     "data": {
      "text/html": [
       "<pre style=\"white-space:pre;overflow-x:auto;line-height:normal;font-family:Menlo,'DejaVu Sans Mono',consolas,'Courier New',monospace\">Requirement already satisfied: nltk&gt;=3.2.1 in c:\\python\\python39\\lib\\site-packages (from newspaper3k) (3.6.2)\n",
       "</pre>\n"
      ],
      "text/plain": [
       "Requirement already satisfied: nltk>=3.2.1 in c:\\python\\python39\\lib\\site-packages (from newspaper3k) (3.6.2)\n"
      ]
     },
     "metadata": {},
     "output_type": "display_data"
    },
    {
     "data": {
      "text/html": [
       "<pre style=\"white-space:pre;overflow-x:auto;line-height:normal;font-family:Menlo,'DejaVu Sans Mono',consolas,'Courier New',monospace\">Requirement already satisfied: lxml&gt;=3.6.0 in c:\\python\\python39\\lib\\site-packages (from newspaper3k) (4.6.4)\n",
       "</pre>\n"
      ],
      "text/plain": [
       "Requirement already satisfied: lxml>=3.6.0 in c:\\python\\python39\\lib\\site-packages (from newspaper3k) (4.6.4)\n"
      ]
     },
     "metadata": {},
     "output_type": "display_data"
    },
    {
     "data": {
      "text/html": [
       "<pre style=\"white-space:pre;overflow-x:auto;line-height:normal;font-family:Menlo,'DejaVu Sans Mono',consolas,'Courier New',monospace\">Requirement already satisfied: requests&gt;=2.10.0 in c:\\python\\python39\\lib\\site-packages (from newspaper3k) (2.26.0)\n",
       "</pre>\n"
      ],
      "text/plain": [
       "Requirement already satisfied: requests>=2.10.0 in c:\\python\\python39\\lib\\site-packages (from newspaper3k) (2.26.0)\n"
      ]
     },
     "metadata": {},
     "output_type": "display_data"
    },
    {
     "data": {
      "text/html": [
       "<pre style=\"white-space:pre;overflow-x:auto;line-height:normal;font-family:Menlo,'DejaVu Sans Mono',consolas,'Courier New',monospace\">Requirement already satisfied: cssselect&gt;=0.9.2 in c:\\python\\python39\\lib\\site-packages (from newspaper3k) (1.1.0)\n",
       "</pre>\n"
      ],
      "text/plain": [
       "Requirement already satisfied: cssselect>=0.9.2 in c:\\python\\python39\\lib\\site-packages (from newspaper3k) (1.1.0)\n"
      ]
     },
     "metadata": {},
     "output_type": "display_data"
    },
    {
     "data": {
      "text/html": [
       "<pre style=\"white-space:pre;overflow-x:auto;line-height:normal;font-family:Menlo,'DejaVu Sans Mono',consolas,'Courier New',monospace\">Requirement already satisfied: tldextract&gt;=2.0.1 in c:\\python\\python39\\lib\\site-packages (from newspaper3k) (3.3.0)\n",
       "</pre>\n"
      ],
      "text/plain": [
       "Requirement already satisfied: tldextract>=2.0.1 in c:\\python\\python39\\lib\\site-packages (from newspaper3k) (3.3.0)\n"
      ]
     },
     "metadata": {},
     "output_type": "display_data"
    },
    {
     "data": {
      "text/html": [
       "<pre style=\"white-space:pre;overflow-x:auto;line-height:normal;font-family:Menlo,'DejaVu Sans Mono',consolas,'Courier New',monospace\">Requirement already satisfied: jieba3k&gt;=0.35.1 in c:\\python\\python39\\lib\\site-packages (from newspaper3k) (0.35.1)\n",
       "</pre>\n"
      ],
      "text/plain": [
       "Requirement already satisfied: jieba3k>=0.35.1 in c:\\python\\python39\\lib\\site-packages (from newspaper3k) (0.35.1)\n"
      ]
     },
     "metadata": {},
     "output_type": "display_data"
    },
    {
     "data": {
      "text/html": [
       "<pre style=\"white-space:pre;overflow-x:auto;line-height:normal;font-family:Menlo,'DejaVu Sans Mono',consolas,'Courier New',monospace\">Requirement already satisfied: Pillow&gt;=3.3.0 in c:\\python\\python39\\lib\\site-packages (from newspaper3k) (8.2.0)\n",
       "</pre>\n"
      ],
      "text/plain": [
       "Requirement already satisfied: Pillow>=3.3.0 in c:\\python\\python39\\lib\\site-packages (from newspaper3k) (8.2.0)\n"
      ]
     },
     "metadata": {},
     "output_type": "display_data"
    },
    {
     "data": {
      "text/html": [
       "<pre style=\"white-space:pre;overflow-x:auto;line-height:normal;font-family:Menlo,'DejaVu Sans Mono',consolas,'Courier New',monospace\">Requirement already satisfied: feedparser&gt;=5.2.1 in c:\\python\\python39\\lib\\site-packages (from newspaper3k) (6.0.10)\n",
       "</pre>\n"
      ],
      "text/plain": [
       "Requirement already satisfied: feedparser>=5.2.1 in c:\\python\\python39\\lib\\site-packages (from newspaper3k) (6.0.10)\n"
      ]
     },
     "metadata": {},
     "output_type": "display_data"
    },
    {
     "data": {
      "text/html": [
       "<pre style=\"white-space:pre;overflow-x:auto;line-height:normal;font-family:Menlo,'DejaVu Sans Mono',consolas,'Courier New',monospace\">Requirement already satisfied: tinysegmenter==0.3 in c:\\python\\python39\\lib\\site-packages (from newspaper3k) (0.3)\n",
       "</pre>\n"
      ],
      "text/plain": [
       "Requirement already satisfied: tinysegmenter==0.3 in c:\\python\\python39\\lib\\site-packages (from newspaper3k) (0.3)\n"
      ]
     },
     "metadata": {},
     "output_type": "display_data"
    },
    {
     "data": {
      "text/html": [
       "<pre style=\"white-space:pre;overflow-x:auto;line-height:normal;font-family:Menlo,'DejaVu Sans Mono',consolas,'Courier New',monospace\">Requirement already satisfied: soupsieve&gt;1.2 in c:\\python\\python39\\lib\\site-packages (from beautifulsoup4&gt;=4.4.1-&gt;newspaper3k) (2.2.1)\n",
       "</pre>\n"
      ],
      "text/plain": [
       "Requirement already satisfied: soupsieve>1.2 in c:\\python\\python39\\lib\\site-packages (from beautifulsoup4>=4.4.1->newspaper3k) (2.2.1)\n"
      ]
     },
     "metadata": {},
     "output_type": "display_data"
    },
    {
     "data": {
      "text/html": [
       "<pre style=\"white-space:pre;overflow-x:auto;line-height:normal;font-family:Menlo,'DejaVu Sans Mono',consolas,'Courier New',monospace\">Requirement already satisfied: six in c:\\python\\python39\\lib\\site-packages (from feedfinder2&gt;=0.0.4-&gt;newspaper3k) (1.15.0)\n",
       "</pre>\n"
      ],
      "text/plain": [
       "Requirement already satisfied: six in c:\\python\\python39\\lib\\site-packages (from feedfinder2>=0.0.4->newspaper3k) (1.15.0)\n"
      ]
     },
     "metadata": {},
     "output_type": "display_data"
    },
    {
     "data": {
      "text/html": [
       "<pre style=\"white-space:pre;overflow-x:auto;line-height:normal;font-family:Menlo,'DejaVu Sans Mono',consolas,'Courier New',monospace\">Requirement already satisfied: sgmllib3k in c:\\python\\python39\\lib\\site-packages (from feedparser&gt;=5.2.1-&gt;newspaper3k) (1.0.0)\n",
       "</pre>\n"
      ],
      "text/plain": [
       "Requirement already satisfied: sgmllib3k in c:\\python\\python39\\lib\\site-packages (from feedparser>=5.2.1->newspaper3k) (1.0.0)\n"
      ]
     },
     "metadata": {},
     "output_type": "display_data"
    },
    {
     "data": {
      "text/html": [
       "<pre style=\"white-space:pre;overflow-x:auto;line-height:normal;font-family:Menlo,'DejaVu Sans Mono',consolas,'Courier New',monospace\">Requirement already satisfied: regex in c:\\python\\python39\\lib\\site-packages (from nltk&gt;=3.2.1-&gt;newspaper3k) (2022.4.24)\n",
       "</pre>\n"
      ],
      "text/plain": [
       "Requirement already satisfied: regex in c:\\python\\python39\\lib\\site-packages (from nltk>=3.2.1->newspaper3k) (2022.4.24)\n"
      ]
     },
     "metadata": {},
     "output_type": "display_data"
    },
    {
     "data": {
      "text/html": [
       "<pre style=\"white-space:pre;overflow-x:auto;line-height:normal;font-family:Menlo,'DejaVu Sans Mono',consolas,'Courier New',monospace\">Requirement already satisfied: joblib in c:\\python\\python39\\lib\\site-packages (from nltk&gt;=3.2.1-&gt;newspaper3k) (1.0.1)\n",
       "</pre>\n"
      ],
      "text/plain": [
       "Requirement already satisfied: joblib in c:\\python\\python39\\lib\\site-packages (from nltk>=3.2.1->newspaper3k) (1.0.1)\n"
      ]
     },
     "metadata": {},
     "output_type": "display_data"
    },
    {
     "data": {
      "text/html": [
       "<pre style=\"white-space:pre;overflow-x:auto;line-height:normal;font-family:Menlo,'DejaVu Sans Mono',consolas,'Courier New',monospace\">Requirement already satisfied: tqdm in c:\\python\\python39\\lib\\site-packages (from nltk&gt;=3.2.1-&gt;newspaper3k) (4.60.0)\n",
       "</pre>\n"
      ],
      "text/plain": [
       "Requirement already satisfied: tqdm in c:\\python\\python39\\lib\\site-packages (from nltk>=3.2.1->newspaper3k) (4.60.0)\n"
      ]
     },
     "metadata": {},
     "output_type": "display_data"
    },
    {
     "data": {
      "text/html": [
       "<pre style=\"white-space:pre;overflow-x:auto;line-height:normal;font-family:Menlo,'DejaVu Sans Mono',consolas,'Courier New',monospace\">Requirement already satisfied: click in c:\\python\\python39\\lib\\site-packages (from nltk&gt;=3.2.1-&gt;newspaper3k) (8.0.1)\n",
       "</pre>\n"
      ],
      "text/plain": [
       "Requirement already satisfied: click in c:\\python\\python39\\lib\\site-packages (from nltk>=3.2.1->newspaper3k) (8.0.1)\n"
      ]
     },
     "metadata": {},
     "output_type": "display_data"
    },
    {
     "data": {
      "text/html": [
       "<pre style=\"white-space:pre;overflow-x:auto;line-height:normal;font-family:Menlo,'DejaVu Sans Mono',consolas,'Courier New',monospace\">Requirement already satisfied: charset-normalizer~=2.0.0 in c:\\python\\python39\\lib\\site-packages (from requests&gt;=2.10.0-&gt;newspaper3k) (2.0.12)\n",
       "</pre>\n"
      ],
      "text/plain": [
       "Requirement already satisfied: charset-normalizer~=2.0.0 in c:\\python\\python39\\lib\\site-packages (from requests>=2.10.0->newspaper3k) (2.0.12)\n"
      ]
     },
     "metadata": {},
     "output_type": "display_data"
    },
    {
     "data": {
      "text/html": [
       "<pre style=\"white-space:pre;overflow-x:auto;line-height:normal;font-family:Menlo,'DejaVu Sans Mono',consolas,'Courier New',monospace\">Requirement already satisfied: urllib3&lt;1.27,&gt;=1.21.1 in c:\\python\\python39\\lib\\site-packages (from requests&gt;=2.10.0-&gt;newspaper3k) (1.26.6)\n",
       "</pre>\n"
      ],
      "text/plain": [
       "Requirement already satisfied: urllib3<1.27,>=1.21.1 in c:\\python\\python39\\lib\\site-packages (from requests>=2.10.0->newspaper3k) (1.26.6)\n"
      ]
     },
     "metadata": {},
     "output_type": "display_data"
    },
    {
     "data": {
      "text/html": [
       "<pre style=\"white-space:pre;overflow-x:auto;line-height:normal;font-family:Menlo,'DejaVu Sans Mono',consolas,'Courier New',monospace\">Requirement already satisfied: certifi&gt;=2017.4.17 in c:\\python\\python39\\lib\\site-packages (from requests&gt;=2.10.0-&gt;newspaper3k) (2021.5.30)\n",
       "</pre>\n"
      ],
      "text/plain": [
       "Requirement already satisfied: certifi>=2017.4.17 in c:\\python\\python39\\lib\\site-packages (from requests>=2.10.0->newspaper3k) (2021.5.30)\n"
      ]
     },
     "metadata": {},
     "output_type": "display_data"
    },
    {
     "data": {
      "text/html": [
       "<pre style=\"white-space:pre;overflow-x:auto;line-height:normal;font-family:Menlo,'DejaVu Sans Mono',consolas,'Courier New',monospace\">Requirement already satisfied: idna&lt;4,&gt;=2.5 in c:\\python\\python39\\lib\\site-packages (from requests&gt;=2.10.0-&gt;newspaper3k) (2.10)\n",
       "</pre>\n"
      ],
      "text/plain": [
       "Requirement already satisfied: idna<4,>=2.5 in c:\\python\\python39\\lib\\site-packages (from requests>=2.10.0->newspaper3k) (2.10)\n"
      ]
     },
     "metadata": {},
     "output_type": "display_data"
    },
    {
     "data": {
      "text/html": [
       "<pre style=\"white-space:pre;overflow-x:auto;line-height:normal;font-family:Menlo,'DejaVu Sans Mono',consolas,'Courier New',monospace\">Requirement already satisfied: filelock&gt;=3.0.8 in c:\\python\\python39\\lib\\site-packages (from tldextract&gt;=2.0.1-&gt;newspaper3k) (3.0.12)\n",
       "</pre>\n"
      ],
      "text/plain": [
       "Requirement already satisfied: filelock>=3.0.8 in c:\\python\\python39\\lib\\site-packages (from tldextract>=2.0.1->newspaper3k) (3.0.12)\n"
      ]
     },
     "metadata": {},
     "output_type": "display_data"
    },
    {
     "data": {
      "text/html": [
       "<pre style=\"white-space:pre;overflow-x:auto;line-height:normal;font-family:Menlo,'DejaVu Sans Mono',consolas,'Courier New',monospace\">Requirement already satisfied: requests-file&gt;=1.4 in c:\\python\\python39\\lib\\site-packages (from tldextract&gt;=2.0.1-&gt;newspaper3k) (1.5.1)\n",
       "</pre>\n"
      ],
      "text/plain": [
       "Requirement already satisfied: requests-file>=1.4 in c:\\python\\python39\\lib\\site-packages (from tldextract>=2.0.1->newspaper3k) (1.5.1)\n"
      ]
     },
     "metadata": {},
     "output_type": "display_data"
    },
    {
     "data": {
      "text/html": [
       "<pre style=\"white-space:pre;overflow-x:auto;line-height:normal;font-family:Menlo,'DejaVu Sans Mono',consolas,'Courier New',monospace\">Requirement already satisfied: colorama in c:\\python\\python39\\lib\\site-packages (from click-&gt;nltk&gt;=3.2.1-&gt;newspaper3k) (0.4.4)\n",
       "</pre>\n"
      ],
      "text/plain": [
       "Requirement already satisfied: colorama in c:\\python\\python39\\lib\\site-packages (from click->nltk>=3.2.1->newspaper3k) (0.4.4)\n"
      ]
     },
     "metadata": {},
     "output_type": "display_data"
    },
    {
     "data": {
      "text/html": [
       "<pre style=\"white-space:pre;overflow-x:auto;line-height:normal;font-family:Menlo,'DejaVu Sans Mono',consolas,'Courier New',monospace\"><span style=\"color: #808000; text-decoration-color: #808000\">WARNING: Ignoring invalid distribution -eepspeech-tflite (c:\\python\\python39\\lib\\site-packages)\n",
       "</span></pre>\n"
      ],
      "text/plain": [
       "\u001b[33mWARNING: Ignoring invalid distribution -eepspeech-tflite (c:\\python\\python39\\lib\\site-packages)\u001b[0m\u001b[33m\n",
       "\u001b[0m"
      ]
     },
     "metadata": {},
     "output_type": "display_data"
    },
    {
     "data": {
      "text/html": [
       "<pre style=\"white-space:pre;overflow-x:auto;line-height:normal;font-family:Menlo,'DejaVu Sans Mono',consolas,'Courier New',monospace\"><span style=\"color: #808000; text-decoration-color: #808000\">WARNING: Ignoring invalid distribution -eepspeech-tflite (c:\\python\\python39\\lib\\site-packages)\n",
       "</span></pre>\n"
      ],
      "text/plain": [
       "\u001b[33mWARNING: Ignoring invalid distribution -eepspeech-tflite (c:\\python\\python39\\lib\\site-packages)\u001b[0m\u001b[33m\n",
       "\u001b[0m"
      ]
     },
     "metadata": {},
     "output_type": "display_data"
    },
    {
     "data": {
      "text/html": [
       "<pre style=\"white-space:pre;overflow-x:auto;line-height:normal;font-family:Menlo,'DejaVu Sans Mono',consolas,'Courier New',monospace\"><span style=\"color: #808000; text-decoration-color: #808000\">WARNING: Ignoring invalid distribution -eepspeech-tflite (c:\\python\\python39\\lib\\site-packages)\n",
       "</span></pre>\n"
      ],
      "text/plain": [
       "\u001b[33mWARNING: Ignoring invalid distribution -eepspeech-tflite (c:\\python\\python39\\lib\\site-packages)\u001b[0m\u001b[33m\n",
       "\u001b[0m"
      ]
     },
     "metadata": {},
     "output_type": "display_data"
    },
    {
     "data": {
      "text/html": [
       "<pre style=\"white-space:pre;overflow-x:auto;line-height:normal;font-family:Menlo,'DejaVu Sans Mono',consolas,'Courier New',monospace\"><span style=\"color: #808000; text-decoration-color: #808000\">WARNING: Ignoring invalid distribution -eepspeech-tflite (c:\\python\\python39\\lib\\site-packages)\n",
       "</span></pre>\n"
      ],
      "text/plain": [
       "\u001b[33mWARNING: Ignoring invalid distribution -eepspeech-tflite (c:\\python\\python39\\lib\\site-packages)\u001b[0m\u001b[33m\n",
       "\u001b[0m"
      ]
     },
     "metadata": {},
     "output_type": "display_data"
    }
   ],
   "source": [
    "from gnews import GNews\n",
    "\n",
    "google_news = GNews()\n",
    "json_resp = google_news.get_news('Italy')\n",
    "article = google_news.get_full_article(json_resp[2]['url']);"
   ]
  },
  {
   "cell_type": "code",
   "execution_count": 32,
   "id": "bb92aae1-35e2-4770-9566-0ec1b48144e4",
   "metadata": {},
   "outputs": [
    {
     "data": {
      "text/plain": [
       "'In his travel essay Positano, John Steinbeck called the destination a “dream place that isn’t quite real when you are there and becomes beckoningly real after you have gone.” That may have been responsible for bringing the first tourists to the famed Amalfi Coast in the 1950s and ’60s, when it was still a string of fishing villages. These days, however, the traffic on the panoramic coastal road is the stuff of nightmares. The drive itself is harrowing enough, with switchback turns and narrow streets hugging the cliffs, but add to that the summer traffic and the situation becomes maddening.\\n\\nNow, after much campaigning by local associations and a petition with the signatures of over 10,000 residents, ANAS (Azienda Nazionale Autonoma delle Strade), the company responsible for Italy’s state roads and highways, is enacting new restrictions. During peak hours in the summer, cars traveling on the busiest part of S.S. 163 (the stretch of Amalfi coastline between Positano and Vietri sul Mare) will be subject to an alternate license plate system. On even-numbered days, cars with plates ending in an even number are prohibited from accessing the road, while on odd-numbered days, cars ending in an odd number will be banned.\\n\\nResidents of the 13 towns along the coast, as well as taxis and NCC (cars with hired drivers), public transportation, and police and emergency vehicles will be exempt, but the rules will apply to rental cars. The restrictions will be in effect on weekends from June 15 through September 30 and the whole month of August from 10 a.m. until 6 p.m. They will also be applied during Holy Week around Easter and the dates from April 24 until May 2, which includes Liberation Day (April 25) and Labor Day (May 1).\\n\\nThe new rules also ban vehicles more than 10.36 meters (about 34 feet) long entirely. Camper vans and vehicles with trailers will only be able to access the road between midnight and 6:30 a.m. Local police are tasked with enforcing the regulations and are expected to hand out fines, but it’s not clear how much the fines will be. The new rules will no doubt cause some confusion, especially for travelers dealing with rental car agencies. And even if visitors are able to get cars with the right license plate numbers, parking is a huge hassle. So, if you are planning to visit the Amalfi Coast this summer, it might be best to avoid driving and get around by boat, bus, or taxi instead.'"
      ]
     },
     "execution_count": 32,
     "metadata": {},
     "output_type": "execute_result"
    }
   ],
   "source": [
    "article.text"
   ]
  },
  {
   "cell_type": "code",
   "execution_count": null,
   "id": "ade585ba-dfdb-4759-aad2-073a23b4fdd9",
   "metadata": {},
   "outputs": [],
   "source": []
  }
 ],
 "metadata": {
  "kernelspec": {
   "display_name": "Python 3",
   "language": "python",
   "name": "python3"
  },
  "language_info": {
   "codemirror_mode": {
    "name": "ipython",
    "version": 3
   },
   "file_extension": ".py",
   "mimetype": "text/x-python",
   "name": "python",
   "nbconvert_exporter": "python",
   "pygments_lexer": "ipython3",
   "version": "3.9.5"
  }
 },
 "nbformat": 4,
 "nbformat_minor": 5
}
