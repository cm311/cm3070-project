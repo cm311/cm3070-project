{
 "cells": [
  {
   "cell_type": "code",
   "execution_count": 2,
   "id": "82a126dc-e740-4c62-a029-5b90e02bd0f7",
   "metadata": {},
   "outputs": [],
   "source": [
    "from gnews import GNews\n",
    "from newspaper import Article, ArticleException\n",
    "from bs4 import BeautifulSoup\n",
    "import nltk\n",
    "import requests\n",
    "import time\n",
    "import urllib3\n",
    "import random, math\n",
    "from datetime import datetime, timedelta\n",
    "\n",
    "\n",
    "#hl: language\n",
    "#gl: country\n",
    "#ceid: country: language\n",
    "#(en, jp, fr, de)\n",
    "lang_codes = ['en', 'jp', 'fr', 'de', 'it', 'es']\n",
    "def get_news_meta_data(keyword, start_date, end_date, language):\n",
    "    #yyyy-mm-dd'\n",
    "    \n",
    "    lang_string = '&ceid=' + language + ':' + language + '&hl=' + language + '-' + language + '&gl=' + language\n",
    "    query = 'https://news.google.com/rss/search?q=' + keyword + '+after:' + start_date + '+before:' + end_date + lang_string\n",
    "    #'&ceid=US:en&hl=en-US&gl=US'\n",
    "    http = urllib3.PoolManager()\n",
    "    response = http.request(\"GET\", query)\n",
    "    soupy = BeautifulSoup(response.data, 'html.parser')\n",
    "    \n",
    "    items = soupy.contents[1].find_all('item')\n",
    "    \n",
    "    if len(items) == 100:\n",
    "        #parse start_date and end_date to get less articles.\n",
    "        d = int(days_between(start_date, end_date)/2)\n",
    "        mid_date = datetime.strptime(start_date, \"%Y-%m-%d\") + timedelta(days=d)\n",
    "        mid_date = mid_date.strftime(\"%Y-%m-%d\")\n",
    "        \n",
    "        if mid_date == start_date:\n",
    "            return items\n",
    "        \n",
    "        items1 = get_news_meta_data(keyword, start_date, mid_date, language)\n",
    "        items2 = get_news_meta_data(keyword, mid_date, end_date, language)\n",
    "        \n",
    "        items = items1 + items2\n",
    "        \n",
    "    print('Number of articles retrieved: ' + str(len(items)))\n",
    "    return items\n",
    "\n",
    "def days_between(d1, d2):\n",
    "    d1 = datetime.strptime(d1, \"%Y-%m-%d\")\n",
    "    d2 = datetime.strptime(d2, \"%Y-%m-%d\")\n",
    "    return abs((d2 - d1).days)\n",
    "\n",
    "\n",
    "#returns a list of dicts\n",
    "'''\n",
    "{'title' : the page title,\n",
    " 'pubdate' : the date the article was published,\n",
    " 'link' : the link to the article online}\n",
    " '''\n",
    "def news_items_to_dict(items):\n",
    "    article_meta_data = []\n",
    "    \n",
    "    for item in items:\n",
    "        title = item.find('title')\n",
    "        pubdate = item.find('pubdate')\n",
    "\n",
    "        stringed = str(item)\n",
    "        start = stringed.find('href')\n",
    "        stringed = stringed[start+6:]\n",
    "        link = stringed[:stringed.find('\"')]\n",
    "        \n",
    "        article_meta_data.append({'title' : title,\n",
    "                                 'pubdate' : pubdate,\n",
    "                                 'link' : link})\n",
    "    return article_meta_data\n",
    "\n",
    "def get_article_text(meta_data):\n",
    "    a = Article(meta_data['link'])\n",
    "    a.download()\n",
    "    a.parse()\n",
    "    return(a.text)\n",
    "\n",
    "def build_corpus(article_meta_data):\n",
    "    articles = []\n",
    "    for article in article_meta_data:\n",
    "        try:\n",
    "            articles.append(get_article_text(article))\n",
    "        except ArticleException:\n",
    "            print(ArticleException)\n",
    "    return articles\n",
    "\n",
    "def get_news_articles_text(keyword, start_date, end_date, language):\n",
    "    meta_data = get_news_meta_data(keyword, start_date, end_date, language)\n",
    "    articles_text = build_corpus(meta_data)\n",
    "    return articles_text"
   ]
  },
  {
   "cell_type": "code",
   "execution_count": 22,
   "id": "34fdc154-f10c-4a4a-9b7d-9d9d33720798",
   "metadata": {},
   "outputs": [],
   "source": [
    "# use CountVectorizer to turn the docs into vectors\n",
    "from sklearn.feature_extraction.text import CountVectorizer\n",
    "from sklearn.decomposition import LatentDirichletAllocation as LDA\n",
    "from nltk.corpus import stopwords\n",
    "import pandas as pd\n",
    "\n",
    "\n",
    "# turn the documents into vectors\n",
    "def create_count_vectorizer(documents, stopWords, num_features):\n",
    "    count_vectorizer = CountVectorizer(stop_words=set(stopWords), tokenizer=tokenize, max_features=num_features)\n",
    "    data = count_vectorizer.fit_transform(documents)\n",
    "    return (count_vectorizer, data)\n",
    "\n",
    "# create the LDA model (note that usually num_topics is unknown)\n",
    "def create_and_fit_lda(data, num_topics):\n",
    "    lda = LDA(n_components=num_topics, n_jobs=-1)\n",
    "    lda.fit(data)\n",
    "    return lda\n",
    "\n",
    "# identify & print the most common topic words\n",
    "def get_most_common_words_for_topics(model, vectorizer, n_top_words):\n",
    "    words = vectorizer.get_feature_names()\n",
    "    word_dict = {}\n",
    "    for topic_index, topic in enumerate(model.components_):\n",
    "        this_topic_words = [words[i] for i in topic.argsort()[:-n_top_words - 1:-1]]\n",
    "        word_dict[topic_index] = this_topic_words\n",
    "    return word_dict\n",
    "\n",
    "def print_topic_words(word_dict):\n",
    "    for key in word_dict.keys():\n",
    "        print(f\"Topic {key}\")\n",
    "        print(\"\\t\", word_dict[key])\n",
    "        \n",
    "def tokenize(s):\n",
    "    tokens = nltk.word_tokenize(s)\n",
    "    return tokens\n",
    "\n",
    "def tokenize_articles(articles):\n",
    "    t = []\n",
    "    for a in articles:\n",
    "        t += tokenize(a)\n",
    "    return t\n",
    "\n",
    "#displays the lda.  also returns the words of the topics.\n",
    "def create_display_lda(articles, language, num_features, num_topics, num_words):\n",
    "    stopWords = set(stopwords.words(language))\n",
    "    stopWords.update({',', '.', '’', '“', '”', ')', '(', '—', '``', '?', ':', ';', \"''\", '/', '–', '‘',\n",
    "                     '$', '%', '[', ']', \"'s\", '!', \"'\", '-',})\n",
    "    \n",
    "    df = pd.DataFrame(articles)\n",
    "\n",
    "    (vectorizer, data) = create_count_vectorizer(df[0], stopWords, num_features)\n",
    "    lda = create_and_fit_lda(data, num_topics)\n",
    "    topic_words = get_most_common_words_for_topics(lda, vectorizer, num_words)\n",
    "    print_topic_words(topic_words)\n",
    "    \n",
    "    words = []\n",
    "    for key in topic_words.keys():\n",
    "        words += topic_words[key]\n",
    "        \n",
    "    return list(set(words))"
   ]
  },
  {
   "cell_type": "code",
   "execution_count": 41,
   "id": "b77af5e9-6e2b-4a3b-9c6c-8c74bb34234f",
   "metadata": {},
   "outputs": [
    {
     "name": "stderr",
     "output_type": "stream",
     "text": [
      "08/19/2022 04:17:55 AM - Redirecting https://news.google.com/rss/search?q=martin heidegger+after:2002-07-13+before:2010-07-15&ceid=en:en&hl=en-en&gl=en -> https://news.google.com/rss/search?q=martin+heidegger+after:2002-07-13+before:2010-07-15&ceid=US:en&hl=en-US&gl=US\n"
     ]
    },
    {
     "name": "stdout",
     "output_type": "stream",
     "text": [
      "Number of articles retrieved: 9\n",
      "9\n"
     ]
    }
   ],
   "source": [
    "articles_en = get_news_meta_data('martin heidegger', '2002-07-13', '2010-07-15', 'en')\n",
    "articles_en = news_items_to_dict(articles_en)\n",
    "print(len(articles_en))\n",
    "articles_en = build_corpus(articles_en)\n",
    "#common_words = create_display_lda(articles_en, 'english', 3000, 1, 10)"
   ]
  },
  {
   "cell_type": "code",
   "execution_count": 5,
   "id": "2e0ded58-da45-4f0e-b84b-463b19c14fde",
   "metadata": {},
   "outputs": [
    {
     "name": "stdout",
     "output_type": "stream",
     "text": [
      "['one', 'heidegger', 'human', 'philosophy', 'world', 'would', 'death', 'martin', 'hannah', 'arendt']\n"
     ]
    }
   ],
   "source": [
    "print(common_words)\n",
    "\n",
    "#an object containing the related terms to this concept.\n",
    "obj = requests.get('http://api.conceptnet.io/related/c/en/' + common_words[8] + '?filter=/c/en').json()"
   ]
  },
  {
   "cell_type": "code",
   "execution_count": 6,
   "id": "d5c304ed-293b-4fbc-8a2d-0dacfa88d38a",
   "metadata": {},
   "outputs": [
    {
     "data": {
      "text/plain": [
       "'/c/en/sadie'"
      ]
     },
     "execution_count": 6,
     "metadata": {},
     "output_type": "execute_result"
    }
   ],
   "source": [
    "obj['related'][1]['@id']"
   ]
  },
  {
   "cell_type": "code",
   "execution_count": 32,
   "id": "7605ff2e-2a08-432b-92d0-e3b0264bac94",
   "metadata": {},
   "outputs": [],
   "source": [
    "from nltk.collocations import *\n",
    "\n",
    "bigram_measures = nltk.collocations.BigramAssocMeasures()\n",
    "finder = BigramCollocationFinder.from_words(tokenize_articles(articles_en))\n",
    "finder.apply_freq_filter(7)"
   ]
  },
  {
   "cell_type": "code",
   "execution_count": 33,
   "id": "fc791691-d50f-4e71-880b-835559c8d8cc",
   "metadata": {},
   "outputs": [
    {
     "data": {
      "text/plain": [
       "[('SUBSCRIBE', 'NOW'),\n",
       " ('please', 'SUBSCRIBE'),\n",
       " ('global', 'warming'),\n",
       " ('free', 'per'),\n",
       " ('complete', 'access'),\n",
       " ('Bill', 'Griffith'),\n",
       " ('Your', 'complimentary'),\n",
       " ('per', 'month'),\n",
       " ('complimentary', 'articles'),\n",
       " ('four', 'complimentary'),\n",
       " ('Freiburg', 'University'),\n",
       " ('articles', 'free'),\n",
       " ('ve', 'read'),\n",
       " ('your', 'four'),\n",
       " ('four', 'articles'),\n",
       " ('read', 'four'),\n",
       " ('Advertisement', 'Advertisement'),\n",
       " ('human', 'beings'),\n",
       " ('natural', 'world'),\n",
       " ('analytic', 'philosophers')]"
      ]
     },
     "execution_count": 33,
     "metadata": {},
     "output_type": "execute_result"
    }
   ],
   "source": [
    "finder.nbest(bigram_measures.pmi, 20)"
   ]
  },
  {
   "cell_type": "code",
   "execution_count": 36,
   "id": "f9174fda-5d5e-49dd-b80f-935e95380be1",
   "metadata": {},
   "outputs": [
    {
     "data": {
      "text/plain": [
       "'Will we ever be able to think of Hannah Arendt in the same way again? Two new and damning critiques, one of Arendt and one of her longtime Nazi-sycophant lover, the philosopher Martin Heidegger, were published within 10 days of each other last month. The pieces cast further doubt on the overinflated, underexamined reputations of both figures and shed new light on their intellectually toxic relationship.\\n\\nMy hope is that these revelations will encourage a further discrediting of the most overused, misused, abused pseudo-intellectual phrase in our language: the banality of evil. The banality of the banality of evil, the fatuousness of it, has long been fathomless, but perhaps now it will be consigned to the realm of the deceitful and disingenuous as well.\\n\\nAdvertisement\\n\\nThe first of the two new reports—and the one most overlooked here in America, perhaps because it’s not online—appeared in the sober pages of London’s Times Literary Supplement on Oct. 9. It was titled “Blame the Victim—Hannah Arendt Among the Nazis: the Historian and Her Sources.” Arendt—the German-born refugee intellectual, author of the influential The Origins of Totalitarianism and the controversial Eichmann in Jerusalem: A Report on the Banality of Evil—has come under fire before for “blaming the victim” in her Eichmann trial book, but the author of the TLS piece, the distinguished British scholar Bernard Wasserstein, breaks new ground here with material I found shocking.\\n\\nAdvertisement\\n\\nAdvertisement\\n\\nAdvertisement\\n\\nIn a long, carefully documented essay, Wasserstein (who’s now at the University of Chicago), cites Arendt’s scandalous use of quotes from anti-Semitic and Nazi “authorities” on Jews in her Totalitarianism book.\\n\\nAdvertisement\\n\\nAdvertisement\\n\\nWasserstein concludes that her use of these sources was “more than a methodological error: it was symptomatic of a perverse world-view contaminated by over-exposure to the discourse of collective contempt and stigmatization that formed the object of her study”—that object being anti-Semitism. In other words, he contends, Arendt internalized the values of the anti-Semitic literature she read in her study of anti-Semitism, at least to a certain extent. Wasserstein’s conjecture will reignite the debate over Arendt’s contemptuous remarks on certain Jews who were victims of Hitler in her Eichmann book and in her letters.\\n\\nCould these revelations help banish the robotic reiteration of the phrase the banality of evil as an explanation for everything bad that human beings do? Arendt may not have intended that the phrase be used this way, but one of its pernicious effects has been to make it seem as though the search for an explanation of the mystery of evil done by “ordinary men” is over. As though by naming it somehow explains it and even solves the problem. It’s a phrase that sounds meaningful and lets us off the hook, allows us to avoid facing the difficult question.\\n\\nAdvertisement\\n\\nAdvertisement\\n\\nIt was the banality phrase—and the purported profundity of it in the popular mind—that elevated Arendt above the ranks of her fellow exile intellectuals in America and made her a proto-Sontag figure, a cerebral star of sorts and a revered icon in cultural-studies departments throughout America. It was the phrase that launched a thousand theses.\\n\\nTo my mind, the use of the phrase banality of evil is an almost infallible sign of shallow thinkers attempting to seem intellectually sophisticated. Come on, people: It’s a bankrupt phrase, a subprime phrase, a Dr. Phil-level phrase masquerading as a profound contrarianism. Oooh, so daring! Evil comes not only in the form of mustache-twirling Snidely Whiplash types, but in the form of paper pushers who followed evil orders. And when applied—as she originally did to Adolf Eichmann, Hitler’s eager executioner, responsible for the logistics of the Final Solution—the phrase was utterly fraudulent.\\n\\nAdvertisement\\n\\nAdvertisement\\n\\nAdvertisement\\n\\nAdvertisement\\n\\nAdolf Eichmann was, of course, in no way a banal bureaucrat: He just portrayed himself as one while on trial for his life. Eichmann was a vicious and loathsome Jew-hater and -hunter who, among other things, personally intervened after the war was effectively lost, to insist on and ensure the mass murder of the last intact Jewish group in Europe, those of Hungary. So the phrase was wrong in its origin, as applied to Eichmann, and wrong in almost all subsequent cases when applied generally. Wrong and self-contradictory, linguistically, philosophically, and metaphorically. Either one knows what one is doing is evil or one does not. If one knows and does it anyway, one is evil, not some special subcategory of evil. If one doesn’t know, one is ignorant, and not evil. But genuine ignorance is rare when evil is going on.\\n\\nAdvertisement\\n\\nAdvertisement\\n\\nAdvertisement\\n\\nArendt should have stuck with her original formulation for the Nazi crimes, “radical evil.” Not an easy concept to define, but, you might say, you know it when you see it. Certainly one with more validity than banality. (Wasserstein dryly notes that “her epigones have tried valiantly to reconcile the two positions, she herself recognized the inconsistency”—between radical and banal evil—”but never satisfactorily resolved the fundamental self-contradiction.”) But Arendt fled from radical evil into banality in more ways than one.\\n\\nWhere the Wasserstein article breaks new ground is in his citation of some of the anti-Semitic sources Arendt used for what is considered her major work, The Origins of Totalitarianism. Of course, Arendt has been called hostile to Jews, particularly those who lack the Germanic acculturation she was so proud of.\\n\\nAdvertisement\\n\\nBut The Origins of Totalitarianism has not, until now, come under fire on these grounds. And I must say that even though it’s a book massively bloated by irrelevant show-your-work history, it serves as ballast for an important theoretical insight: that the similarities among police-state surveillance regimes are more important than the differences, that the similarities can be summed up by a single word—totalitarianism—that applies to dictatorships of the left and right, of any ideology and by extension any theocratic regime or movement.\\n\\nAdvertisement\\n\\nAdvertisement\\n\\nIt’s a concept that has great relevance right now because there are still those who don’t understand how theocratic police states can be called “fascist.” Duh! It’s because they’re totalitarian. Whatever religion they profess, what they share with past fascist regimes is greater—in terms of denial of human rights—than what separates them. Just as political regimes adopt religious-type totalist worship of the state or the leader to enforce their oppression, religious or theocratic regimes adopt political oppression to enforce their orthodoxies.\\n\\nAdvertisement\\n\\nBut Wasserstein (who ironically delivered his conclusions originally at “the Hannah Arendt Lecture” at Holland’s Radboud Universiteit, Nijmegen in December 2008—probably not what they expected) has found some problems in her historical analysis of anti-Semitism.\\n\\nHe introduces his findings with a curt nod to the Arendt defenders: “In The New York Review of Books in 2007 Jeremy Waldron reproved the historian Walter Laqueur for having speculated that Arendt ‘had read too much anti-Semitic literature for her own good.’ ” Waldron, Wasserstein observed, “considered the conjecture ‘offensive.’ “\\n\\n“Actually,” Wasserstein continues, “it merits serious consideration, as emerges if we examine the use of sources in her work. Consider, for example, Arendt’s discussion, in the second section of Origins, of the role of Jews in the gold and diamond rushes in South Africa at the turn of the twentieth century. She relies here on the account by the British economist J.A. Hobson in which he referred to Jewish financiers ‘leaving their economic fangs in the carcasses of their prey. They fastened on the Rand … as they are prepared to fasten upon any other spot on the globe’—part of a passage that Arendt quotes with explicit and unironic approval, commending it as ‘very reliable in observation and very honest in analysis.’ “\\n\\nAdvertisement\\n\\nAdvertisement\\n\\nAdvertisement\\n\\nAdvertisement\\n\\nAdvertisement\\n\\n“Fangs”? You say this sounds like pure Hitlerite rhetoric that could have been lifted from Mein Kampf? Well, yes, it does, doesn’t it?\\n\\nAnd then there’s this: “One of her authorities on South African Jews,” Wasserstein reports, is an article by Ernst Schultze, “a longstanding Nazi propagandist, that appeared in … a German publication founded and directed by the prominent Nazi ideologist Alfred Rosenberg.”\\n\\nAnd then “in a new preface [to The Origins of Totalitarianism] written in 1967, Arendt commends the work of the leading Nazi historian Walter Frank … whose ‘contributions,’ ” Wasserstein quotes Arendt, ” ‘can still be consulted with profit.’ “\\n\\nWasserstein wonders about her motives here: “Was she bending over backwards not to be totally dismissive of ideological opponents who despised her on categorical (i.e. racial) grounds?” he asks.\\n\\nAdvertisement\\n\\n“But there must have been more to it than that,” he answers, “because modern Jewish history was the only subject where she repeatedly relied on Nazi historians as external authorities, that is, other than as evidence of what the Nazis themselves thought or did. Moreover she internalized much of what the Nazi historians had to say about Jews, from the ‘parasitism’ of Jewish high finance to the ‘internationalism’ of [Walther] Rathenau [the Weimar German minister assassinated by anti-Semites.]”\\n\\nAdvertisement\\n\\nOf course, there have always been Jewish critiques of Jews. But Arendt’s “aversion clearly ran much deeper” than has been supposed, Wasserstein asserts. He concludes his piece by wondering, “Why?”\\n\\nI believe the new Heidegger revelations may shed some light on that question. It’s always been controversial to discuss Arendt’s lifelong romantic infatuation with the Nazi-sympathizing professor and how it might have shaped her intellectual positions. Arendt’s defenders dismiss these as “tabloid” concerns, irrelevant to the purported transcendental purity of her thought.\\n\\nAdvertisement\\n\\nBut leaving Heidegger out of the equation is becoming ever more difficult. Not only did Arendt have an affair with him when she was an 18-year-old student about half his age, before Hitler took over, but despite his public exaltation of the Fuhrer, despite his firing Jews once he became rector of Freiburg University. We now know that she later resumed some kind of warm relationship with the brownshirt philosopher (yes, it turns out he often wore one to his lectures). Arendt helped usher Heidegger back into the intellectual version of polite society, indeed assisted in preventing his ostracism as a Hitlerite, at least by those who considered his notoriously opaque use of philosophical language to offer something of value beneath it—apart from further opacity.\\n\\nAdvertisement\\n\\nAdvertisement\\n\\nAdvertisement\\n\\nAdvertisement\\n\\nThe new Heidegger material offers further evidence of his slavish devotion to the Fuhrer, not merely in his public speeches but also in his desire to find a philosophical grounding for Hitlerism in the elevated realms of his thought.\\n\\nConsider this quotation from a delightfully acerbic review essay by Carlin Romano in the Oct. 18 Chronicle of Higher Education,which discusses new revelations about Heidegger’s shameless adoption of Nazism.\\n\\nNext month Yale University Press will issue an English-language translation of Heidegger: The Introduction of Nazism Into Philosophy, by Emmanuel Faye, an associate professor at the University of Paris at Nanterre. It’s the latest, most comprehensive archival assault on the ostensibly magisterial thinker who informed Freiburg students in his infamous 1933 rectoral address of Nazism’s “inner truth and greatness,” declaring that “the Führer, and he alone, is the present and future of German reality, and its law.”Faye, whose book stirred France’s red and blue Heidegger départements into direct battle a few years back, follows in the investigative footsteps of Chilean-Jewish philosopher Victor Farias (Heidegger et le Nazisme, 1987), historian Hugo Ott (Martin Heidegger: Unterwegs zu Zeiner Biographie, 1988) and others. Aim? To expose the oafish metaphysician’s vulgar, often vicious 1930s attempt to become Hitler’s chief academic tribune, and his post-World War II contortions to escape proper judgment for his sins. “We now know,” reports Faye, “that [Heidegger’s] attempt at self-justification of 1945 is nothing but a string of falsehoods.”\\n\\nAdvertisement\\n\\nAdvertisement\\n\\nRomano’s Chronicle piece generated an often-furious comments thread, a spectacle of postmodernists in temper tantrum mode.\\n\\nI can understand the splenetic attacks on Romano for not taking Heidegger seriously, although the angry Heideggerian academics never explained exactly why we should.\\n\\nIn general, I’m in favor of separating the man (or woman) from the work, but it was Heidegger himself,his defenders don’t seem to recognize, who claimed Nazism for his own. He didn’t make the separation between man and philosophy that they conveniently claim to excuse his personal racism.\\n\\nAdvertisement\\n\\nThe debate about Heidegger reminded me of a conversation I had with philosopher Berel Lang on “the evolution of evil,” an exchange I wrote about in Explaining Hitler. We discussed whether Hitler represented a new depth of evil and what the next step down into the abyss might be. Were there degrees of evil—that led to Hitler? And would Hitler lead to degrees of evil beyond his own? I had suggested Holocaust denial was such a next step, in the sense that it added insult to injury, but Lang disagreed, arguing that Heidegger’s postwar silence on Nazism exemplified the next step in the evolution of evil. After the war, this purportedly great and comprehensive philosopher never published anything that addressed the fact of the Holocaust that his party perpetrated. It just didn’t impinge on his worldview. He had time to write polemics against mechanized agriculture but not industrialized murder. Lang thought Heidegger’s indifference was a whole new kind of evil. (He even wrote a book called Heidegger’s Silence.)\\n\\nAdvertisement\\n\\nAdvertisement\\n\\nAdvertisement\\n\\nWhich brings us back to Arendt again. As the extent of Heidegger’s enthusiastic embrace of Nazism becomes more apparent, and as it becomes ever clearer that the allegiance was not merely opportunistic and careerist but derived from a philosophical affinity with his Fuhrer’s effusions, it becomes impossible not to reexamine certain questions. Such as: How much did Arendt know about the depth of Heidegger’s allegiance? Did Heidegger lie to her? Did she believe him the way she believed Eichmann? Did she assume his complicity with the genocidaires was something careerist and banal? Or worse, did she know? And did she disingenuously (or self-deceptively) construct her false banal Eichmann from her false banal Heidegger?\\n\\nWriter Paul Roazen once speculated on this question:\\n\\nAdvertisement\\n\\nIf Eichmann was simply following orders, and his conduct was certifiably normal within the context of Nazi Germany, her own defense of Heidegger can reflect the way a social thinker such as herself might be conditioned by circumstances and advantage to curry favor in the midst of the most vile forms of evil. Having as a Jew escaped from Germany in 1933, Arendt remained for the rest of her life loyal to the whole philosophic tradition that had helped lead to Hitlerism. …\\n\\nAdvertisement\\n\\nAdvertisement\\n\\nIt may forever remain a mystery, even more so now. Wasserstein believes she internalized anti-Semitic literature; I would perhaps modify this to say she internalized the purported universalism of Germanic high culture with its disdain for parochialism. A parochialism she identified with, in her own case, her Jewishness, something she felt ashamed of on intellectual grounds, so primitive, this tribal allegiance in the presence of intellects who supposedly transcended tribalism (or at least all tribes except the Teutonic).\\n\\nOne can still hear this Arendtian shame about ethnicity these days. So parochial! One can hear the echo of Arendt’s fear of being judged as “merely Jewish” in some, not all, of those Jews so eager to dissociate themselves from the parochial concerns of other Jews for Israel. The desire for universalist approval makes them so disdainful of any “ethnic” fellow feeling. After all, to such unfettered spirits, it’s so banal.'"
      ]
     },
     "execution_count": 36,
     "metadata": {},
     "output_type": "execute_result"
    }
   ],
   "source": [
    "articles_en[3]"
   ]
  },
  {
   "cell_type": "code",
   "execution_count": null,
   "id": "560080cd-bd76-412c-b508-815be18a3705",
   "metadata": {},
   "outputs": [],
   "source": []
  }
 ],
 "metadata": {
  "kernelspec": {
   "display_name": "Python 3",
   "language": "python",
   "name": "python3"
  },
  "language_info": {
   "codemirror_mode": {
    "name": "ipython",
    "version": 3
   },
   "file_extension": ".py",
   "mimetype": "text/x-python",
   "name": "python",
   "nbconvert_exporter": "python",
   "pygments_lexer": "ipython3",
   "version": "3.9.5"
  }
 },
 "nbformat": 4,
 "nbformat_minor": 5
}
