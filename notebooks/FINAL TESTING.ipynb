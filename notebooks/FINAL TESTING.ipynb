{
 "cells": [
  {
   "cell_type": "code",
   "execution_count": null,
   "id": "1d5ff39a-1e5d-45c2-a32b-f4626ab7deb6",
   "metadata": {},
   "outputs": [
    {
     "name": "stdout",
     "output_type": "stream",
     "text": [
      "0 93\r"
     ]
    }
   ],
   "source": [
    "import time\n",
    "i=0\n",
    "ju1_1_4_fr = []\n",
    "while len(ju1_1_4_fr) < 100:\n",
    "    aug1 = nlp.get_news_meta_data('inde', '2022-07-01', '2022-07-04', language='fr')\n",
    "    time.sleep(1)\n",
    "    print(len(ju1_1_4_fr), i, end='\\r')\n",
    "    i+=1\n",
    "len(ju1_1_4_fr)"
   ]
  },
  {
   "cell_type": "code",
   "execution_count": 1,
   "id": "0719c2c5-0aac-48d2-8cd9-f47c8c2f0d13",
   "metadata": {},
   "outputs": [
    {
     "name": "stdout",
     "output_type": "stream",
     "text": [
      "2022-08-15\n",
      "2022-08-16\n",
      "Querying en articles...\n",
      "Number of articles retrieved: 100\n",
      "Building corpus from 100 articles...\n",
      "Progress: 2.00 %    Fail Rate: 0.00 %  \r"
     ]
    },
    {
     "name": "stderr",
     "output_type": "stream",
     "text": [
      "c:\\python\\python39\\lib\\site-packages\\dateutil\\parser\\_parser.py:1207: UnknownTimezoneWarning: tzname PST identified but not understood.  Pass `tzinfos` argument in order to correctly return a timezone-aware datetime.  In a future version, this will raise an exception.\n",
      "  warnings.warn(\"tzname {tzname} identified but not understood.  \"\n"
     ]
    },
    {
     "name": "stdout",
     "output_type": "stream",
     "text": [
      "Complete              Fail Rate: 5.00 %  \n",
      "\n",
      "\n",
      "\n",
      "Querying fr articles...\n",
      "Number of articles retrieved: 98\n",
      "Building corpus from 98 articles...\n",
      "Complete              Fail Rate: 8.16 %  \n",
      "\n",
      "\n",
      "\n",
      "2022-08-16\n",
      "2022-08-17\n",
      "Querying en articles...\n",
      "Number of articles retrieved: 100\n",
      "Building corpus from 100 articles...\n",
      "Complete              Fail Rate: 7.00 %  \n",
      "\n",
      "\n",
      "\n",
      "Querying fr articles...\n",
      "Number of articles retrieved: 100\n",
      "Building corpus from 100 articles...\n",
      "Complete              Fail Rate: 4.00 %  \n",
      "\n",
      "\n",
      "\n",
      "2022-08-17\n",
      "2022-08-18\n",
      "Querying en articles...\n",
      "Number of articles retrieved: 100\n",
      "Building corpus from 100 articles...\n",
      "Complete              Fail Rate: 10.00 %  \n",
      "\n",
      "\n",
      "\n",
      "Querying fr articles...\n",
      "Number of articles retrieved: 100\n",
      "Building corpus from 100 articles...\n",
      "Complete              Fail Rate: 0.00 %  \n",
      "\n",
      "\n",
      "\n",
      "2022-08-18\n",
      "2022-08-19\n",
      "Querying en articles...\n",
      "Number of articles retrieved: 100\n",
      "Building corpus from 100 articles...\n",
      "Complete              Fail Rate: 11.00 %  \n",
      "\n",
      "\n",
      "\n",
      "Querying fr articles...\n",
      "Number of articles retrieved: 100\n",
      "Building corpus from 100 articles...\n",
      "Complete              Fail Rate: 7.00 %  \n",
      "\n",
      "\n",
      "\n",
      "2022-08-19\n",
      "2022-08-20\n",
      "Querying en articles...\n",
      "Number of articles retrieved: 100\n",
      "Building corpus from 100 articles...\n",
      "Complete              Fail Rate: 9.00 %  \n",
      "\n",
      "\n",
      "\n",
      "Querying fr articles...\n",
      "Number of articles retrieved: 100\n",
      "Building corpus from 100 articles...\n",
      "Complete              Fail Rate: 5.00 %  \n",
      "\n",
      "\n",
      "\n",
      "2022-08-20\n",
      "2022-08-21\n",
      "Querying en articles...\n",
      "Number of articles retrieved: 100\n",
      "Building corpus from 100 articles...\n",
      "Complete              Fail Rate: 13.00 %  \n",
      "\n",
      "\n",
      "\n",
      "Querying fr articles...\n",
      "Number of articles retrieved: 100\n",
      "Building corpus from 100 articles...\n",
      "Complete              Fail Rate: 7.00 %  \n",
      "\n",
      "\n",
      "\n",
      "2022-08-21\n",
      "2022-08-22\n",
      "Querying en articles...\n",
      "Number of articles retrieved: 100\n",
      "Building corpus from 100 articles...\n",
      "Complete              Fail Rate: 10.00 %  \n",
      "\n",
      "\n",
      "\n",
      "Querying fr articles...\n",
      "Number of articles retrieved: 100\n",
      "Building corpus from 100 articles...\n",
      "Complete              Fail Rate: 13.00 %  \n",
      "\n",
      "\n",
      "\n",
      "2022-08-22\n",
      "2022-08-23\n",
      "Querying en articles...\n",
      "Number of articles retrieved: 100\n",
      "Building corpus from 100 articles...\n",
      "Complete              Fail Rate: 9.00 %  \n",
      "\n",
      "\n",
      "\n",
      "Querying fr articles...\n",
      "Number of articles retrieved: 100\n",
      "Building corpus from 100 articles...\n",
      "Complete              Fail Rate: 9.00 %  \n",
      "\n",
      "\n",
      "\n",
      "2022-08-23\n",
      "2022-08-24\n",
      "Querying en articles...\n",
      "Number of articles retrieved: 100\n",
      "Building corpus from 100 articles...\n",
      "Complete              Fail Rate: 7.00 %  \n",
      "\n",
      "\n",
      "\n",
      "Querying fr articles...\n",
      "Number of articles retrieved: 100\n",
      "Building corpus from 100 articles...\n",
      "Complete              Fail Rate: 6.00 %  \n",
      "\n",
      "\n",
      "\n",
      "2022-08-24\n",
      "2022-08-25\n",
      "Querying en articles...\n",
      "Number of articles retrieved: 100\n",
      "Building corpus from 100 articles...\n",
      "Complete              Fail Rate: 9.00 %  \n",
      "\n",
      "\n",
      "\n",
      "Querying fr articles...\n",
      "Number of articles retrieved: 100\n",
      "Building corpus from 100 articles...\n",
      "Complete              Fail Rate: 6.00 %  \n",
      "\n",
      "\n",
      "\n"
     ]
    },
    {
     "data": {
      "application/json": {
       "ascii": false,
       "bar_format": null,
       "colour": null,
       "elapsed": 0.020946025848388672,
       "initial": 0,
       "n": 0,
       "ncols": null,
       "nrows": 29,
       "postfix": null,
       "prefix": "Downloading https://raw.githubusercontent.com/stanfordnlp/stanza-resources/main/resources_1.4.0.json",
       "rate": null,
       "total": 25998,
       "unit": "B",
       "unit_divisor": 1000,
       "unit_scale": true
      },
      "application/vnd.jupyter.widget-view+json": {
       "model_id": "e1310a3248d345bca105971be050634d",
       "version_major": 2,
       "version_minor": 0
      },
      "text/plain": [
       "Downloading https://raw.githubusercontent.com/stanfordnlp/stanza-resources/main/resources_1.4.0.json:   0%|   …"
      ]
     },
     "metadata": {},
     "output_type": "display_data"
    },
    {
     "name": "stderr",
     "output_type": "stream",
     "text": [
      "2022-09-01 16:33:15 INFO: Loading these models for language: en (English):\n",
      "========================\n",
      "| Processor | Package  |\n",
      "------------------------\n",
      "| tokenize  | combined |\n",
      "| pos       | combined |\n",
      "| lemma     | combined |\n",
      "========================\n",
      "\n",
      "2022-09-01 16:33:15 INFO: Use device: cpu\n",
      "2022-09-01 16:33:15 INFO: Loading: tokenize\n",
      "2022-09-01 16:33:15 INFO: Loading: pos\n",
      "2022-09-01 16:33:15 INFO: Loading: lemma\n",
      "2022-09-01 16:33:15 INFO: Done loading processors!\n"
     ]
    },
    {
     "name": "stdout",
     "output_type": "stream",
     "text": [
      "Tagged corpus created from NLP pipeline.\n",
      "\n",
      "\n",
      "\n",
      "\n"
     ]
    },
    {
     "data": {
      "application/json": {
       "ascii": false,
       "bar_format": null,
       "colour": null,
       "elapsed": 0.013962507247924805,
       "initial": 0,
       "n": 0,
       "ncols": null,
       "nrows": 29,
       "postfix": null,
       "prefix": "Downloading https://raw.githubusercontent.com/stanfordnlp/stanza-resources/main/resources_1.4.0.json",
       "rate": null,
       "total": 25998,
       "unit": "B",
       "unit_divisor": 1000,
       "unit_scale": true
      },
      "application/vnd.jupyter.widget-view+json": {
       "model_id": "a8e3bbd66dcf4e4a9830699e15398443",
       "version_major": 2,
       "version_minor": 0
      },
      "text/plain": [
       "Downloading https://raw.githubusercontent.com/stanfordnlp/stanza-resources/main/resources_1.4.0.json:   0%|   …"
      ]
     },
     "metadata": {},
     "output_type": "display_data"
    },
    {
     "name": "stderr",
     "output_type": "stream",
     "text": [
      "2022-09-01 16:34:05 INFO: Loading these models for language: en (English):\n",
      "========================\n",
      "| Processor | Package  |\n",
      "------------------------\n",
      "| tokenize  | combined |\n",
      "| pos       | combined |\n",
      "| lemma     | combined |\n",
      "========================\n",
      "\n",
      "2022-09-01 16:34:05 INFO: Use device: cpu\n",
      "2022-09-01 16:34:05 INFO: Loading: tokenize\n",
      "2022-09-01 16:34:05 INFO: Loading: pos\n",
      "2022-09-01 16:34:05 INFO: Loading: lemma\n",
      "2022-09-01 16:34:05 INFO: Done loading processors!\n"
     ]
    },
    {
     "name": "stdout",
     "output_type": "stream",
     "text": [
      "Tagged corpus created from NLP pipeline.\n",
      "\n",
      "\n",
      "\n",
      "\n"
     ]
    },
    {
     "data": {
      "application/json": {
       "ascii": false,
       "bar_format": null,
       "colour": null,
       "elapsed": 0.013962268829345703,
       "initial": 0,
       "n": 0,
       "ncols": null,
       "nrows": 29,
       "postfix": null,
       "prefix": "Downloading https://raw.githubusercontent.com/stanfordnlp/stanza-resources/main/resources_1.4.0.json",
       "rate": null,
       "total": 25998,
       "unit": "B",
       "unit_divisor": 1000,
       "unit_scale": true
      },
      "application/vnd.jupyter.widget-view+json": {
       "model_id": "8d3ef3f66c134154a379427250729427",
       "version_major": 2,
       "version_minor": 0
      },
      "text/plain": [
       "Downloading https://raw.githubusercontent.com/stanfordnlp/stanza-resources/main/resources_1.4.0.json:   0%|   …"
      ]
     },
     "metadata": {},
     "output_type": "display_data"
    },
    {
     "name": "stderr",
     "output_type": "stream",
     "text": [
      "2022-09-01 16:34:52 INFO: Loading these models for language: en (English):\n",
      "========================\n",
      "| Processor | Package  |\n",
      "------------------------\n",
      "| tokenize  | combined |\n",
      "| pos       | combined |\n",
      "| lemma     | combined |\n",
      "========================\n",
      "\n",
      "2022-09-01 16:34:52 INFO: Use device: cpu\n",
      "2022-09-01 16:34:52 INFO: Loading: tokenize\n",
      "2022-09-01 16:34:52 INFO: Loading: pos\n",
      "2022-09-01 16:34:52 INFO: Loading: lemma\n",
      "2022-09-01 16:34:52 INFO: Done loading processors!\n"
     ]
    },
    {
     "name": "stdout",
     "output_type": "stream",
     "text": [
      "Tagged corpus created from NLP pipeline.\n",
      "\n",
      "\n",
      "\n",
      "\n"
     ]
    },
    {
     "data": {
      "application/json": {
       "ascii": false,
       "bar_format": null,
       "colour": null,
       "elapsed": 0.013995170593261719,
       "initial": 0,
       "n": 0,
       "ncols": null,
       "nrows": 29,
       "postfix": null,
       "prefix": "Downloading https://raw.githubusercontent.com/stanfordnlp/stanza-resources/main/resources_1.4.0.json",
       "rate": null,
       "total": 25998,
       "unit": "B",
       "unit_divisor": 1000,
       "unit_scale": true
      },
      "application/vnd.jupyter.widget-view+json": {
       "model_id": "94bda3c8783a460ca23a6d0d120974f4",
       "version_major": 2,
       "version_minor": 0
      },
      "text/plain": [
       "Downloading https://raw.githubusercontent.com/stanfordnlp/stanza-resources/main/resources_1.4.0.json:   0%|   …"
      ]
     },
     "metadata": {},
     "output_type": "display_data"
    },
    {
     "name": "stderr",
     "output_type": "stream",
     "text": [
      "2022-09-01 16:35:42 INFO: Loading these models for language: en (English):\n",
      "========================\n",
      "| Processor | Package  |\n",
      "------------------------\n",
      "| tokenize  | combined |\n",
      "| pos       | combined |\n",
      "| lemma     | combined |\n",
      "========================\n",
      "\n",
      "2022-09-01 16:35:42 INFO: Use device: cpu\n",
      "2022-09-01 16:35:42 INFO: Loading: tokenize\n",
      "2022-09-01 16:35:42 INFO: Loading: pos\n",
      "2022-09-01 16:35:42 INFO: Loading: lemma\n",
      "2022-09-01 16:35:42 INFO: Done loading processors!\n"
     ]
    },
    {
     "name": "stdout",
     "output_type": "stream",
     "text": [
      "Tagged corpus created from NLP pipeline.\n",
      "\n",
      "\n",
      "\n",
      "\n"
     ]
    },
    {
     "data": {
      "application/json": {
       "ascii": false,
       "bar_format": null,
       "colour": null,
       "elapsed": 0.014960289001464844,
       "initial": 0,
       "n": 0,
       "ncols": null,
       "nrows": 29,
       "postfix": null,
       "prefix": "Downloading https://raw.githubusercontent.com/stanfordnlp/stanza-resources/main/resources_1.4.0.json",
       "rate": null,
       "total": 25998,
       "unit": "B",
       "unit_divisor": 1000,
       "unit_scale": true
      },
      "application/vnd.jupyter.widget-view+json": {
       "model_id": "b7288ea0bf3e4aafa024e66b3954c14f",
       "version_major": 2,
       "version_minor": 0
      },
      "text/plain": [
       "Downloading https://raw.githubusercontent.com/stanfordnlp/stanza-resources/main/resources_1.4.0.json:   0%|   …"
      ]
     },
     "metadata": {},
     "output_type": "display_data"
    },
    {
     "name": "stderr",
     "output_type": "stream",
     "text": [
      "2022-09-01 16:36:52 INFO: Loading these models for language: en (English):\n",
      "========================\n",
      "| Processor | Package  |\n",
      "------------------------\n",
      "| tokenize  | combined |\n",
      "| pos       | combined |\n",
      "| lemma     | combined |\n",
      "========================\n",
      "\n",
      "2022-09-01 16:36:52 INFO: Use device: cpu\n",
      "2022-09-01 16:36:52 INFO: Loading: tokenize\n",
      "2022-09-01 16:36:52 INFO: Loading: pos\n",
      "2022-09-01 16:36:52 INFO: Loading: lemma\n",
      "2022-09-01 16:36:52 INFO: Done loading processors!\n"
     ]
    },
    {
     "name": "stdout",
     "output_type": "stream",
     "text": [
      "Tagged corpus created from NLP pipeline.\n",
      "\n",
      "\n",
      "\n",
      "\n"
     ]
    },
    {
     "data": {
      "application/json": {
       "ascii": false,
       "bar_format": null,
       "colour": null,
       "elapsed": 0.013963460922241211,
       "initial": 0,
       "n": 0,
       "ncols": null,
       "nrows": 29,
       "postfix": null,
       "prefix": "Downloading https://raw.githubusercontent.com/stanfordnlp/stanza-resources/main/resources_1.4.0.json",
       "rate": null,
       "total": 25998,
       "unit": "B",
       "unit_divisor": 1000,
       "unit_scale": true
      },
      "application/vnd.jupyter.widget-view+json": {
       "model_id": "4ad41ac47ab94cab96c64b2a6627a04b",
       "version_major": 2,
       "version_minor": 0
      },
      "text/plain": [
       "Downloading https://raw.githubusercontent.com/stanfordnlp/stanza-resources/main/resources_1.4.0.json:   0%|   …"
      ]
     },
     "metadata": {},
     "output_type": "display_data"
    },
    {
     "name": "stderr",
     "output_type": "stream",
     "text": [
      "2022-09-01 16:37:40 INFO: Loading these models for language: en (English):\n",
      "========================\n",
      "| Processor | Package  |\n",
      "------------------------\n",
      "| tokenize  | combined |\n",
      "| pos       | combined |\n",
      "| lemma     | combined |\n",
      "========================\n",
      "\n",
      "2022-09-01 16:37:41 INFO: Use device: cpu\n",
      "2022-09-01 16:37:41 INFO: Loading: tokenize\n",
      "2022-09-01 16:37:41 INFO: Loading: pos\n",
      "2022-09-01 16:37:41 INFO: Loading: lemma\n",
      "2022-09-01 16:37:41 INFO: Done loading processors!\n"
     ]
    },
    {
     "name": "stdout",
     "output_type": "stream",
     "text": [
      "Tagged corpus created from NLP pipeline.\n",
      "\n",
      "\n",
      "\n",
      "\n"
     ]
    },
    {
     "data": {
      "application/json": {
       "ascii": false,
       "bar_format": null,
       "colour": null,
       "elapsed": 0.0139617919921875,
       "initial": 0,
       "n": 0,
       "ncols": null,
       "nrows": 29,
       "postfix": null,
       "prefix": "Downloading https://raw.githubusercontent.com/stanfordnlp/stanza-resources/main/resources_1.4.0.json",
       "rate": null,
       "total": 25998,
       "unit": "B",
       "unit_divisor": 1000,
       "unit_scale": true
      },
      "application/vnd.jupyter.widget-view+json": {
       "model_id": "2664bce45e5040279b8f016ad98b3705",
       "version_major": 2,
       "version_minor": 0
      },
      "text/plain": [
       "Downloading https://raw.githubusercontent.com/stanfordnlp/stanza-resources/main/resources_1.4.0.json:   0%|   …"
      ]
     },
     "metadata": {},
     "output_type": "display_data"
    },
    {
     "name": "stderr",
     "output_type": "stream",
     "text": [
      "2022-09-01 16:38:27 INFO: Loading these models for language: en (English):\n",
      "========================\n",
      "| Processor | Package  |\n",
      "------------------------\n",
      "| tokenize  | combined |\n",
      "| pos       | combined |\n",
      "| lemma     | combined |\n",
      "========================\n",
      "\n",
      "2022-09-01 16:38:27 INFO: Use device: cpu\n",
      "2022-09-01 16:38:27 INFO: Loading: tokenize\n",
      "2022-09-01 16:38:27 INFO: Loading: pos\n",
      "2022-09-01 16:38:27 INFO: Loading: lemma\n",
      "2022-09-01 16:38:27 INFO: Done loading processors!\n"
     ]
    },
    {
     "name": "stdout",
     "output_type": "stream",
     "text": [
      "Tagged corpus created from NLP pipeline.\n",
      "\n",
      "\n",
      "\n",
      "\n"
     ]
    },
    {
     "data": {
      "application/json": {
       "ascii": false,
       "bar_format": null,
       "colour": null,
       "elapsed": 0.01514887809753418,
       "initial": 0,
       "n": 0,
       "ncols": null,
       "nrows": 29,
       "postfix": null,
       "prefix": "Downloading https://raw.githubusercontent.com/stanfordnlp/stanza-resources/main/resources_1.4.0.json",
       "rate": null,
       "total": 25998,
       "unit": "B",
       "unit_divisor": 1000,
       "unit_scale": true
      },
      "application/vnd.jupyter.widget-view+json": {
       "model_id": "978213c3b6dd472a92fb851c367a10aa",
       "version_major": 2,
       "version_minor": 0
      },
      "text/plain": [
       "Downloading https://raw.githubusercontent.com/stanfordnlp/stanza-resources/main/resources_1.4.0.json:   0%|   …"
      ]
     },
     "metadata": {},
     "output_type": "display_data"
    },
    {
     "name": "stderr",
     "output_type": "stream",
     "text": [
      "2022-09-01 16:39:11 INFO: Loading these models for language: en (English):\n",
      "========================\n",
      "| Processor | Package  |\n",
      "------------------------\n",
      "| tokenize  | combined |\n",
      "| pos       | combined |\n",
      "| lemma     | combined |\n",
      "========================\n",
      "\n",
      "2022-09-01 16:39:11 INFO: Use device: cpu\n",
      "2022-09-01 16:39:11 INFO: Loading: tokenize\n",
      "2022-09-01 16:39:11 INFO: Loading: pos\n",
      "2022-09-01 16:39:11 INFO: Loading: lemma\n",
      "2022-09-01 16:39:11 INFO: Done loading processors!\n"
     ]
    },
    {
     "name": "stdout",
     "output_type": "stream",
     "text": [
      "Tagged corpus created from NLP pipeline.\n",
      "\n",
      "\n",
      "\n",
      "\n"
     ]
    },
    {
     "data": {
      "application/json": {
       "ascii": false,
       "bar_format": null,
       "colour": null,
       "elapsed": 0.012964963912963867,
       "initial": 0,
       "n": 0,
       "ncols": null,
       "nrows": 29,
       "postfix": null,
       "prefix": "Downloading https://raw.githubusercontent.com/stanfordnlp/stanza-resources/main/resources_1.4.0.json",
       "rate": null,
       "total": 25998,
       "unit": "B",
       "unit_divisor": 1000,
       "unit_scale": true
      },
      "application/vnd.jupyter.widget-view+json": {
       "model_id": "02ec47ecb6cb48db86a2ab9f7aa8f156",
       "version_major": 2,
       "version_minor": 0
      },
      "text/plain": [
       "Downloading https://raw.githubusercontent.com/stanfordnlp/stanza-resources/main/resources_1.4.0.json:   0%|   …"
      ]
     },
     "metadata": {},
     "output_type": "display_data"
    },
    {
     "name": "stderr",
     "output_type": "stream",
     "text": [
      "2022-09-01 16:39:57 INFO: Loading these models for language: en (English):\n",
      "========================\n",
      "| Processor | Package  |\n",
      "------------------------\n",
      "| tokenize  | combined |\n",
      "| pos       | combined |\n",
      "| lemma     | combined |\n",
      "========================\n",
      "\n",
      "2022-09-01 16:39:57 INFO: Use device: cpu\n",
      "2022-09-01 16:39:57 INFO: Loading: tokenize\n",
      "2022-09-01 16:39:57 INFO: Loading: pos\n",
      "2022-09-01 16:39:58 INFO: Loading: lemma\n",
      "2022-09-01 16:39:58 INFO: Done loading processors!\n"
     ]
    },
    {
     "name": "stdout",
     "output_type": "stream",
     "text": [
      "Tagged corpus created from NLP pipeline.\n",
      "\n",
      "\n",
      "\n",
      "\n"
     ]
    },
    {
     "data": {
      "application/json": {
       "ascii": false,
       "bar_format": null,
       "colour": null,
       "elapsed": 0.013963460922241211,
       "initial": 0,
       "n": 0,
       "ncols": null,
       "nrows": 29,
       "postfix": null,
       "prefix": "Downloading https://raw.githubusercontent.com/stanfordnlp/stanza-resources/main/resources_1.4.0.json",
       "rate": null,
       "total": 25998,
       "unit": "B",
       "unit_divisor": 1000,
       "unit_scale": true
      },
      "application/vnd.jupyter.widget-view+json": {
       "model_id": "a273837a20d44ea79e3ea59ca674772e",
       "version_major": 2,
       "version_minor": 0
      },
      "text/plain": [
       "Downloading https://raw.githubusercontent.com/stanfordnlp/stanza-resources/main/resources_1.4.0.json:   0%|   …"
      ]
     },
     "metadata": {},
     "output_type": "display_data"
    },
    {
     "name": "stderr",
     "output_type": "stream",
     "text": [
      "2022-09-01 16:40:47 INFO: Loading these models for language: en (English):\n",
      "========================\n",
      "| Processor | Package  |\n",
      "------------------------\n",
      "| tokenize  | combined |\n",
      "| pos       | combined |\n",
      "| lemma     | combined |\n",
      "========================\n",
      "\n",
      "2022-09-01 16:40:47 INFO: Use device: cpu\n",
      "2022-09-01 16:40:47 INFO: Loading: tokenize\n",
      "2022-09-01 16:40:47 INFO: Loading: pos\n",
      "2022-09-01 16:40:47 INFO: Loading: lemma\n",
      "2022-09-01 16:40:47 INFO: Done loading processors!\n"
     ]
    },
    {
     "name": "stdout",
     "output_type": "stream",
     "text": [
      "Tagged corpus created from NLP pipeline.\n",
      "\n",
      "\n",
      "\n",
      "\n"
     ]
    },
    {
     "data": {
      "application/json": {
       "ascii": false,
       "bar_format": null,
       "colour": null,
       "elapsed": 0.013961076736450195,
       "initial": 0,
       "n": 0,
       "ncols": null,
       "nrows": 29,
       "postfix": null,
       "prefix": "Downloading https://raw.githubusercontent.com/stanfordnlp/stanza-resources/main/resources_1.4.0.json",
       "rate": null,
       "total": 25998,
       "unit": "B",
       "unit_divisor": 1000,
       "unit_scale": true
      },
      "application/vnd.jupyter.widget-view+json": {
       "model_id": "07dd01038e6947ac98fa343000bfc6f4",
       "version_major": 2,
       "version_minor": 0
      },
      "text/plain": [
       "Downloading https://raw.githubusercontent.com/stanfordnlp/stanza-resources/main/resources_1.4.0.json:   0%|   …"
      ]
     },
     "metadata": {},
     "output_type": "display_data"
    },
    {
     "name": "stderr",
     "output_type": "stream",
     "text": [
      "2022-09-01 16:41:34 WARNING: Language fr package default expects mwt, which has been added\n",
      "2022-09-01 16:41:34 INFO: Loading these models for language: fr (French):\n",
      "=======================\n",
      "| Processor | Package |\n",
      "-----------------------\n",
      "| tokenize  | gsd     |\n",
      "| mwt       | gsd     |\n",
      "| pos       | gsd     |\n",
      "| lemma     | gsd     |\n",
      "=======================\n",
      "\n",
      "2022-09-01 16:41:34 INFO: Use device: cpu\n",
      "2022-09-01 16:41:34 INFO: Loading: tokenize\n",
      "2022-09-01 16:41:34 INFO: Loading: mwt\n",
      "2022-09-01 16:41:34 INFO: Loading: pos\n",
      "2022-09-01 16:41:34 INFO: Loading: lemma\n",
      "2022-09-01 16:41:34 INFO: Done loading processors!\n"
     ]
    },
    {
     "name": "stdout",
     "output_type": "stream",
     "text": [
      "Tagged corpus created from NLP pipeline.\n",
      "\n",
      "\n",
      "\n",
      "\n"
     ]
    },
    {
     "data": {
      "application/json": {
       "ascii": false,
       "bar_format": null,
       "colour": null,
       "elapsed": 0.012965917587280273,
       "initial": 0,
       "n": 0,
       "ncols": null,
       "nrows": 29,
       "postfix": null,
       "prefix": "Downloading https://raw.githubusercontent.com/stanfordnlp/stanza-resources/main/resources_1.4.0.json",
       "rate": null,
       "total": 25998,
       "unit": "B",
       "unit_divisor": 1000,
       "unit_scale": true
      },
      "application/vnd.jupyter.widget-view+json": {
       "model_id": "d4b5bf1de84f478bb7ffada42653dfc6",
       "version_major": 2,
       "version_minor": 0
      },
      "text/plain": [
       "Downloading https://raw.githubusercontent.com/stanfordnlp/stanza-resources/main/resources_1.4.0.json:   0%|   …"
      ]
     },
     "metadata": {},
     "output_type": "display_data"
    },
    {
     "name": "stderr",
     "output_type": "stream",
     "text": [
      "2022-09-01 16:42:17 WARNING: Language fr package default expects mwt, which has been added\n",
      "2022-09-01 16:42:17 INFO: Loading these models for language: fr (French):\n",
      "=======================\n",
      "| Processor | Package |\n",
      "-----------------------\n",
      "| tokenize  | gsd     |\n",
      "| mwt       | gsd     |\n",
      "| pos       | gsd     |\n",
      "| lemma     | gsd     |\n",
      "=======================\n",
      "\n",
      "2022-09-01 16:42:17 INFO: Use device: cpu\n",
      "2022-09-01 16:42:17 INFO: Loading: tokenize\n",
      "2022-09-01 16:42:17 INFO: Loading: mwt\n",
      "2022-09-01 16:42:17 INFO: Loading: pos\n",
      "2022-09-01 16:42:17 INFO: Loading: lemma\n",
      "2022-09-01 16:42:17 INFO: Done loading processors!\n"
     ]
    },
    {
     "name": "stdout",
     "output_type": "stream",
     "text": [
      "Tagged corpus created from NLP pipeline.\n",
      "\n",
      "\n",
      "\n",
      "\n"
     ]
    },
    {
     "data": {
      "application/json": {
       "ascii": false,
       "bar_format": null,
       "colour": null,
       "elapsed": 0.012979507446289062,
       "initial": 0,
       "n": 0,
       "ncols": null,
       "nrows": 29,
       "postfix": null,
       "prefix": "Downloading https://raw.githubusercontent.com/stanfordnlp/stanza-resources/main/resources_1.4.0.json",
       "rate": null,
       "total": 25998,
       "unit": "B",
       "unit_divisor": 1000,
       "unit_scale": true
      },
      "application/vnd.jupyter.widget-view+json": {
       "model_id": "52b95bff017542868c2b0ee865f6fe8c",
       "version_major": 2,
       "version_minor": 0
      },
      "text/plain": [
       "Downloading https://raw.githubusercontent.com/stanfordnlp/stanza-resources/main/resources_1.4.0.json:   0%|   …"
      ]
     },
     "metadata": {},
     "output_type": "display_data"
    },
    {
     "name": "stderr",
     "output_type": "stream",
     "text": [
      "2022-09-01 16:43:00 WARNING: Language fr package default expects mwt, which has been added\n",
      "2022-09-01 16:43:01 INFO: Loading these models for language: fr (French):\n",
      "=======================\n",
      "| Processor | Package |\n",
      "-----------------------\n",
      "| tokenize  | gsd     |\n",
      "| mwt       | gsd     |\n",
      "| pos       | gsd     |\n",
      "| lemma     | gsd     |\n",
      "=======================\n",
      "\n",
      "2022-09-01 16:43:01 INFO: Use device: cpu\n",
      "2022-09-01 16:43:01 INFO: Loading: tokenize\n",
      "2022-09-01 16:43:01 INFO: Loading: mwt\n",
      "2022-09-01 16:43:01 INFO: Loading: pos\n",
      "2022-09-01 16:43:01 INFO: Loading: lemma\n",
      "2022-09-01 16:43:01 INFO: Done loading processors!\n"
     ]
    },
    {
     "name": "stdout",
     "output_type": "stream",
     "text": [
      "Tagged corpus created from NLP pipeline.\n",
      "\n",
      "\n",
      "\n",
      "\n"
     ]
    },
    {
     "data": {
      "application/json": {
       "ascii": false,
       "bar_format": null,
       "colour": null,
       "elapsed": 0.014961957931518555,
       "initial": 0,
       "n": 0,
       "ncols": null,
       "nrows": 29,
       "postfix": null,
       "prefix": "Downloading https://raw.githubusercontent.com/stanfordnlp/stanza-resources/main/resources_1.4.0.json",
       "rate": null,
       "total": 25998,
       "unit": "B",
       "unit_divisor": 1000,
       "unit_scale": true
      },
      "application/vnd.jupyter.widget-view+json": {
       "model_id": "1b9bd14232d24d448e90b9e65752b680",
       "version_major": 2,
       "version_minor": 0
      },
      "text/plain": [
       "Downloading https://raw.githubusercontent.com/stanfordnlp/stanza-resources/main/resources_1.4.0.json:   0%|   …"
      ]
     },
     "metadata": {},
     "output_type": "display_data"
    },
    {
     "name": "stderr",
     "output_type": "stream",
     "text": [
      "2022-09-01 16:43:52 WARNING: Language fr package default expects mwt, which has been added\n",
      "2022-09-01 16:43:52 INFO: Loading these models for language: fr (French):\n",
      "=======================\n",
      "| Processor | Package |\n",
      "-----------------------\n",
      "| tokenize  | gsd     |\n",
      "| mwt       | gsd     |\n",
      "| pos       | gsd     |\n",
      "| lemma     | gsd     |\n",
      "=======================\n",
      "\n",
      "2022-09-01 16:43:52 INFO: Use device: cpu\n",
      "2022-09-01 16:43:52 INFO: Loading: tokenize\n",
      "2022-09-01 16:43:52 INFO: Loading: mwt\n",
      "2022-09-01 16:43:52 INFO: Loading: pos\n",
      "2022-09-01 16:43:53 INFO: Loading: lemma\n",
      "2022-09-01 16:43:53 INFO: Done loading processors!\n"
     ]
    },
    {
     "name": "stdout",
     "output_type": "stream",
     "text": [
      "Tagged corpus created from NLP pipeline.\n",
      "\n",
      "\n",
      "\n",
      "\n"
     ]
    },
    {
     "data": {
      "application/json": {
       "ascii": false,
       "bar_format": null,
       "colour": null,
       "elapsed": 0.012908458709716797,
       "initial": 0,
       "n": 0,
       "ncols": null,
       "nrows": 29,
       "postfix": null,
       "prefix": "Downloading https://raw.githubusercontent.com/stanfordnlp/stanza-resources/main/resources_1.4.0.json",
       "rate": null,
       "total": 25998,
       "unit": "B",
       "unit_divisor": 1000,
       "unit_scale": true
      },
      "application/vnd.jupyter.widget-view+json": {
       "model_id": "7f117f4b77bc4bd09cdc03a8854b53e8",
       "version_major": 2,
       "version_minor": 0
      },
      "text/plain": [
       "Downloading https://raw.githubusercontent.com/stanfordnlp/stanza-resources/main/resources_1.4.0.json:   0%|   …"
      ]
     },
     "metadata": {},
     "output_type": "display_data"
    },
    {
     "name": "stderr",
     "output_type": "stream",
     "text": [
      "2022-09-01 16:44:33 WARNING: Language fr package default expects mwt, which has been added\n",
      "2022-09-01 16:44:33 INFO: Loading these models for language: fr (French):\n",
      "=======================\n",
      "| Processor | Package |\n",
      "-----------------------\n",
      "| tokenize  | gsd     |\n",
      "| mwt       | gsd     |\n",
      "| pos       | gsd     |\n",
      "| lemma     | gsd     |\n",
      "=======================\n",
      "\n",
      "2022-09-01 16:44:33 INFO: Use device: cpu\n",
      "2022-09-01 16:44:33 INFO: Loading: tokenize\n",
      "2022-09-01 16:44:33 INFO: Loading: mwt\n",
      "2022-09-01 16:44:33 INFO: Loading: pos\n",
      "2022-09-01 16:44:34 INFO: Loading: lemma\n",
      "2022-09-01 16:44:34 INFO: Done loading processors!\n"
     ]
    },
    {
     "name": "stdout",
     "output_type": "stream",
     "text": [
      "Tagged corpus created from NLP pipeline.\n",
      "\n",
      "\n",
      "\n",
      "\n"
     ]
    },
    {
     "data": {
      "application/json": {
       "ascii": false,
       "bar_format": null,
       "colour": null,
       "elapsed": 0.012996673583984375,
       "initial": 0,
       "n": 0,
       "ncols": null,
       "nrows": 29,
       "postfix": null,
       "prefix": "Downloading https://raw.githubusercontent.com/stanfordnlp/stanza-resources/main/resources_1.4.0.json",
       "rate": null,
       "total": 25998,
       "unit": "B",
       "unit_divisor": 1000,
       "unit_scale": true
      },
      "application/vnd.jupyter.widget-view+json": {
       "model_id": "77bc94d46d6a4da09169c307b1cee6cc",
       "version_major": 2,
       "version_minor": 0
      },
      "text/plain": [
       "Downloading https://raw.githubusercontent.com/stanfordnlp/stanza-resources/main/resources_1.4.0.json:   0%|   …"
      ]
     },
     "metadata": {},
     "output_type": "display_data"
    },
    {
     "name": "stderr",
     "output_type": "stream",
     "text": [
      "2022-09-01 16:45:19 WARNING: Language fr package default expects mwt, which has been added\n",
      "2022-09-01 16:45:19 INFO: Loading these models for language: fr (French):\n",
      "=======================\n",
      "| Processor | Package |\n",
      "-----------------------\n",
      "| tokenize  | gsd     |\n",
      "| mwt       | gsd     |\n",
      "| pos       | gsd     |\n",
      "| lemma     | gsd     |\n",
      "=======================\n",
      "\n",
      "2022-09-01 16:45:19 INFO: Use device: cpu\n",
      "2022-09-01 16:45:19 INFO: Loading: tokenize\n",
      "2022-09-01 16:45:19 INFO: Loading: mwt\n",
      "2022-09-01 16:45:19 INFO: Loading: pos\n",
      "2022-09-01 16:45:19 INFO: Loading: lemma\n",
      "2022-09-01 16:45:19 INFO: Done loading processors!\n"
     ]
    },
    {
     "name": "stdout",
     "output_type": "stream",
     "text": [
      "Tagged corpus created from NLP pipeline.\n",
      "\n",
      "\n",
      "\n",
      "\n"
     ]
    },
    {
     "data": {
      "application/json": {
       "ascii": false,
       "bar_format": null,
       "colour": null,
       "elapsed": 0.012967586517333984,
       "initial": 0,
       "n": 0,
       "ncols": null,
       "nrows": 29,
       "postfix": null,
       "prefix": "Downloading https://raw.githubusercontent.com/stanfordnlp/stanza-resources/main/resources_1.4.0.json",
       "rate": null,
       "total": 25998,
       "unit": "B",
       "unit_divisor": 1000,
       "unit_scale": true
      },
      "application/vnd.jupyter.widget-view+json": {
       "model_id": "aba8e1cbfe4d4bc5a13e6ced0a5cf434",
       "version_major": 2,
       "version_minor": 0
      },
      "text/plain": [
       "Downloading https://raw.githubusercontent.com/stanfordnlp/stanza-resources/main/resources_1.4.0.json:   0%|   …"
      ]
     },
     "metadata": {},
     "output_type": "display_data"
    },
    {
     "name": "stderr",
     "output_type": "stream",
     "text": [
      "2022-09-01 16:46:04 WARNING: Language fr package default expects mwt, which has been added\n",
      "2022-09-01 16:46:04 INFO: Loading these models for language: fr (French):\n",
      "=======================\n",
      "| Processor | Package |\n",
      "-----------------------\n",
      "| tokenize  | gsd     |\n",
      "| mwt       | gsd     |\n",
      "| pos       | gsd     |\n",
      "| lemma     | gsd     |\n",
      "=======================\n",
      "\n",
      "2022-09-01 16:46:04 INFO: Use device: cpu\n",
      "2022-09-01 16:46:04 INFO: Loading: tokenize\n",
      "2022-09-01 16:46:04 INFO: Loading: mwt\n",
      "2022-09-01 16:46:04 INFO: Loading: pos\n",
      "2022-09-01 16:46:05 INFO: Loading: lemma\n",
      "2022-09-01 16:46:05 INFO: Done loading processors!\n"
     ]
    },
    {
     "name": "stdout",
     "output_type": "stream",
     "text": [
      "Tagged corpus created from NLP pipeline.\n",
      "\n",
      "\n",
      "\n",
      "\n"
     ]
    },
    {
     "data": {
      "application/json": {
       "ascii": false,
       "bar_format": null,
       "colour": null,
       "elapsed": 0.01402592658996582,
       "initial": 0,
       "n": 0,
       "ncols": null,
       "nrows": 29,
       "postfix": null,
       "prefix": "Downloading https://raw.githubusercontent.com/stanfordnlp/stanza-resources/main/resources_1.4.0.json",
       "rate": null,
       "total": 25998,
       "unit": "B",
       "unit_divisor": 1000,
       "unit_scale": true
      },
      "application/vnd.jupyter.widget-view+json": {
       "model_id": "7d733b0fcc294313be0b2b01c7a229e3",
       "version_major": 2,
       "version_minor": 0
      },
      "text/plain": [
       "Downloading https://raw.githubusercontent.com/stanfordnlp/stanza-resources/main/resources_1.4.0.json:   0%|   …"
      ]
     },
     "metadata": {},
     "output_type": "display_data"
    },
    {
     "name": "stderr",
     "output_type": "stream",
     "text": [
      "2022-09-01 16:46:47 WARNING: Language fr package default expects mwt, which has been added\n",
      "2022-09-01 16:46:47 INFO: Loading these models for language: fr (French):\n",
      "=======================\n",
      "| Processor | Package |\n",
      "-----------------------\n",
      "| tokenize  | gsd     |\n",
      "| mwt       | gsd     |\n",
      "| pos       | gsd     |\n",
      "| lemma     | gsd     |\n",
      "=======================\n",
      "\n",
      "2022-09-01 16:46:47 INFO: Use device: cpu\n",
      "2022-09-01 16:46:47 INFO: Loading: tokenize\n",
      "2022-09-01 16:46:47 INFO: Loading: mwt\n",
      "2022-09-01 16:46:47 INFO: Loading: pos\n",
      "2022-09-01 16:46:47 INFO: Loading: lemma\n",
      "2022-09-01 16:46:47 INFO: Done loading processors!\n"
     ]
    },
    {
     "name": "stdout",
     "output_type": "stream",
     "text": [
      "Tagged corpus created from NLP pipeline.\n",
      "\n",
      "\n",
      "\n",
      "\n"
     ]
    },
    {
     "data": {
      "application/json": {
       "ascii": false,
       "bar_format": null,
       "colour": null,
       "elapsed": 0.01495981216430664,
       "initial": 0,
       "n": 0,
       "ncols": null,
       "nrows": 29,
       "postfix": null,
       "prefix": "Downloading https://raw.githubusercontent.com/stanfordnlp/stanza-resources/main/resources_1.4.0.json",
       "rate": null,
       "total": 25998,
       "unit": "B",
       "unit_divisor": 1000,
       "unit_scale": true
      },
      "application/vnd.jupyter.widget-view+json": {
       "model_id": "8eaf51ab8cef4237a2d1cb8831228b9a",
       "version_major": 2,
       "version_minor": 0
      },
      "text/plain": [
       "Downloading https://raw.githubusercontent.com/stanfordnlp/stanza-resources/main/resources_1.4.0.json:   0%|   …"
      ]
     },
     "metadata": {},
     "output_type": "display_data"
    },
    {
     "name": "stderr",
     "output_type": "stream",
     "text": [
      "2022-09-01 16:47:29 WARNING: Language fr package default expects mwt, which has been added\n",
      "2022-09-01 16:47:29 INFO: Loading these models for language: fr (French):\n",
      "=======================\n",
      "| Processor | Package |\n",
      "-----------------------\n",
      "| tokenize  | gsd     |\n",
      "| mwt       | gsd     |\n",
      "| pos       | gsd     |\n",
      "| lemma     | gsd     |\n",
      "=======================\n",
      "\n",
      "2022-09-01 16:47:29 INFO: Use device: cpu\n",
      "2022-09-01 16:47:29 INFO: Loading: tokenize\n",
      "2022-09-01 16:47:29 INFO: Loading: mwt\n",
      "2022-09-01 16:47:29 INFO: Loading: pos\n",
      "2022-09-01 16:47:29 INFO: Loading: lemma\n",
      "2022-09-01 16:47:29 INFO: Done loading processors!\n"
     ]
    },
    {
     "name": "stdout",
     "output_type": "stream",
     "text": [
      "Tagged corpus created from NLP pipeline.\n",
      "\n",
      "\n",
      "\n",
      "\n"
     ]
    },
    {
     "data": {
      "application/json": {
       "ascii": false,
       "bar_format": null,
       "colour": null,
       "elapsed": 0.014416933059692383,
       "initial": 0,
       "n": 0,
       "ncols": null,
       "nrows": 29,
       "postfix": null,
       "prefix": "Downloading https://raw.githubusercontent.com/stanfordnlp/stanza-resources/main/resources_1.4.0.json",
       "rate": null,
       "total": 25998,
       "unit": "B",
       "unit_divisor": 1000,
       "unit_scale": true
      },
      "application/vnd.jupyter.widget-view+json": {
       "model_id": "7903cd05f7c64dcaa0a5b4208866e525",
       "version_major": 2,
       "version_minor": 0
      },
      "text/plain": [
       "Downloading https://raw.githubusercontent.com/stanfordnlp/stanza-resources/main/resources_1.4.0.json:   0%|   …"
      ]
     },
     "metadata": {},
     "output_type": "display_data"
    },
    {
     "name": "stderr",
     "output_type": "stream",
     "text": [
      "2022-09-01 16:48:18 WARNING: Language fr package default expects mwt, which has been added\n",
      "2022-09-01 16:48:18 INFO: Loading these models for language: fr (French):\n",
      "=======================\n",
      "| Processor | Package |\n",
      "-----------------------\n",
      "| tokenize  | gsd     |\n",
      "| mwt       | gsd     |\n",
      "| pos       | gsd     |\n",
      "| lemma     | gsd     |\n",
      "=======================\n",
      "\n",
      "2022-09-01 16:48:18 INFO: Use device: cpu\n",
      "2022-09-01 16:48:18 INFO: Loading: tokenize\n",
      "2022-09-01 16:48:18 INFO: Loading: mwt\n",
      "2022-09-01 16:48:18 INFO: Loading: pos\n",
      "2022-09-01 16:48:18 INFO: Loading: lemma\n",
      "2022-09-01 16:48:18 INFO: Done loading processors!\n"
     ]
    },
    {
     "name": "stdout",
     "output_type": "stream",
     "text": [
      "Tagged corpus created from NLP pipeline.\n",
      "\n",
      "\n",
      "\n",
      "\n",
      "Calculating Frequency relatedness...\n",
      "Calculating Frequency relatedness...\n",
      "Calculating Frequency relatedness...\n",
      "Calculating Frequency relatedness...\n",
      "Calculating Frequency relatedness...\n",
      "Calculating Frequency relatedness...\n",
      "Calculating Frequency relatedness...\n",
      "Calculating Frequency relatedness...\n",
      "Calculating Frequency relatedness...\n",
      "Calculating Frequency relatedness...\n",
      "Calculating word2vec relatedness...\n",
      "Calculating word2vec relatedness...\n",
      "Calculating word2vec relatedness...\n",
      "Calculating word2vec relatedness...\n",
      "Calculating word2vec relatedness...\n",
      "Calculating word2vec relatedness...\n",
      "Calculating word2vec relatedness...\n",
      "Calculating word2vec relatedness...\n",
      "Calculating word2vec relatedness...\n",
      "Calculating word2vec relatedness...\n",
      "Calculating FastText relatedness...\n",
      "Calculating FastText relatedness...\n",
      "Calculating FastText relatedness...\n",
      "Calculating FastText relatedness...\n",
      "Calculating FastText relatedness...\n",
      "Calculating FastText relatedness...\n",
      "Calculating FastText relatedness...\n",
      "Calculating FastText relatedness...\n",
      "Calculating FastText relatedness...\n",
      "Calculating FastText relatedness...\n"
     ]
    }
   ],
   "source": [
    "from data_vis import *\n",
    "\n",
    "\n",
    "en_data, fr_data, freq_sim, fastt_sim, word2vec_sim = demonstrate_all()"
   ]
  },
  {
   "cell_type": "code",
   "execution_count": 3,
   "id": "493e342a-8026-481b-94b3-1a356bc6d706",
   "metadata": {},
   "outputs": [
    {
     "ename": "KeyboardInterrupt",
     "evalue": "",
     "output_type": "error",
     "traceback": [
      "\u001b[1;31m---------------------------------------------------------------------------\u001b[0m",
      "\u001b[1;31mKeyboardInterrupt\u001b[0m                         Traceback (most recent call last)",
      "\u001b[1;32m<ipython-input-3-ef842b73e6ac>\u001b[0m in \u001b[0;36m<module>\u001b[1;34m\u001b[0m\n\u001b[0;32m      4\u001b[0m     \u001b[0men\u001b[0m \u001b[1;33m=\u001b[0m \u001b[0men_data\u001b[0m\u001b[1;33m[\u001b[0m\u001b[1;34m'frequency'\u001b[0m\u001b[1;33m]\u001b[0m\u001b[1;33m[\u001b[0m\u001b[0mi\u001b[0m\u001b[1;33m]\u001b[0m\u001b[1;33m\u001b[0m\u001b[1;33m\u001b[0m\u001b[0m\n\u001b[0;32m      5\u001b[0m     \u001b[0mfr\u001b[0m \u001b[1;33m=\u001b[0m \u001b[0mfr_data\u001b[0m\u001b[1;33m[\u001b[0m\u001b[1;34m'frequency'\u001b[0m\u001b[1;33m]\u001b[0m\u001b[1;33m[\u001b[0m\u001b[0mi\u001b[0m\u001b[1;33m]\u001b[0m\u001b[1;33m\u001b[0m\u001b[1;33m\u001b[0m\u001b[0m\n\u001b[1;32m----> 6\u001b[1;33m     \u001b[0msim_score\u001b[0m \u001b[1;33m=\u001b[0m \u001b[0mget_similarity_score_between_languages\u001b[0m\u001b[1;33m(\u001b[0m\u001b[1;34m'en'\u001b[0m\u001b[1;33m,\u001b[0m \u001b[1;34m'fr'\u001b[0m\u001b[1;33m,\u001b[0m \u001b[0men\u001b[0m\u001b[1;33m,\u001b[0m \u001b[0mfr\u001b[0m\u001b[1;33m)\u001b[0m\u001b[1;33m\u001b[0m\u001b[1;33m\u001b[0m\u001b[0m\n\u001b[0m\u001b[0;32m      7\u001b[0m     \u001b[0mfreq_sim\u001b[0m\u001b[1;33m.\u001b[0m\u001b[0mappend\u001b[0m\u001b[1;33m(\u001b[0m\u001b[0msim_score\u001b[0m\u001b[1;33m)\u001b[0m\u001b[1;33m\u001b[0m\u001b[1;33m\u001b[0m\u001b[0m\n\u001b[0;32m      8\u001b[0m     \u001b[0mprint\u001b[0m\u001b[1;33m(\u001b[0m\u001b[1;34m'Calculating Frequency relatedness...'\u001b[0m\u001b[1;33m)\u001b[0m\u001b[1;33m\u001b[0m\u001b[1;33m\u001b[0m\u001b[0m\n",
      "\u001b[1;32m~\\Desktop\\CM 3070 - Final Project\\data_vis.py\u001b[0m in \u001b[0;36mget_similarity_score_between_languages\u001b[1;34m(l1, l2, l1_terms, l2_terms)\u001b[0m\n\u001b[0;32m     29\u001b[0m             \u001b[0mobj\u001b[0m \u001b[1;33m=\u001b[0m \u001b[0mrequests\u001b[0m\u001b[1;33m.\u001b[0m\u001b[0mget\u001b[0m\u001b[1;33m(\u001b[0m\u001b[0mquery\u001b[0m\u001b[1;33m)\u001b[0m\u001b[1;33m.\u001b[0m\u001b[0mjson\u001b[0m\u001b[1;33m(\u001b[0m\u001b[1;33m)\u001b[0m\u001b[1;33m\u001b[0m\u001b[1;33m\u001b[0m\u001b[0m\n\u001b[0;32m     30\u001b[0m             \u001b[0msim_score\u001b[0m \u001b[1;33m+=\u001b[0m \u001b[0mobj\u001b[0m\u001b[1;33m[\u001b[0m\u001b[1;34m'value'\u001b[0m\u001b[1;33m]\u001b[0m\u001b[1;33m\u001b[0m\u001b[1;33m\u001b[0m\u001b[0m\n\u001b[1;32m---> 31\u001b[1;33m             \u001b[0mtime\u001b[0m\u001b[1;33m.\u001b[0m\u001b[0msleep\u001b[0m\u001b[1;33m(\u001b[0m\u001b[1;36m2\u001b[0m\u001b[1;33m)\u001b[0m\u001b[1;33m\u001b[0m\u001b[1;33m\u001b[0m\u001b[0m\n\u001b[0m\u001b[0;32m     32\u001b[0m \u001b[1;33m\u001b[0m\u001b[0m\n\u001b[0;32m     33\u001b[0m     \u001b[1;32mreturn\u001b[0m \u001b[0msim_score\u001b[0m\u001b[1;33m\u001b[0m\u001b[1;33m\u001b[0m\u001b[0m\n",
      "\u001b[1;31mKeyboardInterrupt\u001b[0m: "
     ]
    }
   ],
   "source": [
    "#Gets the sim scores between English and French languages\n",
    "freq_sim = []\n",
    "for i in range(len(en_data['frequency'])):\n",
    "    en = en_data['frequency'][i]\n",
    "    fr = fr_data['frequency'][i]\n",
    "    sim_score = get_similarity_score_between_languages('en', 'fr', en, fr)\n",
    "    freq_sim.append(sim_score)\n",
    "    print('Calculating Frequency relatedness...')\n",
    "    time.sleep(120)\n",
    "\n",
    "\n",
    "word2vec_sim = []\n",
    "for i in range(len(en_data['word2vec'])):\n",
    "    en = tuples_to_lists(en_data['word2vec'][i])\n",
    "    fr = tuples_to_lists(fr_data['word2vec'][i])\n",
    "    sim_score = get_similarity_score_between_languages('en', 'fr', en, fr)\n",
    "    word2vec_sim.append(sim_score)\n",
    "    print('Calculating word2vec relatedness...')\n",
    "    time.sleep(120)\n",
    "\n",
    "fastt_sim = []\n",
    "for i in range(len(en_data['FastText'])):\n",
    "    en = tuples_to_lists(en_data['FastText'][i])\n",
    "    fr = tuples_to_lists(fr_data['FastText'][i])\n",
    "    sim_score = get_similarity_score_between_languages('en', 'fr', en, fr)\n",
    "    fastt_sim.append(sim_score)\n",
    "    print('Calculating FastText relatedness...')\n",
    "    time.sleep(120)"
   ]
  },
  {
   "cell_type": "code",
   "execution_count": 2,
   "id": "3afce5a6-2fc8-4435-a2e5-4ed2ba93df13",
   "metadata": {},
   "outputs": [
    {
     "data": {
      "text/plain": [
       "({'frequency': [['African',\n",
       "    'South',\n",
       "    'first',\n",
       "    'global',\n",
       "    'last',\n",
       "    'new',\n",
       "    'like',\n",
       "    'digital'],\n",
       "   ['African', 'South', 'new', 'first', 'lead', 'good', 'last', 'military'],\n",
       "   ['African',\n",
       "    'first',\n",
       "    'new',\n",
       "    'high',\n",
       "    'economic',\n",
       "    'last',\n",
       "    'good',\n",
       "    'political'],\n",
       "   ['African', 'South', 'new', 'high', 'good', 'like', 'global', 'economic'],\n",
       "   ['African', 'South', 'new', 'first', 'lead', 'global', 'good', 'economic'],\n",
       "   ['African', 'South', 'first', 'new', 'good', 'last', 'like', 'lead'],\n",
       "   ['African', 'South', 'new', 'first', 'good', 'economic', 'well', 'global'],\n",
       "   ['African', 'high', 'good', 'economic', 'first', 'global', 'like', 'lead'],\n",
       "   ['African', 'South', 'first', 'new', 'like', 'global', 'large', 'high'],\n",
       "   ['African', 'South', 'new', 'economic', 'high', 'first', 'like', 'good']],\n",
       "  'word2vec': [[('country', 0.9999289512634277),\n",
       "    ('make', 0.9999178051948547),\n",
       "    ('say', 0.9999172687530518),\n",
       "    ('african', 0.9999129772186279),\n",
       "    ('woman', 0.9999117851257324),\n",
       "    ('year', 0.9999110698699951),\n",
       "    ('would', 0.9999049305915833),\n",
       "    ('global', 0.9999034404754639)],\n",
       "   [('african', 0.9998111724853516),\n",
       "    ('country', 0.999805212020874),\n",
       "    ('say', 0.9997671842575073),\n",
       "    ('use', 0.9997521638870239),\n",
       "    ('year', 0.9997379779815674),\n",
       "    ('new', 0.9997333288192749),\n",
       "    ('make', 0.9997318983078003),\n",
       "    ('company', 0.9997155666351318)],\n",
       "   [('people', 0.9998570680618286),\n",
       "    ('say', 0.9998528957366943),\n",
       "    ('african', 0.9998495578765869),\n",
       "    ('country', 0.9998460412025452),\n",
       "    ('include', 0.9998452663421631),\n",
       "    ('woman', 0.9998380541801453),\n",
       "    ('year', 0.9998303055763245),\n",
       "    ('new', 0.9998291730880737)],\n",
       "   [('country', 0.9998648166656494),\n",
       "    ('year', 0.9998527765274048),\n",
       "    ('people', 0.9998508095741272),\n",
       "    ('make', 0.9998437166213989),\n",
       "    ('african', 0.9998434782028198),\n",
       "    ('global', 0.9998431205749512),\n",
       "    ('say', 0.9998416304588318),\n",
       "    ('health', 0.9998398423194885)],\n",
       "   [('african', 0.9998540282249451),\n",
       "    ('say', 0.9998514652252197),\n",
       "    ('country', 0.9998462200164795),\n",
       "    ('would', 0.9998339414596558),\n",
       "    ('continent', 0.9998284578323364),\n",
       "    ('make', 0.9998277425765991),\n",
       "    ('year', 0.999811053276062),\n",
       "    ('use', 0.9998006820678711)],\n",
       "   [('people', 0.9992498159408569),\n",
       "    ('say', 0.9992398023605347),\n",
       "    ('new', 0.99922776222229),\n",
       "    ('country', 0.9992085695266724),\n",
       "    ('african', 0.9991785883903503),\n",
       "    ('one', 0.999069333076477),\n",
       "    ('make', 0.9990307688713074),\n",
       "    ('year', 0.999001145362854)],\n",
       "   [('country', 0.9997918605804443),\n",
       "    ('african', 0.9997768402099609),\n",
       "    ('first', 0.9997619390487671),\n",
       "    ('would', 0.999756932258606),\n",
       "    ('say', 0.999751091003418),\n",
       "    ('people', 0.9997432827949524),\n",
       "    ('state', 0.9997401237487793),\n",
       "    ('new', 0.999733567237854)],\n",
       "   [('country', 0.9998260736465454),\n",
       "    ('woman', 0.9998134970664978),\n",
       "    ('make', 0.9998052716255188),\n",
       "    ('african', 0.9998003840446472),\n",
       "    ('say', 0.9997926950454712),\n",
       "    ('people', 0.9997732639312744),\n",
       "    ('global', 0.999772310256958),\n",
       "    ('world', 0.9997657537460327)],\n",
       "   [('african', 0.9999315142631531),\n",
       "    ('people', 0.9999297857284546),\n",
       "    ('country', 0.999920666217804),\n",
       "    ('new', 0.9999170899391174),\n",
       "    ('say', 0.999914824962616),\n",
       "    ('service', 0.9999138116836548),\n",
       "    ('like', 0.9999105930328369),\n",
       "    ('continent', 0.9999092817306519)],\n",
       "   [('people', 0.999916672706604),\n",
       "    ('african', 0.9999165534973145),\n",
       "    ('say', 0.9999155402183533),\n",
       "    ('country', 0.9999152421951294),\n",
       "    ('make', 0.9999053478240967),\n",
       "    ('state', 0.999889612197876),\n",
       "    ('year', 0.999888002872467),\n",
       "    ('new', 0.999883234500885)]],\n",
       "  'FastText': [[('african', 0.9999969005584717),\n",
       "    ('historical', 0.9999903440475464),\n",
       "    ('government', 0.999989926815033),\n",
       "    ('counter', 0.9999898076057434),\n",
       "    ('presenter', 0.9999898076057434),\n",
       "    ('intervention', 0.9999897480010986),\n",
       "    ('event', 0.9999897480010986),\n",
       "    ('mention', 0.9999897480010986)],\n",
       "   [('african', 0.999997615814209),\n",
       "    ('commitment', 0.9999947547912598),\n",
       "    ('president', 0.9999945163726807),\n",
       "    ('investigation', 0.9999942183494568),\n",
       "    ('continent', 0.999994158744812),\n",
       "    ('implementation', 0.9999940395355225),\n",
       "    ('intervention', 0.9999939799308777),\n",
       "    ('cooperation', 0.9999938011169434)],\n",
       "   [('african', 0.9999971389770508),\n",
       "    ('africanus', 0.9999967813491821),\n",
       "    ('bankservafrica', 0.9999918341636658),\n",
       "    ('sister', 0.9999914169311523),\n",
       "    ('africom', 0.9999911189079285),\n",
       "    ('senate', 0.9999910593032837),\n",
       "    ('resistance', 0.9999909400939941),\n",
       "    ('cover', 0.9999908208847046)],\n",
       "   [('african', 0.9999973177909851),\n",
       "    ('africarare', 0.9999955892562866),\n",
       "    ('historical', 0.9999917149543762),\n",
       "    ('implication', 0.9999916553497314),\n",
       "    ('replication', 0.9999915957450867),\n",
       "    ('facilitation', 0.9999915361404419),\n",
       "    ('presentation', 0.9999914169311523),\n",
       "    ('attention', 0.9999913573265076)],\n",
       "   [('african', 0.9999976754188538),\n",
       "    ('frica', 0.9999962449073792),\n",
       "    ('allafrica', 0.9999955296516418),\n",
       "    ('-african', 0.9999954104423523),\n",
       "    ('content', 0.9999932646751404),\n",
       "    ('pan-african', 0.9999932050704956),\n",
       "    ('continent', 0.999992847442627),\n",
       "    ('installation', 0.9999926686286926)],\n",
       "   [('african', 0.9999971389770508),\n",
       "    ('motivation', 0.9999915361404419),\n",
       "    ('recommendation', 0.9999914169311523),\n",
       "    ('resolution', 0.999991238117218),\n",
       "    ('application', 0.9999911785125732),\n",
       "    ('prevention', 0.9999911785125732),\n",
       "    ('recognition', 0.9999910593032837),\n",
       "    ('implementation', 0.9999910593032837)],\n",
       "   [('african', 0.9999975562095642),\n",
       "    ('web3africa', 0.9999943971633911),\n",
       "    ('indication', 0.9999940395355225),\n",
       "    ('constellation', 0.9999938011169434),\n",
       "    ('restriction', 0.9999938011169434),\n",
       "    ('inflation', 0.9999933242797852),\n",
       "    ('communication', 0.9999932646751404),\n",
       "    ('interaction', 0.9999932050704956)],\n",
       "   [('african', 0.9999979138374329),\n",
       "    ('africana', 0.9999974966049194),\n",
       "    ('allafrica', 0.9999954700469971),\n",
       "    ('pan-african', 0.9999944567680359),\n",
       "    ('africom', 0.9999943971633911),\n",
       "    ('contribution', 0.9999939203262329),\n",
       "    ('innofoodafrica', 0.9999935626983643),\n",
       "    ('content', 0.9999933242797852)],\n",
       "   [('african', 0.9999959468841553),\n",
       "    ('pan-african', 0.9999935030937195),\n",
       "    ('content', 0.9999932646751404),\n",
       "    ('statement', 0.9999924898147583),\n",
       "    ('historical', 0.9999920725822449),\n",
       "    ('cooperation', 0.9999918937683105),\n",
       "    ('operation', 0.9999918341636658),\n",
       "    ('mention', 0.9999916553497314)],\n",
       "   [('african', 0.9999977350234985),\n",
       "    ('session', 0.9999911189079285),\n",
       "    ('competition', 0.9999909400939941),\n",
       "    ('treatment', 0.9999908208847046),\n",
       "    ('transition', 0.9999908208847046),\n",
       "    ('processing', 0.9999907612800598),\n",
       "    ('governance', 0.9999907612800598),\n",
       "    ('understanding', 0.9999907612800598)]]},\n",
       " {'frequency': [['africain',\n",
       "    'tout',\n",
       "    'autre',\n",
       "    'premier',\n",
       "    'international',\n",
       "    'nouveau',\n",
       "    'dernier',\n",
       "    'national'],\n",
       "   ['tout',\n",
       "    'africain',\n",
       "    'autre',\n",
       "    'premier',\n",
       "    'nouveau',\n",
       "    'grand',\n",
       "    'dernier',\n",
       "    'économique'],\n",
       "   ['africain',\n",
       "    'tout',\n",
       "    'autre',\n",
       "    'international',\n",
       "    'nouveau',\n",
       "    'premier',\n",
       "    'dernier',\n",
       "    'nucléaire'],\n",
       "   ['africain',\n",
       "    'tout',\n",
       "    'autre',\n",
       "    'premier',\n",
       "    'dernier',\n",
       "    'nouveau',\n",
       "    'grand',\n",
       "    'international'],\n",
       "   ['africain',\n",
       "    'tout',\n",
       "    'politique',\n",
       "    'autre',\n",
       "    'français',\n",
       "    'nouveau',\n",
       "    'premier',\n",
       "    'dernier'],\n",
       "   ['tout',\n",
       "    'autre',\n",
       "    'africain',\n",
       "    'grand',\n",
       "    'dernier',\n",
       "    'premier',\n",
       "    'nouveau',\n",
       "    'politique'],\n",
       "   ['tout',\n",
       "    'autre',\n",
       "    'africain',\n",
       "    'dernier',\n",
       "    'premier',\n",
       "    'grand',\n",
       "    'international',\n",
       "    'nouveau'],\n",
       "   ['africain',\n",
       "    'tout',\n",
       "    'faire',\n",
       "    'autre',\n",
       "    'dernier',\n",
       "    'international',\n",
       "    'premier',\n",
       "    'nouveau'],\n",
       "   ['africain',\n",
       "    'tout',\n",
       "    'autre',\n",
       "    'premier',\n",
       "    'économique',\n",
       "    'international',\n",
       "    'dernier',\n",
       "    'politique'],\n",
       "   ['africain',\n",
       "    'tout',\n",
       "    'autre',\n",
       "    'premier',\n",
       "    'grand',\n",
       "    'mondial',\n",
       "    'dernier',\n",
       "    'international']],\n",
       "  'word2vec': [[('être', 0.9998765587806702),\n",
       "    ('avoir', 0.999843955039978),\n",
       "    ('pays', 0.9998424649238586),\n",
       "    ('africain', 0.999824047088623),\n",
       "    ('plus', 0.9998121857643127),\n",
       "    ('autre', 0.9998040795326233),\n",
       "    ('national', 0.999782145023346),\n",
       "    ('premier', 0.9997642636299133)],\n",
       "   [('être', 0.9999386072158813),\n",
       "    ('avoir', 0.9999298453330994),\n",
       "    ('autre', 0.9999191761016846),\n",
       "    ('plus', 0.9999141693115234),\n",
       "    ('africain', 0.9999071955680847),\n",
       "    ('pays', 0.9998981952667236),\n",
       "    ('pouvoir', 0.9998979568481445),\n",
       "    ('comme', 0.9998917579650879)],\n",
       "   [('être', 0.9999551177024841),\n",
       "    ('avoir', 0.9999510049819946),\n",
       "    ('autre', 0.9999469518661499),\n",
       "    ('plus', 0.9999377727508545),\n",
       "    ('africain', 0.9999375939369202),\n",
       "    ('où', 0.9999365210533142),\n",
       "    ('comme', 0.9999343752861023),\n",
       "    ('pays', 0.9999321699142456)],\n",
       "   [('être', 0.9998467564582825),\n",
       "    ('avoir', 0.9998162984848022),\n",
       "    ('autre', 0.9997891187667847),\n",
       "    ('plus', 0.9997836351394653),\n",
       "    ('africain', 0.9997795224189758),\n",
       "    ('pays', 0.9997656345367432),\n",
       "    ('tout', 0.999748945236206),\n",
       "    ('pouvoir', 0.9997367858886719)],\n",
       "   [('être', 0.999942421913147),\n",
       "    ('avoir', 0.9999329447746277),\n",
       "    ('africain', 0.9999223351478577),\n",
       "    ('pouvoir', 0.9999155402183533),\n",
       "    ('plus', 0.9999154210090637),\n",
       "    ('pays', 0.9999151229858398),\n",
       "    ('comme', 0.999910295009613),\n",
       "    ('où', 0.9999064207077026)],\n",
       "   [('être', 0.9998895525932312),\n",
       "    ('avoir', 0.9998772144317627),\n",
       "    ('autre', 0.999872088432312),\n",
       "    ('plus', 0.9998592734336853),\n",
       "    ('après', 0.999841034412384),\n",
       "    ('comme', 0.9998407363891602),\n",
       "    ('pays', 0.9998302459716797),\n",
       "    ('africain', 0.9998242855072021)],\n",
       "   [('être', 0.9998705387115479),\n",
       "    ('avoir', 0.9998570084571838),\n",
       "    ('plus', 0.9998173117637634),\n",
       "    ('autre', 0.9998111724853516),\n",
       "    ('marché', 0.9998109340667725),\n",
       "    ('pays', 0.9998076558113098),\n",
       "    ('pouvoir', 0.9997943043708801),\n",
       "    ('tout', 0.999767541885376)],\n",
       "   [('être', 0.9998657703399658),\n",
       "    ('avoir', 0.9998534321784973),\n",
       "    ('pays', 0.9998247623443604),\n",
       "    ('plus', 0.9998225569725037),\n",
       "    ('africain', 0.9998186230659485),\n",
       "    ('autre', 0.9998133778572083),\n",
       "    ('pouvoir', 0.9997842311859131),\n",
       "    ('international', 0.9997694492340088)],\n",
       "   [('être', 0.9999121427536011),\n",
       "    ('avoir', 0.9998944997787476),\n",
       "    ('pays', 0.99988853931427),\n",
       "    ('autre', 0.9998807907104492),\n",
       "    ('plus', 0.9998749494552612),\n",
       "    ('pouvoir', 0.9998749494552612),\n",
       "    ('africain', 0.999874472618103),\n",
       "    ('état', 0.999855101108551)],\n",
       "   [('être', 0.9998723268508911),\n",
       "    ('avoir', 0.9998697638511658),\n",
       "    ('pays', 0.9998437762260437),\n",
       "    ('autre', 0.99982088804245),\n",
       "    ('plus', 0.9997944235801697),\n",
       "    ('africain', 0.9997931122779846),\n",
       "    ('contre', 0.9997861981391907),\n",
       "    ('mondial', 0.9997802972793579)]],\n",
       "  'FastText': [[('centrafrique', 0.9999971985816956),\n",
       "    ('amérique', 0.9999956488609314),\n",
       "    ('communiquer', 0.9999954700469971),\n",
       "    ('indiquer', 0.9999954104423523),\n",
       "    ('pratique', 0.9999951720237732),\n",
       "    ('numérique', 0.9999949932098389),\n",
       "    ('africain', 0.9999948740005493),\n",
       "    ('communication', 0.9999947547912598)],\n",
       "   [('centrafrique', 0.9999980926513672),\n",
       "    ('usa-afrique', 0.9999969601631165),\n",
       "    ('amérique', 0.9999968409538269),\n",
       "    ('pratique', 0.999996542930603),\n",
       "    ('critiquer', 0.9999964833259583),\n",
       "    ('critique', 0.9999964237213135),\n",
       "    ('informatique', 0.9999963641166687),\n",
       "    ('communiquer', 0.9999963045120239)],\n",
       "   [('aci-afrique', 0.9999977350234985),\n",
       "    ('centrafrique', 0.9999977350234985),\n",
       "    ('amérique', 0.9999969005584717),\n",
       "    ('uniquement', 0.9999966621398926),\n",
       "    ('unique', 0.9999963045120239),\n",
       "    ('critique', 0.9999963045120239),\n",
       "    ('république', 0.9999962449073792),\n",
       "    ('pratique', 0.9999962449073792)],\n",
       "   [('chine-afrique', 0.9999977350234985),\n",
       "    ('fabriquer', 0.999996542930603),\n",
       "    ('entrer', 0.9999960660934448),\n",
       "    ('partition', 0.9999960064888),\n",
       "    ('comment', 0.9999959468841553),\n",
       "    ('amérique', 0.9999958872795105),\n",
       "    ('technique', 0.9999958276748657),\n",
       "    ('mentionner', 0.9999958276748657)],\n",
       "   [('commentaire', 0.9999967813491821),\n",
       "    ('parlementaire', 0.9999967217445374),\n",
       "    ('musique', 0.9999966621398926),\n",
       "    ('prouver', 0.9999966621398926),\n",
       "    ('scientifique', 0.9999966025352478),\n",
       "    ('pratique', 0.999996542930603),\n",
       "    ('asiatique', 0.999996542930603),\n",
       "    ('entrer', 0.9999964237213135)],\n",
       "   [('portique', 0.9999961853027344),\n",
       "    ('amérique', 0.9999960660934448),\n",
       "    ('monique', 0.9999960064888),\n",
       "    ('politique', 0.9999960064888),\n",
       "    ('communiquer', 0.9999958276748657),\n",
       "    ('unique', 0.9999958276748657),\n",
       "    ('pratique', 0.9999957084655762),\n",
       "    ('fabriquer', 0.9999957084655762)],\n",
       "   [('amérique', 0.9999972581863403),\n",
       "    ('numérique', 0.9999954700469971),\n",
       "    ('fabriquer', 0.9999951124191284),\n",
       "    ('pratiquement', 0.9999950528144836),\n",
       "    ('historique', 0.9999949932098389),\n",
       "    ('contre', 0.9999949932098389),\n",
       "    ('contrairement', 0.9999949336051941),\n",
       "    ('unique', 0.9999948740005493)],\n",
       "   [('unique', 0.9999964833259583),\n",
       "    ('comment', 0.9999961853027344),\n",
       "    ('coopération', 0.9999960660934448),\n",
       "    ('pratique', 0.9999960660934448),\n",
       "    ('uniquement', 0.9999960660934448),\n",
       "    ('opération', 0.9999958872795105),\n",
       "    ('africain', 0.9999958872795105),\n",
       "    ('certainement', 0.9999958872795105)],\n",
       "   [('centrafrique', 0.9999976754188538),\n",
       "    ('historique', 0.9999970197677612),\n",
       "    ('françafrique', 0.9999969601631165),\n",
       "    ('chine-afrique', 0.9999963045120239),\n",
       "    ('critique', 0.9999960660934448),\n",
       "    ('cosmétique', 0.9999960660934448),\n",
       "    ('générique', 0.9999960064888),\n",
       "    ('amérique', 0.9999958276748657)],\n",
       "   [('chine-afrique', 0.9999972581863403),\n",
       "    ('amérique', 0.9999961256980896),\n",
       "    ('république', 0.9999957084655762),\n",
       "    ('historique', 0.9999956488609314),\n",
       "    ('contre', 0.9999955892562866),\n",
       "    ('unique', 0.9999954700469971),\n",
       "    ('contester', 0.9999954104423523),\n",
       "    ('commenter', 0.9999953508377075)]]},\n",
       " [6.583999999999999,\n",
       "  4.9879999999999995,\n",
       "  5.491,\n",
       "  3.4800000000000004,\n",
       "  4.266000000000002,\n",
       "  5.290000000000001,\n",
       "  5.12,\n",
       "  3.493,\n",
       "  4.08,\n",
       "  3.3980000000000006],\n",
       " [2.3039999999999994,\n",
       "  1.3410000000000002,\n",
       "  0.6619999999999998,\n",
       "  0.5819999999999999,\n",
       "  0.14499999999999996,\n",
       "  -0.608,\n",
       "  -0.3490000000000001,\n",
       "  2.722999999999999,\n",
       "  1.623,\n",
       "  0.062000000000000145],\n",
       " [5.594999999999997,\n",
       "  3.82,\n",
       "  4.132999999999999,\n",
       "  3.906000000000002,\n",
       "  6.196000000000004,\n",
       "  4.848000000000001,\n",
       "  4.048000000000001,\n",
       "  5.318000000000001,\n",
       "  5.202000000000001,\n",
       "  4.005])"
      ]
     },
     "execution_count": 2,
     "metadata": {},
     "output_type": "execute_result"
    }
   ],
   "source": [
    "#dates = ['Aug 1', 'Aug 14', 'Aug 15', 'Aug 16', 'Aug 17', 'Aug 18', 'Aug 19', 'Aug 20', 'Aug 21']\n",
    "\n",
    "#visualize_drift( freq_sim, fastt_sim, word2vec_sim, dates)\n",
    "\n",
    "en_data, fr_data, freq_sim, fastt_sim, word2vec_sim"
   ]
  },
  {
   "cell_type": "code",
   "execution_count": 15,
   "id": "ef1e7c3e-bcc3-4124-a2be-444da84b3664",
   "metadata": {},
   "outputs": [
    {
     "data": {
      "image/png": "[encoded data removed]",
      "text/plain": [
       "<Figure size 432x288 with 1 Axes>"
      ]
     },
     "metadata": {
      "needs_background": "light"
     },
     "output_type": "display_data"
    }
   ],
   "source": [
    "visualize_drift([6.583999999999999,\n",
    "  4.9879999999999995,\n",
    "  5.491,\n",
    "  3.4800000000000004,\n",
    "  4.266000000000002,\n",
    "  5.290000000000001,\n",
    "  5.12,\n",
    "  3.493,\n",
    "  4.08,\n",
    "  3.3980000000000006],\n",
    " [2.3039999999999994,\n",
    "  1.3410000000000002,\n",
    "  0.6619999999999998,\n",
    "  0.5819999999999999,\n",
    "  0.14499999999999996,\n",
    "  -0.608,\n",
    "  -0.3490000000000001,\n",
    "  2.722999999999999,\n",
    "  1.623,\n",
    "  0.062000000000000145],\n",
    " [5.594999999999997,\n",
    "  3.82,\n",
    "  4.132999999999999,\n",
    "  3.906000000000002,\n",
    "  6.196000000000004,\n",
    "  4.848000000000001,\n",
    "  4.048000000000001,\n",
    "  5.318000000000001,\n",
    "  5.202000000000001,\n",
    "  4.005], ['Aug 15', 'Aug 16', 'Aug 18', 'Aug 20', 'Aug 22', 'Aug 24'])"
   ]
  },
  {
   "cell_type": "code",
   "execution_count": null,
   "id": "47d3fd80-609e-40ef-800f-94351399f876",
   "metadata": {},
   "outputs": [],
   "source": []
  },
  {
   "cell_type": "code",
   "execution_count": 4,
   "id": "97a4c0a1-47c1-4c83-bf47-23727efead35",
   "metadata": {},
   "outputs": [
    {
     "data": {
      "text/plain": [
       "[]"
      ]
     },
     "execution_count": 4,
     "metadata": {},
     "output_type": "execute_result"
    }
   ],
   "source": [
    "en_data2, fr_data2, freq_sim2, fastt_sim2, word2vec_sim2 = demonstrate_all()"
   ]
  },
  {
   "cell_type": "code",
   "execution_count": 14,
   "id": "363fd394-4851-4f70-a91e-78bd9b1a9325",
   "metadata": {},
   "outputs": [
    {
     "data": {
      "text/plain": [
       "'2022-08-02'"
      ]
     },
     "execution_count": 14,
     "metadata": {},
     "output_type": "execute_result"
    }
   ],
   "source": [
    "start = '2022-08-01'\n",
    "next_ = nlp.dtime.strptime(start, \"%Y-%m-%d\") + nlp.datetime.timedelta(days=1)\n",
    "next_ = next_.strftime(\"%Y-%m-%d\")\n",
    "next_"
   ]
  },
  {
   "cell_type": "code",
   "execution_count": null,
   "id": "2b18e1f7-9bf0-4a2f-81fa-f8d79e72a123",
   "metadata": {},
   "outputs": [],
   "source": []
  }
 ],
 "metadata": {
  "kernelspec": {
   "display_name": "Python 3",
   "language": "python",
   "name": "python3"
  },
  "language_info": {
   "codemirror_mode": {
    "name": "ipython",
    "version": 3
   },
   "file_extension": ".py",
   "mimetype": "text/x-python",
   "name": "python",
   "nbconvert_exporter": "python",
   "pygments_lexer": "ipython3",
   "version": "3.9.5"
  }
 },
 "nbformat": 4,
 "nbformat_minor": 5
}
