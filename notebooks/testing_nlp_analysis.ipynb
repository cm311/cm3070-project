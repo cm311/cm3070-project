{
 "cells": [
  {
   "cell_type": "code",
   "execution_count": 5,
   "id": "cb9d52ed-7c3d-486b-9752-648aa9d65248",
   "metadata": {},
   "outputs": [],
   "source": [
    "import modules.nlp_analysis as nlp"
   ]
  },
  {
   "cell_type": "code",
   "execution_count": 42,
   "id": "e4906932-c428-4a33-9d3d-ebaff3177e86",
   "metadata": {},
   "outputs": [
    {
     "name": "stdout",
     "output_type": "stream",
     "text": [
      "Querying en articles...\n",
      "Number of articles retrieved: 100\n",
      "Building corpus from 100 articles...\n",
      "Complete              Fail Rate: 7.00 %  \n",
      "Querying fr articles...\n",
      "Number of articles retrieved: 99\n",
      "Building corpus from 99 articles...\n",
      "Complete              Fail Rate: 7.07 %  \n"
     ]
    }
   ],
   "source": [
    "arts_en = nlp.create_articles_from_keyphrase('india', language='en')\n",
    "arts_fr = nlp.create_articles_from_keyphrase('inde', language='fr')"
   ]
  },
  {
   "cell_type": "code",
   "execution_count": 47,
   "id": "db32b9e0-64c4-4ad1-babc-fce6fc210a0b",
   "metadata": {},
   "outputs": [
    {
     "data": {
      "application/json": {
       "ascii": false,
       "bar_format": null,
       "colour": null,
       "elapsed": 0.019824504852294922,
       "initial": 0,
       "n": 0,
       "ncols": null,
       "nrows": 29,
       "postfix": null,
       "prefix": "Downloading https://raw.githubusercontent.com/stanfordnlp/stanza-resources/main/resources_1.4.0.json",
       "rate": null,
       "total": 25998,
       "unit": "B",
       "unit_divisor": 1000,
       "unit_scale": true
      },
      "application/vnd.jupyter.widget-view+json": {
       "model_id": "444ec44daa184378bfa8df9d7016eb23",
       "version_major": 2,
       "version_minor": 0
      },
      "text/plain": [
       "Downloading https://raw.githubusercontent.com/stanfordnlp/stanza-resources/main/resources_1.4.0.json:   0%|   …"
      ]
     },
     "metadata": {},
     "output_type": "display_data"
    },
    {
     "name": "stderr",
     "output_type": "stream",
     "text": [
      "2022-08-29 10:55:14 INFO: Loading these models for language: en (English):\n",
      "========================\n",
      "| Processor | Package  |\n",
      "------------------------\n",
      "| tokenize  | combined |\n",
      "| pos       | combined |\n",
      "| lemma     | combined |\n",
      "========================\n",
      "\n",
      "2022-08-29 10:55:14 INFO: Use device: cpu\n",
      "2022-08-29 10:55:14 INFO: Loading: tokenize\n",
      "2022-08-29 10:55:14 INFO: Loading: pos\n",
      "2022-08-29 10:55:14 INFO: Loading: lemma\n",
      "2022-08-29 10:55:15 INFO: Done loading processors!\n"
     ]
    },
    {
     "data": {
      "application/json": {
       "ascii": false,
       "bar_format": null,
       "colour": null,
       "elapsed": 0.02001047134399414,
       "initial": 0,
       "n": 0,
       "ncols": null,
       "nrows": 29,
       "postfix": null,
       "prefix": "Downloading https://raw.githubusercontent.com/stanfordnlp/stanza-resources/main/resources_1.4.0.json",
       "rate": null,
       "total": 25998,
       "unit": "B",
       "unit_divisor": 1000,
       "unit_scale": true
      },
      "application/vnd.jupyter.widget-view+json": {
       "model_id": "a1ad0354f88344d3830520757e13fa82",
       "version_major": 2,
       "version_minor": 0
      },
      "text/plain": [
       "Downloading https://raw.githubusercontent.com/stanfordnlp/stanza-resources/main/resources_1.4.0.json:   0%|   …"
      ]
     },
     "metadata": {},
     "output_type": "display_data"
    },
    {
     "name": "stderr",
     "output_type": "stream",
     "text": [
      "2022-08-29 10:56:03 WARNING: Language fr package default expects mwt, which has been added\n",
      "2022-08-29 10:56:03 INFO: Loading these models for language: fr (French):\n",
      "=======================\n",
      "| Processor | Package |\n",
      "-----------------------\n",
      "| tokenize  | gsd     |\n",
      "| mwt       | gsd     |\n",
      "| pos       | gsd     |\n",
      "| lemma     | gsd     |\n",
      "=======================\n",
      "\n",
      "2022-08-29 10:56:03 INFO: Use device: cpu\n",
      "2022-08-29 10:56:03 INFO: Loading: tokenize\n",
      "2022-08-29 10:56:03 INFO: Loading: mwt\n",
      "2022-08-29 10:56:03 INFO: Loading: pos\n",
      "2022-08-29 10:56:03 INFO: Loading: lemma\n",
      "2022-08-29 10:56:03 INFO: Done loading processors!\n"
     ]
    }
   ],
   "source": [
    "tagged_corpus_en = nlp.run_stanza_pipeline(arts_en, language='en')\n",
    "tagged_corpus_fr = nlp.run_stanza_pipeline(arts_fr, language='fr')"
   ]
  },
  {
   "cell_type": "code",
   "execution_count": 52,
   "id": "679e9ba2-052a-43c9-8c95-ad836facbddb",
   "metadata": {},
   "outputs": [],
   "source": [
    "fastt_fr = nlp.related_from_fasttext('inde', tagged_corpus_fr)\n",
    "fastt_en = nlp.related_from_fasttext('india', tagged_corpus_en)"
   ]
  },
  {
   "cell_type": "code",
   "execution_count": 53,
   "id": "6a37f87d-f562-412c-a8d4-b696a8acfbfd",
   "metadata": {},
   "outputs": [],
   "source": [
    "terms_fr = []\n",
    "for word in fastt_fr:\n",
    "    terms_fr.append(word[0])\n",
    "\n",
    "terms_en = []\n",
    "for word in fastt_en:\n",
    "    terms_en.append(word[0])"
   ]
  },
  {
   "cell_type": "code",
   "execution_count": 54,
   "id": "2f8cb7cb-13db-41f4-bf42-3b56489543dc",
   "metadata": {},
   "outputs": [
    {
     "data": {
      "text/plain": [
       "['indien',\n",
       " 'bande',\n",
       " 'incertitude',\n",
       " 'série',\n",
       " 'centrale',\n",
       " 'shinde',\n",
       " 'intérieur',\n",
       " 'mousqueton']"
      ]
     },
     "execution_count": 54,
     "metadata": {},
     "output_type": "execute_result"
    }
   ],
   "source": [
    "terms_fr"
   ]
  },
  {
   "cell_type": "code",
   "execution_count": 55,
   "id": "e0093b56-71a7-460b-8386-3dba595e5c3a",
   "metadata": {},
   "outputs": [
    {
     "data": {
      "text/plain": [
       "['indian',\n",
       " 'condition',\n",
       " 'contribution',\n",
       " 'mention',\n",
       " 'statement',\n",
       " 'present',\n",
       " 'state',\n",
       " 'prevention']"
      ]
     },
     "execution_count": 55,
     "metadata": {},
     "output_type": "execute_result"
    }
   ],
   "source": [
    "terms_en"
   ]
  },
  {
   "cell_type": "code",
   "execution_count": 62,
   "id": "2ca20740-b5f8-401a-8b4c-fc74dc5614f2",
   "metadata": {},
   "outputs": [],
   "source": [
    "obj = requests.get('http://api.conceptnet.io/relatedness?node1=/c/en/india&node2=/c/fr/centrale').json()"
   ]
  },
  {
   "cell_type": "code",
   "execution_count": 64,
   "id": "495fa390-8e5a-4fd0-82f7-e5ecbed6cc1c",
   "metadata": {},
   "outputs": [
    {
     "data": {
      "text/plain": [
       "0.054"
      ]
     },
     "execution_count": 64,
     "metadata": {},
     "output_type": "execute_result"
    }
   ],
   "source": [
    "#'/relatedness?node1=/c/en/india&node2=/c/fr/mousqueton'\n",
    "obj['value']"
   ]
  },
  {
   "cell_type": "code",
   "execution_count": 73,
   "id": "d911cb1d-3880-4f18-9df9-d810f91f96a2",
   "metadata": {},
   "outputs": [],
   "source": [
    "sim_score = 0\n",
    "\n",
    "for t_fr in terms_fr:\n",
    "    for t_en in terms_en:\n",
    "        query = 'http://api.conceptnet.io/relatedness?node1=/c/en/'+ t_en + '&node2=/c/fr/' + t_fr\n",
    "        \n",
    "        obj = requests.get(query).json()\n",
    "        sim_score += obj['value']"
   ]
  },
  {
   "cell_type": "code",
   "execution_count": 74,
   "id": "faa8da4f-0140-451c-84f2-e7bbf604e7fa",
   "metadata": {},
   "outputs": [
    {
     "data": {
      "text/plain": [
       "0.6939999999999998"
      ]
     },
     "execution_count": 74,
     "metadata": {},
     "output_type": "execute_result"
    }
   ],
   "source": [
    "sim_score"
   ]
  },
  {
   "cell_type": "code",
   "execution_count": 75,
   "id": "f08b0397-b15f-4ef7-9cc9-49d7bf35990b",
   "metadata": {},
   "outputs": [
    {
     "data": {
      "text/plain": [
       "{'@context': ['http://api.conceptnet.io/ld/conceptnet5.7/context.ld.json'],\n",
       " '@id': '/relatedness?node1=/c/en/prevention&node2=/c/fr/mousqueton',\n",
       " 'value': 0.003,\n",
       " 'version': '5.8.1'}"
      ]
     },
     "execution_count": 75,
     "metadata": {},
     "output_type": "execute_result"
    }
   ],
   "source": [
    "obj"
   ]
  },
  {
   "cell_type": "code",
   "execution_count": 79,
   "id": "cf37d3c2-b6d4-46f8-9d1f-755246ca8084",
   "metadata": {},
   "outputs": [
    {
     "data": {
      "text/plain": [
       "tuple"
      ]
     },
     "execution_count": 79,
     "metadata": {},
     "output_type": "execute_result"
    }
   ],
   "source": [
    "type(fastt_fr[0])"
   ]
  },
  {
   "cell_type": "code",
   "execution_count": 91,
   "id": "a110afb9-ef0e-4ef1-ae16-2a15d811c6ab",
   "metadata": {},
   "outputs": [
    {
     "data": {
      "text/plain": [
       "{'@context': ['http://api.conceptnet.io/ld/conceptnet5.7/context.ld.json'],\n",
       " '@id': '/relatedness?node1=/c/en/sdfgsdf&node2=/c/en/dafsdpy',\n",
       " 'value': 0.107,\n",
       " 'version': '5.8.1'}"
      ]
     },
     "execution_count": 91,
     "metadata": {},
     "output_type": "execute_result"
    }
   ],
   "source": [
    "query = 'http://api.conceptnet.io/relatedness?node1=/c/en/sdfgsdf&node2=/c/en/dafsdpy'\n",
    "        \n",
    "obj = requests.get(query).json()\n",
    "obj"
   ]
  },
  {
   "cell_type": "code",
   "execution_count": 83,
   "id": "60bded32-bbbf-4fda-a84f-d5b60ae7d4c5",
   "metadata": {},
   "outputs": [
    {
     "name": "stdout",
     "output_type": "stream",
     "text": [
      "Querying en articles...\n",
      "Number of articles retrieved: 100\n",
      "Building corpus from 100 articles...\n",
      "Complete              Fail Rate: 4.00 %  \n",
      "Querying fr articles...\n",
      "Number of articles retrieved: 89\n",
      "Building corpus from 89 articles...\n",
      "Complete              Fail Rate: 12.36 %  \n"
     ]
    }
   ],
   "source": [
    "arts_en = []\n",
    "arts_fr = []\n",
    "\n",
    "\n",
    "\n",
    "arts_en.append(nlp.create_articles_from_keyphrase('india', '2022-08-01', '2022-08-02', language='en'))\n",
    "arts_fr.append(nlp.create_articles_from_keyphrase('inde', '2022-08-01', '2022-08-02', language='fr'))\n",
    "\n",
    "arts_en.append(nlp.create_articles_from_keyphrase('india', '2022-08-02', '2022-08-03', language='en'))\n",
    "arts_fr.append(nlp.create_articles_from_keyphrase('inde', '2022-08-02', '2022-08-03', language='fr'))\n",
    "\n",
    "arts_en.append(nlp.create_articles_from_keyphrase('india', '2022-08-03', '2022-08-04', language='en'))\n",
    "arts_fr.append(nlp.create_articles_from_keyphrase('inde', '2022-08-03', '2022-08-04', language='fr'))\n",
    "\n",
    "arts_en.append(nlp.create_articles_from_keyphrase('india', '2022-08-04', '2022-08-05', language='en'))\n",
    "arts_fr.append(nlp.create_articles_from_keyphrase('inde', '2022-08-04', '2022-08-05', language='fr'))\n",
    "\n",
    "arts_en.append(nlp.create_articles_from_keyphrase('india', '2022-08-05', '2022-08-06', language='en'))\n",
    "arts_fr.append(nlp.create_articles_from_keyphrase('inde', '2022-08-05', '2022-08-06', language='fr'))\n",
    "\n",
    "arts_en.append(nlp.create_articles_from_keyphrase('india', '2022-08-06', '2022-08-07', language='en'))\n",
    "arts_fr.append(nlp.create_articles_from_keyphrase('inde', '2022-08-06', '2022-08-07', language='fr'))\n",
    "\n",
    "arts_en.append(nlp.create_articles_from_keyphrase('india', '2022-08-07', '2022-08-08', language='en'))\n",
    "arts_fr.append(nlp.create_articles_from_keyphrase('inde', '2022-08-07', '2022-08-08', language='fr'))"
   ]
  },
  {
   "cell_type": "code",
   "execution_count": 87,
   "id": "acfee6c0-19e3-4c33-ba25-e22db07314b5",
   "metadata": {},
   "outputs": [
    {
     "data": {
      "application/json": {
       "ascii": false,
       "bar_format": null,
       "colour": null,
       "elapsed": 0.02037215232849121,
       "initial": 0,
       "n": 0,
       "ncols": null,
       "nrows": 29,
       "postfix": null,
       "prefix": "Downloading https://raw.githubusercontent.com/stanfordnlp/stanza-resources/main/resources_1.4.0.json",
       "rate": null,
       "total": 25998,
       "unit": "B",
       "unit_divisor": 1000,
       "unit_scale": true
      },
      "application/vnd.jupyter.widget-view+json": {
       "model_id": "44b1b63416254de6b31de78075ab772b",
       "version_major": 2,
       "version_minor": 0
      },
      "text/plain": [
       "Downloading https://raw.githubusercontent.com/stanfordnlp/stanza-resources/main/resources_1.4.0.json:   0%|   …"
      ]
     },
     "metadata": {},
     "output_type": "display_data"
    },
    {
     "name": "stderr",
     "output_type": "stream",
     "text": [
      "2022-08-29 12:55:45 INFO: Loading these models for language: en (English):\n",
      "========================\n",
      "| Processor | Package  |\n",
      "------------------------\n",
      "| tokenize  | combined |\n",
      "| pos       | combined |\n",
      "| lemma     | combined |\n",
      "========================\n",
      "\n",
      "2022-08-29 12:55:45 INFO: Use device: cpu\n",
      "2022-08-29 12:55:45 INFO: Loading: tokenize\n",
      "2022-08-29 12:55:45 INFO: Loading: pos\n",
      "2022-08-29 12:55:46 INFO: Loading: lemma\n",
      "2022-08-29 12:55:46 INFO: Done loading processors!\n"
     ]
    },
    {
     "name": "stdout",
     "output_type": "stream",
     "text": [
      "['Indian', 'new', 'high', 'first', 'New', 'economic', 'last', 'foreign']\n",
      "[('indian', 0.9999255537986755), ('say', 0.9999244213104248), ('state', 0.9999200105667114), ('would', 0.9999085664749146), ('year', 0.9999063611030579), ('trade', 0.9999028444290161), ('china', 0.999893844127655), ('make', 0.999891459941864)]\n",
      "[('indian', 0.9999964237213135), ('indicate', 0.9999935626983643), ('independent', 0.9999915361404419), ('nationalist', 0.9999914765357971), ('investment', 0.9999914765357971), ('anti-india', 0.9999914169311523), ('respect', 0.9999912977218628), ('national', 0.9999912977218628)]\n"
     ]
    }
   ],
   "source": [
    "for arts in arts_en:\n",
    "    pipe = nlp.run_stanza_pipeline(arts)\n",
    "    freq = nlp.related_from_most_frequent(pipe)\n",
    "    word2v = nlp.related_from_word2vec('india', pipe)\n",
    "    fastt = nlp.related_from_fasttext('india', pipe)\n",
    "    \n",
    "    print(freq)\n",
    "    print(word2v)\n",
    "    print(fastt)"
   ]
  },
  {
   "cell_type": "code",
   "execution_count": 88,
   "id": "427eb0c1-1694-4d69-8fe8-bdbcc15c552f",
   "metadata": {},
   "outputs": [
    {
     "ename": "NameError",
     "evalue": "name 'get_similarity_score_between_methods' is not defined",
     "output_type": "error",
     "traceback": [
      "\u001b[1;31m---------------------------------------------------------------------------\u001b[0m",
      "\u001b[1;31mNameError\u001b[0m                                 Traceback (most recent call last)",
      "\u001b[1;32m<ipython-input-88-50974027ad1f>\u001b[0m in \u001b[0;36m<module>\u001b[1;34m\u001b[0m\n\u001b[1;32m----> 1\u001b[1;33m \u001b[0mget_similarity_score_between_methods\u001b[0m\u001b[1;33m(\u001b[0m\u001b[0mfreq\u001b[0m\u001b[1;33m,\u001b[0m \u001b[0mword2v\u001b[0m\u001b[1;33m)\u001b[0m\u001b[1;33m\u001b[0m\u001b[1;33m\u001b[0m\u001b[0m\n\u001b[0m",
      "\u001b[1;31mNameError\u001b[0m: name 'get_similarity_score_between_methods' is not defined"
     ]
    }
   ],
   "source": [
    "get_similarity_score_between_methods(freq, word2v)"
   ]
  },
  {
   "cell_type": "code",
   "execution_count": null,
   "id": "230e16cf-7595-41ce-a0fd-6ab33444651b",
   "metadata": {},
   "outputs": [],
   "source": []
  }
 ],
 "metadata": {
  "kernelspec": {
   "display_name": "Python 3",
   "language": "python",
   "name": "python3"
  },
  "language_info": {
   "codemirror_mode": {
    "name": "ipython",
    "version": 3
   },
   "file_extension": ".py",
   "mimetype": "text/x-python",
   "name": "python",
   "nbconvert_exporter": "python",
   "pygments_lexer": "ipython3",
   "version": "3.9.5"
  }
 },
 "nbformat": 4,
 "nbformat_minor": 5
}
