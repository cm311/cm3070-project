{
 "cells": [
  {
   "cell_type": "code",
   "execution_count": 3,
   "id": "9765fc68-505a-4e2e-add7-783f04cbdeac",
   "metadata": {},
   "outputs": [
    {
     "name": "stdout",
     "output_type": "stream",
     "text": [
      "Querying en articles for date range 2022-08-01  -  2022-08-02...\n",
      "Number of articles retrieved: 100\n",
      "Building corpus from 100 articles...\n",
      "Complete              Fail Rate: 4.00 %  \n",
      "\n",
      "\n",
      "\n",
      "Querying fr articles for date range 2022-08-01  -  2022-08-02...\n",
      "Number of articles retrieved: 85\n",
      "Building corpus from 85 articles...\n",
      "Complete              Fail Rate: 10.59 %  \n",
      "\n",
      "\n",
      "\n",
      "Querying en articles for date range 2022-08-02  -  2022-08-03...\n",
      "Number of articles retrieved: 100\n",
      "Building corpus from 100 articles...\n",
      "Complete              Fail Rate: 2.00 %  \n",
      "\n",
      "\n",
      "\n",
      "Querying fr articles for date range 2022-08-02  -  2022-08-03...\n",
      "Number of articles retrieved: 82\n",
      "Building corpus from 82 articles...\n",
      "Complete              Fail Rate: 2.44 %  \n",
      "\n",
      "\n",
      "\n",
      "Querying en articles for date range 2022-08-03  -  2022-08-04...\n",
      "Number of articles retrieved: 100\n",
      "Building corpus from 100 articles...\n",
      "Complete              Fail Rate: 4.00 %  \n",
      "\n",
      "\n",
      "\n",
      "Querying fr articles for date range 2022-08-03  -  2022-08-04...\n",
      "Number of articles retrieved: 67\n",
      "Building corpus from 67 articles...\n",
      "Complete              Fail Rate: 7.46 %  \n",
      "\n",
      "\n",
      "\n",
      "Querying en articles for date range 2022-08-04  -  2022-08-05...\n",
      "Number of articles retrieved: 99\n",
      "Building corpus from 99 articles...\n",
      "Complete              Fail Rate: 7.07 %  \n",
      "\n",
      "\n",
      "\n",
      "Querying fr articles for date range 2022-08-04  -  2022-08-05...\n",
      "Number of articles retrieved: 41\n",
      "Building corpus from 41 articles...\n",
      "Complete              Fail Rate: 9.76 %  \n",
      "\n",
      "\n",
      "\n",
      "Querying en articles for date range 2022-08-05  -  2022-08-06...\n",
      "Number of articles retrieved: 100\n",
      "Building corpus from 100 articles...\n",
      "Complete              Fail Rate: 4.00 %  \n",
      "\n",
      "\n",
      "\n",
      "Querying fr articles for date range 2022-08-05  -  2022-08-06...\n",
      "Number of articles retrieved: 100\n",
      "Building corpus from 100 articles...\n",
      "Complete              Fail Rate: 10.00 %  \n",
      "\n",
      "\n",
      "\n",
      "Querying en articles for date range 2022-08-06  -  2022-08-07...\n",
      "Number of articles retrieved: 100\n",
      "Building corpus from 100 articles...\n",
      "Complete              Fail Rate: 2.00 %  \n",
      "\n",
      "\n",
      "\n",
      "Querying fr articles for date range 2022-08-06  -  2022-08-07...\n",
      "Number of articles retrieved: 51\n",
      "Building corpus from 51 articles...\n",
      "Complete              Fail Rate: 5.88 %  \n",
      "\n",
      "\n",
      "\n",
      "Querying en articles for date range 2022-08-07  -  2022-08-08...\n",
      "Number of articles retrieved: 98\n",
      "Building corpus from 98 articles...\n",
      "Complete              Fail Rate: 5.10 %  \n",
      "\n",
      "\n",
      "\n",
      "Querying fr articles for date range 2022-08-07  -  2022-08-08...\n",
      "Number of articles retrieved: 62\n",
      "Building corpus from 62 articles...\n",
      "Complete              Fail Rate: 6.45 %  \n",
      "\n",
      "\n",
      "\n"
     ]
    }
   ],
   "source": [
    "import modules.data_vis\n",
    "import nlp_analysis as nlp\n",
    "\n",
    "arts_en, arts_fr = nlp.generate_test_corpora()"
   ]
  },
  {
   "cell_type": "code",
   "execution_count": 4,
   "id": "765285cb-8573-40dc-a6e1-de45efbabcd1",
   "metadata": {},
   "outputs": [
    {
     "data": {
      "application/json": {
       "ascii": false,
       "bar_format": null,
       "colour": null,
       "elapsed": 0.026929378509521484,
       "initial": 0,
       "n": 0,
       "ncols": null,
       "nrows": 29,
       "postfix": null,
       "prefix": "Downloading https://raw.githubusercontent.com/stanfordnlp/stanza-resources/main/resources_1.4.0.json",
       "rate": null,
       "total": 25998,
       "unit": "B",
       "unit_divisor": 1000,
       "unit_scale": true
      },
      "application/vnd.jupyter.widget-view+json": {
       "model_id": "685455af8e5c43a48405a3f744de3c82",
       "version_major": 2,
       "version_minor": 0
      },
      "text/plain": [
       "Downloading https://raw.githubusercontent.com/stanfordnlp/stanza-resources/main/resources_1.4.0.json:   0%|   …"
      ]
     },
     "metadata": {},
     "output_type": "display_data"
    },
    {
     "name": "stderr",
     "output_type": "stream",
     "text": [
      "2022-08-29 15:20:23 INFO: Loading these models for language: en (English):\n",
      "========================\n",
      "| Processor | Package  |\n",
      "------------------------\n",
      "| tokenize  | combined |\n",
      "| pos       | combined |\n",
      "| lemma     | combined |\n",
      "========================\n",
      "\n",
      "2022-08-29 15:20:23 INFO: Use device: cpu\n",
      "2022-08-29 15:20:23 INFO: Loading: tokenize\n",
      "2022-08-29 15:20:23 INFO: Loading: pos\n",
      "2022-08-29 15:20:23 INFO: Loading: lemma\n",
      "2022-08-29 15:20:23 INFO: Done loading processors!\n"
     ]
    },
    {
     "name": "stdout",
     "output_type": "stream",
     "text": [
      "Tagged corpus created from NLP pipeline.\n",
      "\n",
      "\n",
      "\n",
      "\n"
     ]
    },
    {
     "data": {
      "application/json": {
       "ascii": false,
       "bar_format": null,
       "colour": null,
       "elapsed": 0.0219419002532959,
       "initial": 0,
       "n": 0,
       "ncols": null,
       "nrows": 29,
       "postfix": null,
       "prefix": "Downloading https://raw.githubusercontent.com/stanfordnlp/stanza-resources/main/resources_1.4.0.json",
       "rate": null,
       "total": 25998,
       "unit": "B",
       "unit_divisor": 1000,
       "unit_scale": true
      },
      "application/vnd.jupyter.widget-view+json": {
       "model_id": "3403274068fa478ba850b1dabca82e09",
       "version_major": 2,
       "version_minor": 0
      },
      "text/plain": [
       "Downloading https://raw.githubusercontent.com/stanfordnlp/stanza-resources/main/resources_1.4.0.json:   0%|   …"
      ]
     },
     "metadata": {},
     "output_type": "display_data"
    },
    {
     "name": "stderr",
     "output_type": "stream",
     "text": [
      "2022-08-29 15:21:31 INFO: Loading these models for language: en (English):\n",
      "========================\n",
      "| Processor | Package  |\n",
      "------------------------\n",
      "| tokenize  | combined |\n",
      "| pos       | combined |\n",
      "| lemma     | combined |\n",
      "========================\n",
      "\n",
      "2022-08-29 15:21:31 INFO: Use device: cpu\n",
      "2022-08-29 15:21:31 INFO: Loading: tokenize\n",
      "2022-08-29 15:21:31 INFO: Loading: pos\n",
      "2022-08-29 15:21:31 INFO: Loading: lemma\n",
      "2022-08-29 15:21:31 INFO: Done loading processors!\n"
     ]
    },
    {
     "name": "stdout",
     "output_type": "stream",
     "text": [
      "Tagged corpus created from NLP pipeline.\n",
      "\n",
      "\n",
      "\n",
      "\n"
     ]
    },
    {
     "data": {
      "application/json": {
       "ascii": false,
       "bar_format": null,
       "colour": null,
       "elapsed": 0.021456480026245117,
       "initial": 0,
       "n": 0,
       "ncols": null,
       "nrows": 29,
       "postfix": null,
       "prefix": "Downloading https://raw.githubusercontent.com/stanfordnlp/stanza-resources/main/resources_1.4.0.json",
       "rate": null,
       "total": 25998,
       "unit": "B",
       "unit_divisor": 1000,
       "unit_scale": true
      },
      "application/vnd.jupyter.widget-view+json": {
       "model_id": "e110ee67125f4bf5b8594d337a8a3cf1",
       "version_major": 2,
       "version_minor": 0
      },
      "text/plain": [
       "Downloading https://raw.githubusercontent.com/stanfordnlp/stanza-resources/main/resources_1.4.0.json:   0%|   …"
      ]
     },
     "metadata": {},
     "output_type": "display_data"
    },
    {
     "name": "stderr",
     "output_type": "stream",
     "text": [
      "2022-08-29 15:22:36 INFO: Loading these models for language: en (English):\n",
      "========================\n",
      "| Processor | Package  |\n",
      "------------------------\n",
      "| tokenize  | combined |\n",
      "| pos       | combined |\n",
      "| lemma     | combined |\n",
      "========================\n",
      "\n",
      "2022-08-29 15:22:36 INFO: Use device: cpu\n",
      "2022-08-29 15:22:36 INFO: Loading: tokenize\n",
      "2022-08-29 15:22:36 INFO: Loading: pos\n",
      "2022-08-29 15:22:36 INFO: Loading: lemma\n",
      "2022-08-29 15:22:36 INFO: Done loading processors!\n"
     ]
    },
    {
     "name": "stdout",
     "output_type": "stream",
     "text": [
      "Tagged corpus created from NLP pipeline.\n",
      "\n",
      "\n",
      "\n",
      "\n"
     ]
    },
    {
     "data": {
      "application/json": {
       "ascii": false,
       "bar_format": null,
       "colour": null,
       "elapsed": 0.02293872833251953,
       "initial": 0,
       "n": 0,
       "ncols": null,
       "nrows": 29,
       "postfix": null,
       "prefix": "Downloading https://raw.githubusercontent.com/stanfordnlp/stanza-resources/main/resources_1.4.0.json",
       "rate": null,
       "total": 25998,
       "unit": "B",
       "unit_divisor": 1000,
       "unit_scale": true
      },
      "application/vnd.jupyter.widget-view+json": {
       "model_id": "5834b5aabdca46248c5f9c7f710f1a0f",
       "version_major": 2,
       "version_minor": 0
      },
      "text/plain": [
       "Downloading https://raw.githubusercontent.com/stanfordnlp/stanza-resources/main/resources_1.4.0.json:   0%|   …"
      ]
     },
     "metadata": {},
     "output_type": "display_data"
    },
    {
     "name": "stderr",
     "output_type": "stream",
     "text": [
      "2022-08-29 15:23:46 INFO: Loading these models for language: en (English):\n",
      "========================\n",
      "| Processor | Package  |\n",
      "------------------------\n",
      "| tokenize  | combined |\n",
      "| pos       | combined |\n",
      "| lemma     | combined |\n",
      "========================\n",
      "\n",
      "2022-08-29 15:23:46 INFO: Use device: cpu\n",
      "2022-08-29 15:23:46 INFO: Loading: tokenize\n",
      "2022-08-29 15:23:46 INFO: Loading: pos\n",
      "2022-08-29 15:23:46 INFO: Loading: lemma\n",
      "2022-08-29 15:23:46 INFO: Done loading processors!\n"
     ]
    },
    {
     "name": "stdout",
     "output_type": "stream",
     "text": [
      "Tagged corpus created from NLP pipeline.\n",
      "\n",
      "\n",
      "\n",
      "\n"
     ]
    },
    {
     "data": {
      "application/json": {
       "ascii": false,
       "bar_format": null,
       "colour": null,
       "elapsed": 0.01994156837463379,
       "initial": 0,
       "n": 0,
       "ncols": null,
       "nrows": 29,
       "postfix": null,
       "prefix": "Downloading https://raw.githubusercontent.com/stanfordnlp/stanza-resources/main/resources_1.4.0.json",
       "rate": null,
       "total": 25998,
       "unit": "B",
       "unit_divisor": 1000,
       "unit_scale": true
      },
      "application/vnd.jupyter.widget-view+json": {
       "model_id": "96da4243c0af4454acf227604eb0e69e",
       "version_major": 2,
       "version_minor": 0
      },
      "text/plain": [
       "Downloading https://raw.githubusercontent.com/stanfordnlp/stanza-resources/main/resources_1.4.0.json:   0%|   …"
      ]
     },
     "metadata": {},
     "output_type": "display_data"
    },
    {
     "name": "stderr",
     "output_type": "stream",
     "text": [
      "2022-08-29 15:24:54 INFO: Loading these models for language: en (English):\n",
      "========================\n",
      "| Processor | Package  |\n",
      "------------------------\n",
      "| tokenize  | combined |\n",
      "| pos       | combined |\n",
      "| lemma     | combined |\n",
      "========================\n",
      "\n",
      "2022-08-29 15:24:54 INFO: Use device: cpu\n",
      "2022-08-29 15:24:54 INFO: Loading: tokenize\n",
      "2022-08-29 15:24:54 INFO: Loading: pos\n",
      "2022-08-29 15:24:55 INFO: Loading: lemma\n",
      "2022-08-29 15:24:55 INFO: Done loading processors!\n"
     ]
    },
    {
     "name": "stdout",
     "output_type": "stream",
     "text": [
      "Tagged corpus created from NLP pipeline.\n",
      "\n",
      "\n",
      "\n",
      "\n"
     ]
    },
    {
     "data": {
      "application/json": {
       "ascii": false,
       "bar_format": null,
       "colour": null,
       "elapsed": 0.019977807998657227,
       "initial": 0,
       "n": 0,
       "ncols": null,
       "nrows": 29,
       "postfix": null,
       "prefix": "Downloading https://raw.githubusercontent.com/stanfordnlp/stanza-resources/main/resources_1.4.0.json",
       "rate": null,
       "total": 25998,
       "unit": "B",
       "unit_divisor": 1000,
       "unit_scale": true
      },
      "application/vnd.jupyter.widget-view+json": {
       "model_id": "3e0b343a14e742d5923acbf466308454",
       "version_major": 2,
       "version_minor": 0
      },
      "text/plain": [
       "Downloading https://raw.githubusercontent.com/stanfordnlp/stanza-resources/main/resources_1.4.0.json:   0%|   …"
      ]
     },
     "metadata": {},
     "output_type": "display_data"
    },
    {
     "name": "stderr",
     "output_type": "stream",
     "text": [
      "2022-08-29 15:26:17 INFO: Loading these models for language: en (English):\n",
      "========================\n",
      "| Processor | Package  |\n",
      "------------------------\n",
      "| tokenize  | combined |\n",
      "| pos       | combined |\n",
      "| lemma     | combined |\n",
      "========================\n",
      "\n",
      "2022-08-29 15:26:17 INFO: Use device: cpu\n",
      "2022-08-29 15:26:17 INFO: Loading: tokenize\n",
      "2022-08-29 15:26:17 INFO: Loading: pos\n",
      "2022-08-29 15:26:17 INFO: Loading: lemma\n",
      "2022-08-29 15:26:17 INFO: Done loading processors!\n"
     ]
    },
    {
     "name": "stdout",
     "output_type": "stream",
     "text": [
      "Tagged corpus created from NLP pipeline.\n",
      "\n",
      "\n",
      "\n",
      "\n"
     ]
    },
    {
     "data": {
      "application/json": {
       "ascii": false,
       "bar_format": null,
       "colour": null,
       "elapsed": 0.01994490623474121,
       "initial": 0,
       "n": 0,
       "ncols": null,
       "nrows": 29,
       "postfix": null,
       "prefix": "Downloading https://raw.githubusercontent.com/stanfordnlp/stanza-resources/main/resources_1.4.0.json",
       "rate": null,
       "total": 25998,
       "unit": "B",
       "unit_divisor": 1000,
       "unit_scale": true
      },
      "application/vnd.jupyter.widget-view+json": {
       "model_id": "c82cd7f906a54371a02c0a9963798fac",
       "version_major": 2,
       "version_minor": 0
      },
      "text/plain": [
       "Downloading https://raw.githubusercontent.com/stanfordnlp/stanza-resources/main/resources_1.4.0.json:   0%|   …"
      ]
     },
     "metadata": {},
     "output_type": "display_data"
    },
    {
     "name": "stderr",
     "output_type": "stream",
     "text": [
      "2022-08-29 15:27:51 INFO: Loading these models for language: en (English):\n",
      "========================\n",
      "| Processor | Package  |\n",
      "------------------------\n",
      "| tokenize  | combined |\n",
      "| pos       | combined |\n",
      "| lemma     | combined |\n",
      "========================\n",
      "\n",
      "2022-08-29 15:27:51 INFO: Use device: cpu\n",
      "2022-08-29 15:27:51 INFO: Loading: tokenize\n",
      "2022-08-29 15:27:51 INFO: Loading: pos\n",
      "2022-08-29 15:27:51 INFO: Loading: lemma\n",
      "2022-08-29 15:27:51 INFO: Done loading processors!\n"
     ]
    },
    {
     "name": "stdout",
     "output_type": "stream",
     "text": [
      "Tagged corpus created from NLP pipeline.\n",
      "\n",
      "\n",
      "\n",
      "\n"
     ]
    },
    {
     "data": {
      "application/json": {
       "ascii": false,
       "bar_format": null,
       "colour": null,
       "elapsed": 0.023935317993164062,
       "initial": 0,
       "n": 0,
       "ncols": null,
       "nrows": 29,
       "postfix": null,
       "prefix": "Downloading https://raw.githubusercontent.com/stanfordnlp/stanza-resources/main/resources_1.4.0.json",
       "rate": null,
       "total": 25998,
       "unit": "B",
       "unit_divisor": 1000,
       "unit_scale": true
      },
      "application/vnd.jupyter.widget-view+json": {
       "model_id": "d71149ee8d274d90a732bf0daeaba39c",
       "version_major": 2,
       "version_minor": 0
      },
      "text/plain": [
       "Downloading https://raw.githubusercontent.com/stanfordnlp/stanza-resources/main/resources_1.4.0.json:   0%|   …"
      ]
     },
     "metadata": {},
     "output_type": "display_data"
    },
    {
     "name": "stderr",
     "output_type": "stream",
     "text": [
      "2022-08-29 15:28:56 WARNING: Language fr package default expects mwt, which has been added\n",
      "2022-08-29 15:28:57 INFO: Loading these models for language: fr (French):\n",
      "=======================\n",
      "| Processor | Package |\n",
      "-----------------------\n",
      "| tokenize  | gsd     |\n",
      "| mwt       | gsd     |\n",
      "| pos       | gsd     |\n",
      "| lemma     | gsd     |\n",
      "=======================\n",
      "\n",
      "2022-08-29 15:28:57 INFO: Use device: cpu\n",
      "2022-08-29 15:28:57 INFO: Loading: tokenize\n",
      "2022-08-29 15:28:57 INFO: Loading: mwt\n",
      "2022-08-29 15:28:57 INFO: Loading: pos\n",
      "2022-08-29 15:28:57 INFO: Loading: lemma\n",
      "2022-08-29 15:28:57 INFO: Done loading processors!\n"
     ]
    },
    {
     "name": "stdout",
     "output_type": "stream",
     "text": [
      "Tagged corpus created from NLP pipeline.\n",
      "\n",
      "\n",
      "\n",
      "\n"
     ]
    },
    {
     "data": {
      "application/json": {
       "ascii": false,
       "bar_format": null,
       "colour": null,
       "elapsed": 0.019946575164794922,
       "initial": 0,
       "n": 0,
       "ncols": null,
       "nrows": 29,
       "postfix": null,
       "prefix": "Downloading https://raw.githubusercontent.com/stanfordnlp/stanza-resources/main/resources_1.4.0.json",
       "rate": null,
       "total": 25998,
       "unit": "B",
       "unit_divisor": 1000,
       "unit_scale": true
      },
      "application/vnd.jupyter.widget-view+json": {
       "model_id": "6bb3167ffd554dc99da4ca320ba2b61d",
       "version_major": 2,
       "version_minor": 0
      },
      "text/plain": [
       "Downloading https://raw.githubusercontent.com/stanfordnlp/stanza-resources/main/resources_1.4.0.json:   0%|   …"
      ]
     },
     "metadata": {},
     "output_type": "display_data"
    },
    {
     "name": "stderr",
     "output_type": "stream",
     "text": [
      "2022-08-29 15:29:58 WARNING: Language fr package default expects mwt, which has been added\n",
      "2022-08-29 15:29:58 INFO: Loading these models for language: fr (French):\n",
      "=======================\n",
      "| Processor | Package |\n",
      "-----------------------\n",
      "| tokenize  | gsd     |\n",
      "| mwt       | gsd     |\n",
      "| pos       | gsd     |\n",
      "| lemma     | gsd     |\n",
      "=======================\n",
      "\n",
      "2022-08-29 15:29:58 INFO: Use device: cpu\n",
      "2022-08-29 15:29:58 INFO: Loading: tokenize\n",
      "2022-08-29 15:29:58 INFO: Loading: mwt\n",
      "2022-08-29 15:29:58 INFO: Loading: pos\n",
      "2022-08-29 15:29:58 INFO: Loading: lemma\n",
      "2022-08-29 15:29:58 INFO: Done loading processors!\n"
     ]
    },
    {
     "name": "stdout",
     "output_type": "stream",
     "text": [
      "Tagged corpus created from NLP pipeline.\n",
      "\n",
      "\n",
      "\n",
      "\n"
     ]
    },
    {
     "data": {
      "application/json": {
       "ascii": false,
       "bar_format": null,
       "colour": null,
       "elapsed": 0.020521163940429688,
       "initial": 0,
       "n": 0,
       "ncols": null,
       "nrows": 29,
       "postfix": null,
       "prefix": "Downloading https://raw.githubusercontent.com/stanfordnlp/stanza-resources/main/resources_1.4.0.json",
       "rate": null,
       "total": 25998,
       "unit": "B",
       "unit_divisor": 1000,
       "unit_scale": true
      },
      "application/vnd.jupyter.widget-view+json": {
       "model_id": "2d84be23f99f4b4cac7b344448b3be0e",
       "version_major": 2,
       "version_minor": 0
      },
      "text/plain": [
       "Downloading https://raw.githubusercontent.com/stanfordnlp/stanza-resources/main/resources_1.4.0.json:   0%|   …"
      ]
     },
     "metadata": {},
     "output_type": "display_data"
    },
    {
     "name": "stderr",
     "output_type": "stream",
     "text": [
      "2022-08-29 15:30:49 WARNING: Language fr package default expects mwt, which has been added\n",
      "2022-08-29 15:30:49 INFO: Loading these models for language: fr (French):\n",
      "=======================\n",
      "| Processor | Package |\n",
      "-----------------------\n",
      "| tokenize  | gsd     |\n",
      "| mwt       | gsd     |\n",
      "| pos       | gsd     |\n",
      "| lemma     | gsd     |\n",
      "=======================\n",
      "\n",
      "2022-08-29 15:30:49 INFO: Use device: cpu\n",
      "2022-08-29 15:30:49 INFO: Loading: tokenize\n",
      "2022-08-29 15:30:49 INFO: Loading: mwt\n",
      "2022-08-29 15:30:49 INFO: Loading: pos\n",
      "2022-08-29 15:30:49 INFO: Loading: lemma\n",
      "2022-08-29 15:30:49 INFO: Done loading processors!\n"
     ]
    },
    {
     "name": "stdout",
     "output_type": "stream",
     "text": [
      "Tagged corpus created from NLP pipeline.\n",
      "\n",
      "\n",
      "\n",
      "\n"
     ]
    },
    {
     "data": {
      "application/json": {
       "ascii": false,
       "bar_format": null,
       "colour": null,
       "elapsed": 0.019945383071899414,
       "initial": 0,
       "n": 0,
       "ncols": null,
       "nrows": 29,
       "postfix": null,
       "prefix": "Downloading https://raw.githubusercontent.com/stanfordnlp/stanza-resources/main/resources_1.4.0.json",
       "rate": null,
       "total": 25998,
       "unit": "B",
       "unit_divisor": 1000,
       "unit_scale": true
      },
      "application/vnd.jupyter.widget-view+json": {
       "model_id": "5dfb8491c92147afb949f009c028d5fa",
       "version_major": 2,
       "version_minor": 0
      },
      "text/plain": [
       "Downloading https://raw.githubusercontent.com/stanfordnlp/stanza-resources/main/resources_1.4.0.json:   0%|   …"
      ]
     },
     "metadata": {},
     "output_type": "display_data"
    },
    {
     "name": "stderr",
     "output_type": "stream",
     "text": [
      "2022-08-29 15:31:38 WARNING: Language fr package default expects mwt, which has been added\n",
      "2022-08-29 15:31:39 INFO: Loading these models for language: fr (French):\n",
      "=======================\n",
      "| Processor | Package |\n",
      "-----------------------\n",
      "| tokenize  | gsd     |\n",
      "| mwt       | gsd     |\n",
      "| pos       | gsd     |\n",
      "| lemma     | gsd     |\n",
      "=======================\n",
      "\n",
      "2022-08-29 15:31:39 INFO: Use device: cpu\n",
      "2022-08-29 15:31:39 INFO: Loading: tokenize\n",
      "2022-08-29 15:31:39 INFO: Loading: mwt\n",
      "2022-08-29 15:31:39 INFO: Loading: pos\n",
      "2022-08-29 15:31:39 INFO: Loading: lemma\n",
      "2022-08-29 15:31:39 INFO: Done loading processors!\n"
     ]
    },
    {
     "name": "stdout",
     "output_type": "stream",
     "text": [
      "Tagged corpus created from NLP pipeline.\n",
      "\n",
      "\n",
      "\n",
      "\n"
     ]
    },
    {
     "data": {
      "application/json": {
       "ascii": false,
       "bar_format": null,
       "colour": null,
       "elapsed": 0.02090764045715332,
       "initial": 0,
       "n": 0,
       "ncols": null,
       "nrows": 29,
       "postfix": null,
       "prefix": "Downloading https://raw.githubusercontent.com/stanfordnlp/stanza-resources/main/resources_1.4.0.json",
       "rate": null,
       "total": 25998,
       "unit": "B",
       "unit_divisor": 1000,
       "unit_scale": true
      },
      "application/vnd.jupyter.widget-view+json": {
       "model_id": "ca303f9b06d8400bbaf732fba54fc0f7",
       "version_major": 2,
       "version_minor": 0
      },
      "text/plain": [
       "Downloading https://raw.githubusercontent.com/stanfordnlp/stanza-resources/main/resources_1.4.0.json:   0%|   …"
      ]
     },
     "metadata": {},
     "output_type": "display_data"
    },
    {
     "name": "stderr",
     "output_type": "stream",
     "text": [
      "2022-08-29 15:32:09 WARNING: Language fr package default expects mwt, which has been added\n",
      "2022-08-29 15:32:09 INFO: Loading these models for language: fr (French):\n",
      "=======================\n",
      "| Processor | Package |\n",
      "-----------------------\n",
      "| tokenize  | gsd     |\n",
      "| mwt       | gsd     |\n",
      "| pos       | gsd     |\n",
      "| lemma     | gsd     |\n",
      "=======================\n",
      "\n",
      "2022-08-29 15:32:09 INFO: Use device: cpu\n",
      "2022-08-29 15:32:09 INFO: Loading: tokenize\n",
      "2022-08-29 15:32:09 INFO: Loading: mwt\n",
      "2022-08-29 15:32:09 INFO: Loading: pos\n",
      "2022-08-29 15:32:10 INFO: Loading: lemma\n",
      "2022-08-29 15:32:10 INFO: Done loading processors!\n"
     ]
    },
    {
     "name": "stdout",
     "output_type": "stream",
     "text": [
      "Tagged corpus created from NLP pipeline.\n",
      "\n",
      "\n",
      "\n",
      "\n"
     ]
    },
    {
     "data": {
      "application/json": {
       "ascii": false,
       "bar_format": null,
       "colour": null,
       "elapsed": 0.019335269927978516,
       "initial": 0,
       "n": 0,
       "ncols": null,
       "nrows": 29,
       "postfix": null,
       "prefix": "Downloading https://raw.githubusercontent.com/stanfordnlp/stanza-resources/main/resources_1.4.0.json",
       "rate": null,
       "total": 25998,
       "unit": "B",
       "unit_divisor": 1000,
       "unit_scale": true
      },
      "application/vnd.jupyter.widget-view+json": {
       "model_id": "bb2ab4a6242145cd9be7919791c17e30",
       "version_major": 2,
       "version_minor": 0
      },
      "text/plain": [
       "Downloading https://raw.githubusercontent.com/stanfordnlp/stanza-resources/main/resources_1.4.0.json:   0%|   …"
      ]
     },
     "metadata": {},
     "output_type": "display_data"
    },
    {
     "name": "stderr",
     "output_type": "stream",
     "text": [
      "2022-08-29 15:33:26 WARNING: Language fr package default expects mwt, which has been added\n",
      "2022-08-29 15:33:26 INFO: Loading these models for language: fr (French):\n",
      "=======================\n",
      "| Processor | Package |\n",
      "-----------------------\n",
      "| tokenize  | gsd     |\n",
      "| mwt       | gsd     |\n",
      "| pos       | gsd     |\n",
      "| lemma     | gsd     |\n",
      "=======================\n",
      "\n",
      "2022-08-29 15:33:26 INFO: Use device: cpu\n",
      "2022-08-29 15:33:26 INFO: Loading: tokenize\n",
      "2022-08-29 15:33:26 INFO: Loading: mwt\n",
      "2022-08-29 15:33:26 INFO: Loading: pos\n",
      "2022-08-29 15:33:26 INFO: Loading: lemma\n",
      "2022-08-29 15:33:26 INFO: Done loading processors!\n"
     ]
    },
    {
     "name": "stdout",
     "output_type": "stream",
     "text": [
      "Tagged corpus created from NLP pipeline.\n",
      "\n",
      "\n",
      "\n",
      "\n"
     ]
    },
    {
     "data": {
      "application/json": {
       "ascii": false,
       "bar_format": null,
       "colour": null,
       "elapsed": 0.020944595336914062,
       "initial": 0,
       "n": 0,
       "ncols": null,
       "nrows": 29,
       "postfix": null,
       "prefix": "Downloading https://raw.githubusercontent.com/stanfordnlp/stanza-resources/main/resources_1.4.0.json",
       "rate": null,
       "total": 25998,
       "unit": "B",
       "unit_divisor": 1000,
       "unit_scale": true
      },
      "application/vnd.jupyter.widget-view+json": {
       "model_id": "de6a7950cc474fe6be108f2350b4aed0",
       "version_major": 2,
       "version_minor": 0
      },
      "text/plain": [
       "Downloading https://raw.githubusercontent.com/stanfordnlp/stanza-resources/main/resources_1.4.0.json:   0%|   …"
      ]
     },
     "metadata": {},
     "output_type": "display_data"
    },
    {
     "name": "stderr",
     "output_type": "stream",
     "text": [
      "2022-08-29 15:34:10 WARNING: Language fr package default expects mwt, which has been added\n",
      "2022-08-29 15:34:10 INFO: Loading these models for language: fr (French):\n",
      "=======================\n",
      "| Processor | Package |\n",
      "-----------------------\n",
      "| tokenize  | gsd     |\n",
      "| mwt       | gsd     |\n",
      "| pos       | gsd     |\n",
      "| lemma     | gsd     |\n",
      "=======================\n",
      "\n",
      "2022-08-29 15:34:10 INFO: Use device: cpu\n",
      "2022-08-29 15:34:10 INFO: Loading: tokenize\n",
      "2022-08-29 15:34:10 INFO: Loading: mwt\n",
      "2022-08-29 15:34:10 INFO: Loading: pos\n",
      "2022-08-29 15:34:10 INFO: Loading: lemma\n",
      "2022-08-29 15:34:10 INFO: Done loading processors!\n"
     ]
    },
    {
     "name": "stdout",
     "output_type": "stream",
     "text": [
      "Tagged corpus created from NLP pipeline.\n",
      "\n",
      "\n",
      "\n",
      "\n"
     ]
    }
   ],
   "source": [
    "en_data = {'frequency' : [],\n",
    "                'word2vec' : [],\n",
    "                'FastText' : []}\n",
    "\n",
    "fr_data = {'frequency' : [],\n",
    "            'word2vec' : [],\n",
    "            'FastText' : []}\n",
    "\n",
    "for arts in arts_en:\n",
    "    pipe = nlp.run_stanza_pipeline(arts)\n",
    "    en_data['frequency'].append(nlp.related_from_most_frequent(pipe))\n",
    "    en_data['word2vec'].append(nlp.related_from_word2vec('india', pipe))\n",
    "    en_data['FastText'].append(nlp.related_from_fasttext('india', pipe))\n",
    "\n",
    "for arts in arts_fr:\n",
    "    pipe = nlp.run_stanza_pipeline(arts, language='fr')\n",
    "    fr_data['frequency'].append(nlp.related_from_most_frequent(pipe, language='fr'))\n",
    "    fr_data['word2vec'].append(nlp.related_from_word2vec('india', pipe, language='fr'))\n",
    "    fr_data['FastText'].append(nlp.related_from_fasttext('india', pipe, language='fr'))"
   ]
  },
  {
   "cell_type": "code",
   "execution_count": 31,
   "id": "e0a47a18-7fad-4c13-8f47-a5c6e324aea8",
   "metadata": {},
   "outputs": [
    {
     "name": "stdout",
     "output_type": "stream",
     "text": [
      "0\n",
      "1\n",
      "2\n",
      "3\n",
      "4\n",
      "5\n",
      "6\n",
      "0\n",
      "1\n",
      "2\n",
      "3\n",
      "4\n",
      "5\n",
      "6\n"
     ]
    },
    {
     "data": {
      "text/plain": [
       "2.8599999999999994"
      ]
     },
     "execution_count": 31,
     "metadata": {},
     "output_type": "execute_result"
    }
   ],
   "source": [
    "import modules.data_vis as dv\n",
    "\n",
    "\n",
    "freq_sim = []\n",
    "for i in range(len(en_data['frequency'])):\n",
    "    en = en_data['frequency'][i]\n",
    "    fr = fr_data['frequency'][i]\n",
    "    sim_score = get_similarity_score_between_languages('en', 'fr', en, fr)\n",
    "    freq_sim.append(sim_score)\n",
    "    print(i)\n",
    "\n",
    "    \n",
    "word2vec_sim = []\n",
    "for i in range(len(en_data['word2vec'])):\n",
    "    en = tuples_to_lists(en_data['word2vec'][i])\n",
    "    fr = tuples_to_lists(fr_data['word2vec'][i])\n",
    "    sim_score = get_similarity_score_between_languages('en', 'fr', en, fr)\n",
    "    word2vec_sim.append(sim_score)\n",
    "    print(i)\n",
    "    \n",
    "fastt_sim = []\n",
    "for i in range(len(en_data['FastText'])):\n",
    "    en = tuples_to_lists(en_data['FastText'][i])\n",
    "    fr = tuples_to_lists(fr_data['FastText'][i])\n",
    "    sim_score = get_similarity_score_between_languages('en', 'fr', en, fr)\n",
    "    fastt_sim.append(sim_score)\n",
    "    print(i)\n",
    "\n",
    "\n",
    "sim_score"
   ]
  },
  {
   "cell_type": "code",
   "execution_count": 1,
   "id": "f0ad257b-ccdd-40de-bb14-63a0d8f8f41a",
   "metadata": {},
   "outputs": [],
   "source": [
    "freq_sim = [5.814999999999998,\n",
    " 5.432,\n",
    " 5.313,\n",
    " 6.053999999999999,\n",
    " 7.586,\n",
    " 5.207999999999998,\n",
    " 4.515]"
   ]
  },
  {
   "cell_type": "code",
   "execution_count": 2,
   "id": "651c47f6-b81c-44ce-8bda-54859b259c0e",
   "metadata": {},
   "outputs": [],
   "source": [
    "fastt_sim = [1.9620000000000013,\n",
    " 2.118,\n",
    " 1.7220000000000002,\n",
    " 3.0559999999999996,\n",
    " 8.539999999999997,\n",
    " 3.046,\n",
    " 2.8599999999999994]"
   ]
  },
  {
   "cell_type": "code",
   "execution_count": 3,
   "id": "6c4235bd-c24e-479e-9bd2-a522c2a56478",
   "metadata": {},
   "outputs": [],
   "source": [
    "word2vec_sim = [1.861, 0.649, 0.6930000000000002, 2.039, 1.6489999999999998, 1.193, 1.13]"
   ]
  },
  {
   "cell_type": "code",
   "execution_count": 27,
   "id": "6bf975fb-3932-46f3-9d4d-cb253301fd93",
   "metadata": {},
   "outputs": [
    {
     "name": "stderr",
     "output_type": "stream",
     "text": [
      "<ipython-input-27-e2e0d17b97cd>:8: UserWarning: FixedFormatter should only be used together with FixedLocator\n",
      "  ax1.set_xticklabels(labels)\n"
     ]
    },
    {
     "data": {
      "text/plain": [
       "(array([-1.,  0.,  1.,  2.,  3.,  4.,  5.,  6.,  7.]),\n",
       " [Text(0.0, 0, 'Aug 1'),\n",
       "  Text(0.2, 0, 'Aug 2'),\n",
       "  Text(0.4, 0, 'Aug 3'),\n",
       "  Text(0.6000000000000001, 0, 'Aug 4'),\n",
       "  Text(0.8, 0, 'Aug 5'),\n",
       "  Text(1.0, 0, 'Aug 6'),\n",
       "  Text(0, 0, ''),\n",
       "  Text(0, 0, ''),\n",
       "  Text(0, 0, '')])"
      ]
     },
     "execution_count": 27,
     "metadata": {},
     "output_type": "execute_result"
    },
    {
     "data": {
      "image/png": "[encoded data removed]",
      "text/plain": [
       "<Figure size 432x288 with 1 Axes>"
      ]
     },
     "metadata": {
      "needs_background": "light"
     },
     "output_type": "display_data"
    }
   ],
   "source": [
    "import matplotlib.pyplot as plt\n",
    "\n",
    "fig = plt.figure()\n",
    "ax1 = fig.add_subplot(111)\n",
    "\n",
    "dates = ['Aug 1', 'Aug 2', 'Aug 3', 'Aug 4', 'Aug 5', 'Aug 6', 'Aug 7', 'Aug 8']\n",
    "ax1.set_xticklabels(labels)\n",
    "plt.ylabel('Relatedness of Generated Terms')\n",
    "\n",
    "ax1.plot(word2vec_sim, label='Word2Vec')\n",
    "ax1.plot(fastt_sim, label='FastText')\n",
    "ax1.plot(freq_sim, label='Frequency Distribution')\n",
    "plt.legend(loc='upper left')\n",
    "plt.xticks(rotation=45)\n",
    "\n"
   ]
  },
  {
   "cell_type": "code",
   "execution_count": null,
   "id": "8956ba38-de35-4af7-9215-880e34639741",
   "metadata": {},
   "outputs": [],
   "source": []
  }
 ],
 "metadata": {
  "kernelspec": {
   "display_name": "Python 3",
   "language": "python",
   "name": "python3"
  },
  "language_info": {
   "codemirror_mode": {
    "name": "ipython",
    "version": 3
   },
   "file_extension": ".py",
   "mimetype": "text/x-python",
   "name": "python",
   "nbconvert_exporter": "python",
   "pygments_lexer": "ipython3",
   "version": "3.9.5"
  }
 },
 "nbformat": 4,
 "nbformat_minor": 5
}
