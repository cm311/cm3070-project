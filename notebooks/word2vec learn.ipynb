{
 "cells": [
  {
   "cell_type": "code",
   "execution_count": 1,
   "id": "9f0532bf-f8ed-459e-bef2-d555f6729b63",
   "metadata": {},
   "outputs": [
    {
     "name": "stdout",
     "output_type": "stream",
     "text": [
      "[==================================================] 100.0% 1662.8/1662.8MB downloaded\n"
     ]
    }
   ],
   "source": [
    "import gensim.downloader\n",
    "\n",
    "# Show all available models in gensim-data\n",
    "\n",
    "info = list(gensim.downloader.info()['models'].keys())\n",
    "info\n",
    "vectors = gensim.downloader.load('word2vec-google-news-300')"
   ]
  },
  {
   "cell_type": "code",
   "execution_count": 20,
   "id": "14700b04-f83a-497c-b73e-ecb48a2e322a",
   "metadata": {},
   "outputs": [
    {
     "name": "stderr",
     "output_type": "stream",
     "text": [
      "<ipython-input-20-2004638e6125>:1: DeprecationWarning: Call to deprecated `wv` (Attribute will be removed in 4.0.0, use self instead).\n",
      "  vectors.wv.most_similar(positive=['nintendo'])\n"
     ]
    }
   ],
   "source": [
    "vectors.wv.most_similar(positive=['nintendo'])\n",
    "\n",
    "vectors.save('word2vec-google-news-300.vectors')\n",
    "#we have all these models to generate similar terms.  What about something that does the same thing for NER?\n",
    "#we plug in a named entity, and the model is able to do something similar, come up with similar terms for that\n",
    "#person based on a corpus.  It can also be time based so we can see how things have changed over time."
   ]
  },
  {
   "cell_type": "code",
   "execution_count": 25,
   "id": "0ba01f6c-e5c6-4618-9eb7-3480930f566e",
   "metadata": {},
   "outputs": [],
   "source": [
    "from gensim.models import KeyedVectors\n",
    "\n",
    "vecs = KeyedVectors.load(\"word2vec-google-news-300.vectors\", mmap='r')"
   ]
  },
  {
   "cell_type": "code",
   "execution_count": 37,
   "id": "cb8f8d98-a249-41c9-87e2-d9b14359f1f4",
   "metadata": {},
   "outputs": [
    {
     "ename": "KeyError",
     "evalue": "\"word 'covid' not in vocabulary\"",
     "output_type": "error",
     "traceback": [
      "\u001b[1;31m---------------------------------------------------------------------------\u001b[0m",
      "\u001b[1;31mKeyError\u001b[0m                                  Traceback (most recent call last)",
      "\u001b[1;32m<ipython-input-37-67b69742028d>\u001b[0m in \u001b[0;36m<module>\u001b[1;34m\u001b[0m\n\u001b[1;32m----> 1\u001b[1;33m \u001b[0mvecs\u001b[0m\u001b[1;33m.\u001b[0m\u001b[0mmost_similar\u001b[0m\u001b[1;33m(\u001b[0m\u001b[0mpositive\u001b[0m\u001b[1;33m=\u001b[0m\u001b[1;33m[\u001b[0m\u001b[1;34m'covid'\u001b[0m\u001b[1;33m]\u001b[0m\u001b[1;33m)\u001b[0m\u001b[1;33m\u001b[0m\u001b[1;33m\u001b[0m\u001b[0m\n\u001b[0m",
      "\u001b[1;32mc:\\python\\python39\\lib\\site-packages\\gensim\\models\\keyedvectors.py\u001b[0m in \u001b[0;36mmost_similar\u001b[1;34m(self, positive, negative, topn, restrict_vocab, indexer)\u001b[0m\n\u001b[0;32m    551\u001b[0m                 \u001b[0mmean\u001b[0m\u001b[1;33m.\u001b[0m\u001b[0mappend\u001b[0m\u001b[1;33m(\u001b[0m\u001b[0mweight\u001b[0m \u001b[1;33m*\u001b[0m \u001b[0mword\u001b[0m\u001b[1;33m)\u001b[0m\u001b[1;33m\u001b[0m\u001b[1;33m\u001b[0m\u001b[0m\n\u001b[0;32m    552\u001b[0m             \u001b[1;32melse\u001b[0m\u001b[1;33m:\u001b[0m\u001b[1;33m\u001b[0m\u001b[1;33m\u001b[0m\u001b[0m\n\u001b[1;32m--> 553\u001b[1;33m                 \u001b[0mmean\u001b[0m\u001b[1;33m.\u001b[0m\u001b[0mappend\u001b[0m\u001b[1;33m(\u001b[0m\u001b[0mweight\u001b[0m \u001b[1;33m*\u001b[0m \u001b[0mself\u001b[0m\u001b[1;33m.\u001b[0m\u001b[0mword_vec\u001b[0m\u001b[1;33m(\u001b[0m\u001b[0mword\u001b[0m\u001b[1;33m,\u001b[0m \u001b[0muse_norm\u001b[0m\u001b[1;33m=\u001b[0m\u001b[1;32mTrue\u001b[0m\u001b[1;33m)\u001b[0m\u001b[1;33m)\u001b[0m\u001b[1;33m\u001b[0m\u001b[1;33m\u001b[0m\u001b[0m\n\u001b[0m\u001b[0;32m    554\u001b[0m                 \u001b[1;32mif\u001b[0m \u001b[0mword\u001b[0m \u001b[1;32min\u001b[0m \u001b[0mself\u001b[0m\u001b[1;33m.\u001b[0m\u001b[0mvocab\u001b[0m\u001b[1;33m:\u001b[0m\u001b[1;33m\u001b[0m\u001b[1;33m\u001b[0m\u001b[0m\n\u001b[0;32m    555\u001b[0m                     \u001b[0mall_words\u001b[0m\u001b[1;33m.\u001b[0m\u001b[0madd\u001b[0m\u001b[1;33m(\u001b[0m\u001b[0mself\u001b[0m\u001b[1;33m.\u001b[0m\u001b[0mvocab\u001b[0m\u001b[1;33m[\u001b[0m\u001b[0mword\u001b[0m\u001b[1;33m]\u001b[0m\u001b[1;33m.\u001b[0m\u001b[0mindex\u001b[0m\u001b[1;33m)\u001b[0m\u001b[1;33m\u001b[0m\u001b[1;33m\u001b[0m\u001b[0m\n",
      "\u001b[1;32mc:\\python\\python39\\lib\\site-packages\\gensim\\models\\keyedvectors.py\u001b[0m in \u001b[0;36mword_vec\u001b[1;34m(self, word, use_norm)\u001b[0m\n\u001b[0;32m    466\u001b[0m             \u001b[1;32mreturn\u001b[0m \u001b[0mresult\u001b[0m\u001b[1;33m\u001b[0m\u001b[1;33m\u001b[0m\u001b[0m\n\u001b[0;32m    467\u001b[0m         \u001b[1;32melse\u001b[0m\u001b[1;33m:\u001b[0m\u001b[1;33m\u001b[0m\u001b[1;33m\u001b[0m\u001b[0m\n\u001b[1;32m--> 468\u001b[1;33m             \u001b[1;32mraise\u001b[0m \u001b[0mKeyError\u001b[0m\u001b[1;33m(\u001b[0m\u001b[1;34m\"word '%s' not in vocabulary\"\u001b[0m \u001b[1;33m%\u001b[0m \u001b[0mword\u001b[0m\u001b[1;33m)\u001b[0m\u001b[1;33m\u001b[0m\u001b[1;33m\u001b[0m\u001b[0m\n\u001b[0m\u001b[0;32m    469\u001b[0m \u001b[1;33m\u001b[0m\u001b[0m\n\u001b[0;32m    470\u001b[0m     \u001b[1;32mdef\u001b[0m \u001b[0mget_vector\u001b[0m\u001b[1;33m(\u001b[0m\u001b[0mself\u001b[0m\u001b[1;33m,\u001b[0m \u001b[0mword\u001b[0m\u001b[1;33m)\u001b[0m\u001b[1;33m:\u001b[0m\u001b[1;33m\u001b[0m\u001b[1;33m\u001b[0m\u001b[0m\n",
      "\u001b[1;31mKeyError\u001b[0m: \"word 'covid' not in vocabulary\""
     ]
    }
   ],
   "source": [
    "vecs.most_similar(positive=['covid'])"
   ]
  },
  {
   "cell_type": "code",
   "execution_count": 39,
   "id": "956c8a70-0dad-4336-90e9-68a760eba196",
   "metadata": {},
   "outputs": [
    {
     "name": "stdout",
     "output_type": "stream",
     "text": [
      "Querying en articles...\n",
      "Number of articles retrieved: 500\n",
      "Building corpus from 500 articles...\n",
      "Progress: 3.60 %    Fail Rate: 11.11 %  \r"
     ]
    },
    {
     "name": "stderr",
     "output_type": "stream",
     "text": [
      "c:\\python\\python39\\lib\\site-packages\\dateutil\\parser\\_parser.py:1207: UnknownTimezoneWarning: tzname EDT identified but not understood.  Pass `tzinfos` argument in order to correctly return a timezone-aware datetime.  In a future version, this will raise an exception.\n",
      "  warnings.warn(\"tzname {tzname} identified but not understood.  \"\n"
     ]
    },
    {
     "name": "stdout",
     "output_type": "stream",
     "text": [
      "Progress: 61.00 %    Fail Rate: 9.51 %   \r"
     ]
    },
    {
     "name": "stderr",
     "output_type": "stream",
     "text": [
      "c:\\python\\python39\\lib\\site-packages\\dateutil\\parser\\_parser.py:1207: UnknownTimezoneWarning: tzname PDT identified but not understood.  Pass `tzinfos` argument in order to correctly return a timezone-aware datetime.  In a future version, this will raise an exception.\n",
      "  warnings.warn(\"tzname {tzname} identified but not understood.  \"\n"
     ]
    },
    {
     "name": "stdout",
     "output_type": "stream",
     "text": [
      "Progress: 87.80 %    Fail Rate: 7.52 %  \r"
     ]
    },
    {
     "name": "stderr",
     "output_type": "stream",
     "text": [
      "c:\\python\\python39\\lib\\site-packages\\dateutil\\parser\\_parser.py:1207: UnknownTimezoneWarning: tzname CDT identified but not understood.  Pass `tzinfos` argument in order to correctly return a timezone-aware datetime.  In a future version, this will raise an exception.\n",
      "  warnings.warn(\"tzname {tzname} identified but not understood.  \"\n"
     ]
    },
    {
     "name": "stdout",
     "output_type": "stream",
     "text": [
      "Complete              Fail Rate: 8.20 %  \n"
     ]
    }
   ],
   "source": [
    "from modules.g_news_corpus import *\n",
    "\n",
    "#first corpus on covid\n",
    "arts = create_articles_from_keyphrase('covid', '2022-08-02', '2022-08-07', 'en')"
   ]
  },
  {
   "cell_type": "code",
   "execution_count": 40,
   "id": "97a2bad5-354e-4c56-b388-6286ba354233",
   "metadata": {},
   "outputs": [],
   "source": [
    "from gensim.test.utils import common_texts\n",
    "from gensim.models import Word2Vec\n",
    "\n",
    "\n",
    "sentences = []\n",
    "\n",
    "for art in arts:\n",
    "    raw_sentences = nltk.sent_tokenize(art)\n",
    "    for s in raw_sentences:\n",
    "        tokens_ = word_tokenize_doc(s)\n",
    "        sentences.append(tokens_)\n",
    "\n",
    "model = Word2Vec(sentences=sentences, window=5, min_count=1, workers=4)"
   ]
  },
  {
   "cell_type": "code",
   "execution_count": 1,
   "id": "bb9c85fd-2a5a-49c7-814f-713d0ecdb0dc",
   "metadata": {},
   "outputs": [
    {
     "ename": "NameError",
     "evalue": "name 'create_articles_from_keyphrase' is not defined",
     "output_type": "error",
     "traceback": [
      "\u001b[1;31m---------------------------------------------------------------------------\u001b[0m",
      "\u001b[1;31mNameError\u001b[0m                                 Traceback (most recent call last)",
      "\u001b[1;32m<ipython-input-1-a96a708bb43d>\u001b[0m in \u001b[0;36m<module>\u001b[1;34m\u001b[0m\n\u001b[0;32m      1\u001b[0m \u001b[1;31m#second corpus\u001b[0m\u001b[1;33m\u001b[0m\u001b[1;33m\u001b[0m\u001b[1;33m\u001b[0m\u001b[0m\n\u001b[1;32m----> 2\u001b[1;33m \u001b[0marts2\u001b[0m \u001b[1;33m=\u001b[0m \u001b[0mcreate_articles_from_keyphrase\u001b[0m\u001b[1;33m(\u001b[0m\u001b[1;34m'putin'\u001b[0m\u001b[1;33m,\u001b[0m \u001b[1;34m'2012-08-07'\u001b[0m\u001b[1;33m,\u001b[0m \u001b[1;34m'2012-08-23'\u001b[0m\u001b[1;33m,\u001b[0m \u001b[1;34m'en'\u001b[0m\u001b[1;33m)\u001b[0m\u001b[1;33m\u001b[0m\u001b[1;33m\u001b[0m\u001b[0m\n\u001b[0m",
      "\u001b[1;31mNameError\u001b[0m: name 'create_articles_from_keyphrase' is not defined"
     ]
    }
   ],
   "source": [
    "#second corpus\n",
    "arts2 = create_articles_from_keyphrase('putin', '2012-08-07', '2012-08-23', 'en')"
   ]
  },
  {
   "cell_type": "code",
   "execution_count": 55,
   "id": "3ee2e325-b189-4404-8db4-ad280c9f3506",
   "metadata": {},
   "outputs": [],
   "source": [
    "def build_word2vec_model(articles):\n",
    "    sentences = []\n",
    "\n",
    "    for art in articles:\n",
    "        raw_sentences = nltk.sent_tokenize(art)\n",
    "        for s in raw_sentences:\n",
    "            tokens_ = word_tokenize_doc(s)\n",
    "            sentences.append(tokens_)\n",
    "\n",
    "    model = Word2Vec(sentences=sentences, window=5, min_count=1, workers=4)\n",
    "    return model\n",
    "\n",
    "model1 = build_word2vec_model(arts)\n",
    "model2 = build_word2vec_model(arts2)"
   ]
  },
  {
   "cell_type": "code",
   "execution_count": 2,
   "id": "0faec2ef-1cfd-4170-9983-d7815e1efd93",
   "metadata": {},
   "outputs": [
    {
     "ename": "NameError",
     "evalue": "name 'model1' is not defined",
     "output_type": "error",
     "traceback": [
      "\u001b[1;31m---------------------------------------------------------------------------\u001b[0m",
      "\u001b[1;31mNameError\u001b[0m                                 Traceback (most recent call last)",
      "\u001b[1;32m<ipython-input-2-e0b6448c6fae>\u001b[0m in \u001b[0;36m<module>\u001b[1;34m\u001b[0m\n\u001b[1;32m----> 1\u001b[1;33m \u001b[0mmodel1\u001b[0m\u001b[1;33m.\u001b[0m\u001b[0mwv\u001b[0m\u001b[1;33m.\u001b[0m\u001b[0mmost_similar\u001b[0m\u001b[1;33m(\u001b[0m\u001b[1;34m'fauci'\u001b[0m\u001b[1;33m)\u001b[0m\u001b[1;33m\u001b[0m\u001b[1;33m\u001b[0m\u001b[0m\n\u001b[0m",
      "\u001b[1;31mNameError\u001b[0m: name 'model1' is not defined"
     ]
    }
   ],
   "source": [
    "model1.wv.most_similar('fauci')"
   ]
  },
  {
   "cell_type": "code",
   "execution_count": 68,
   "id": "770407ee-354f-4d82-b4b4-f607ec7bdb50",
   "metadata": {},
   "outputs": [
    {
     "data": {
      "text/plain": [
       "[('helped', 0.9961280226707458),\n",
       " ('regulations', 0.9961128234863281),\n",
       " ('sharing', 0.9960919618606567),\n",
       " ('challenges', 0.9960551261901855),\n",
       " ('disorders', 0.9959104061126709),\n",
       " ('putting', 0.9958891868591309),\n",
       " ('effort', 0.9958657026290894),\n",
       " ('agree', 0.9958546161651611),\n",
       " ('temporary', 0.9958415627479553),\n",
       " ('vote', 0.9958401322364807)]"
      ]
     },
     "execution_count": 68,
     "metadata": {},
     "output_type": "execute_result"
    }
   ],
   "source": [
    "model2.wv.most_similar('racism')"
   ]
  },
  {
   "cell_type": "code",
   "execution_count": 126,
   "id": "421c51de-b0e9-44c5-9f56-dd82adc5f9b7",
   "metadata": {},
   "outputs": [
    {
     "name": "stdout",
     "output_type": "stream",
     "text": [
      "Querying en articles...\n",
      "Number of articles retrieved: 596\n",
      "Building corpus from 596 articles...\n",
      "Complete              Fail Rate: 8.39 %  \n"
     ]
    }
   ],
   "source": [
    "#'Earliest date where articles are retrieved '2003-10-13'\n",
    "thing = create_articles_from_keyphrase('', '2003-10-13', '2003-12-31', 'en')"
   ]
  },
  {
   "cell_type": "code",
   "execution_count": 127,
   "id": "fe13b022-617a-4923-828b-634b2e8f2055",
   "metadata": {},
   "outputs": [],
   "source": [
    "model = build_word2vec_model(thing)"
   ]
  },
  {
   "cell_type": "code",
   "execution_count": 156,
   "id": "f7569bd7-ee59-403f-a460-c3da3b033d05",
   "metadata": {},
   "outputs": [
    {
     "data": {
      "text/plain": [
       "'Slinky survives decades of ups, downs Wednesday, December 24, 2003 By Diana Nelson Jones, Pittsburgh Post-Gazette HOLLIDAYSBURG, Pa. -- That ever-faithful cascade of steel wire known as Slinky is one of few immutables in the world of toys. John Beale, Post-Gazette\\n\\nTom James plays with the toy his father invented.\\n\\nClick photo for larger image. Pulled apart and balanced in a hump between palms, it slides back and forth the same way it always has in the light up-and-down dance of the hands. People of a certain age will feel that Slinky used to be bigger, but the original Slinky hasn\\'t changed. It\\'s the hands that got bigger. The first Slinkys -- 60 feet of gunmetal gray coiled steel wire -- appeared in plain brown boxes under Christmas trees in 1945. Then it cost $1. It sells today for $1.97 in the chain superstores, about 50 cents less than in smaller toy stores. Slinky still walks down the stairs, as long as it recognizes your staircase design, but a corporate companion now walks alongside it. Poof Products of Plymouth, Mich., which manufactures a variety of foam balls, bought James Industries in 1998. In this village, where Slinky has been made for more than 40 years, south of the tracks beside a scrap yard, the modest office building that fronts the factory will get a new sign on Jan. 1 -- Poof-Slinky Inc. Betty James, whose husband invented Slinky and who brought the company here in 1960, arranged the sale of James Industries so that her six children would not be burdened by inheritance taxes. Her condition was that the company not be moved. Fact is, less production is going on here these days. Most of the work is hired out to skill workshops around the state. But several employees at the main factory still put crimps on each edge of Slinky, an alteration begun 25 years ago as a safety measure. The crimpers sit as if in a classroom row, with a conveyor belt just wide enough for Slinky to their left. The process begins to their right, with an enormous spool of wire. The wire is drawn up onto a feed, like a film projector, and fed toward a rolling mill that presses it flat and sends it through a cooling bath. After being coiled, Slinky presents to the worker, who crimps the ends and sets Slinky on the conveyor, which leads to a little cliff, with a box waiting at the bottom. Some of the machinery has not been altered since Slinky was born, at the dawn of the baby boom. In 1943, Richard James was working on a spring design for the Navy that would keep ship instruments from gyrating with the movement of the sea. A spring in his workshop either fell off a table or was somehow jostled and it took a step. Anyone who has ever seen Slinky take a step knows how cute that is. The wildly creative James quickly saw the possibilities. He marketed Slinky as a toy two years later, and built a robust business. He would take an even bigger step in 1960, a jarring one for his family. Tom James, who became the manager of special products under Poof, remembers the day his father dropped the bomb: \"Pop came down the stairs one morning, and said, \\'I\\'m going to Bolivia to become a missionary. Who\\'s coming with me?\\' Mom, with six kids, had just had Becky. We had this 31-room home in Bryn Mawr, but he had bankrupted the business. He gave all the money to this mission. \"I had just graduated from high school. I was 18, and I took him to his plane. \"Pop used to say, \\'Money means nothing to me,\\' and he would tear it up. I\\'d find it and tape it back together.\" Richard James died years later in Bolivia. Meanwhile, Betty James had picked up the pieces. She and the children moved to this town of 5,700 in Blair County, where she grew up. Largely under her tutelage, millions of Slinkys have been sold to date, thanks to the baby boom generation\\'s devotion to the toys of its youth for its own offspring. One design, Slinky Dog, had a goofy grin, leather ears and a waddle in his walk because a Slinky was strung between his shoulders and his rump. He debuted at Christmas of 1945 at Gimbels in Philadelphia and was a staple of \\'60s playrooms. In 1995, Slinky Dog was a character in the hit movie \"Toy Story,\" and what had been a trickle of dog sales at that point, a few hundred a year, shot up to 12,000 in February 1996. The Jameses scampered the dog into high-production mode to fill an onslaught of orders --33,000 by April, 40,000 in July. \"Business doubled that year,\" James said. \"Toy Story II\" didn\\'t produce the same effect in 1999, and Slinky took a dip in sales at the beginning of the decade. But a recent resurgence has been \"very good\" for the classic toy line. For the 50th anniversary in 1995, the original model was packaged in a drab box with muted red lettering as a retro toy. James said most adults still prefer the original steel Slinky -- which went from gunmetal gray to silver in the early \\'60s -- but children who have grown up on the plastic rendition prefer that. One plastic version has nearly double the girth of the original. It was designed for wider steps. In recent years, the company has found a lucrative sideline in stamping company logos on special-order Slinkys and another in Slinky Pets -- a fabric-covered Slinky body topped by a cute animal head. The thought that is always scary and never far from the front burner is this, James said: What if no one wants us tomorrow? Legendary status or no, Slinky is a player in the toy business, and the toy business is as cruel and cutthroat as any. Throughout Slinky\\'s transitions, cheap knockoffs made in Asia have vied for shelf space in stores, and the company has to send out dozens of letters a year to the media to remind them that Slinky is a registered trademark and cannot be used to name just any old coiled toy. \"Yo-Yo lost its trademark because it wasn\\'t vigilant,\" James said. \"Slinky is Poof\\'s cash cow if they take care of it. They say the worst thing for a brand name is to make it into the dictionary.\" Capitalized, Slinky is not in Webster\\'s, but the downcased slinky means \"sinuous and graceful in movement.\" After all these years, in sight of the 60th anniversary, this simplest of toys remains one of few classics, a survivor in the toy wars that make one in a thousand inventions viable. A fragment of toys that are marketed have more than five strong years. During Slinky\\'s longevity, even the steel companies that supplied it the first 20 years have gone under. In a conference room filled with toys, James picks up a Slinky and gets it going. \"Shuh-shuh-shuh-shuh,\" it sings. He grins and says, \"The sound of falling money.\" Diana Nelson Jones can be reached at djones@post-gazette.com or 412-263-1626. Correction/Clarification: (Published Dec. 29, 2003) The main factory where Slinkys are produced is in Blair County. A story that appeared Dec. 24 about Slinkys gave an incorrect county for the plant in Hollidaysburg. E-mail this story Print this story'"
      ]
     },
     "execution_count": 156,
     "metadata": {},
     "output_type": "execute_result"
    }
   ],
   "source": [
    "thing[438]"
   ]
  },
  {
   "cell_type": "code",
   "execution_count": null,
   "id": "528b0c8b-7ec6-4b9d-abe7-cfde63d2833b",
   "metadata": {},
   "outputs": [],
   "source": []
  }
 ],
 "metadata": {
  "kernelspec": {
   "display_name": "Python 3",
   "language": "python",
   "name": "python3"
  },
  "language_info": {
   "codemirror_mode": {
    "name": "ipython",
    "version": 3
   },
   "file_extension": ".py",
   "mimetype": "text/x-python",
   "name": "python",
   "nbconvert_exporter": "python",
   "pygments_lexer": "ipython3",
   "version": "3.9.5"
  }
 },
 "nbformat": 4,
 "nbformat_minor": 5
}
