{
 "cells": [
  {
   "cell_type": "code",
   "execution_count": 1,
   "id": "fc4031d8-ea18-4e09-8ce3-bcf6979280bd",
   "metadata": {},
   "outputs": [
    {
     "data": {
      "application/json": {
       "ascii": false,
       "bar_format": null,
       "colour": null,
       "elapsed": 0.022056102752685547,
       "initial": 0,
       "n": 0,
       "ncols": null,
       "nrows": 29,
       "postfix": null,
       "prefix": "Downloading https://raw.githubusercontent.com/stanfordnlp/stanza-resources/main/resources_1.4.0.json",
       "rate": null,
       "total": 25998,
       "unit": "B",
       "unit_divisor": 1000,
       "unit_scale": true
      },
      "application/vnd.jupyter.widget-view+json": {
       "model_id": "b44c112d021a48f3bfebfda7f801a089",
       "version_major": 2,
       "version_minor": 0
      },
      "text/plain": [
       "Downloading https://raw.githubusercontent.com/stanfordnlp/stanza-resources/main/resources_1.4.0.json:   0%|   …"
      ]
     },
     "metadata": {},
     "output_type": "display_data"
    },
    {
     "name": "stderr",
     "output_type": "stream",
     "text": [
      "2022-08-28 10:13:06 INFO: Downloading default packages for language: en (English)...\n",
      "2022-08-28 10:13:07 INFO: File exists: C:\\Users\\grahf\\stanza_resources\\en\\default.zip\n",
      "2022-08-28 10:13:12 INFO: Finished downloading models and saved to C:\\Users\\grahf\\stanza_resources.\n"
     ]
    }
   ],
   "source": [
    "import stanza\n",
    "\n",
    "stanza.download('en')"
   ]
  },
  {
   "cell_type": "code",
   "execution_count": 2,
   "id": "f1b3d4cb-96d3-4d53-bc26-b992da1a3f63",
   "metadata": {},
   "outputs": [
    {
     "data": {
      "application/json": {
       "ascii": false,
       "bar_format": null,
       "colour": null,
       "elapsed": 0.022053241729736328,
       "initial": 0,
       "n": 0,
       "ncols": null,
       "nrows": 29,
       "postfix": null,
       "prefix": "Downloading https://raw.githubusercontent.com/stanfordnlp/stanza-resources/main/resources_1.4.0.json",
       "rate": null,
       "total": 25998,
       "unit": "B",
       "unit_divisor": 1000,
       "unit_scale": true
      },
      "application/vnd.jupyter.widget-view+json": {
       "model_id": "d07fc2969a6749bea6a426cee73045fd",
       "version_major": 2,
       "version_minor": 0
      },
      "text/plain": [
       "Downloading https://raw.githubusercontent.com/stanfordnlp/stanza-resources/main/resources_1.4.0.json:   0%|   …"
      ]
     },
     "metadata": {},
     "output_type": "display_data"
    },
    {
     "name": "stderr",
     "output_type": "stream",
     "text": [
      "2022-08-28 10:13:13 INFO: Loading these models for language: en (English):\n",
      "============================\n",
      "| Processor    | Package   |\n",
      "----------------------------\n",
      "| tokenize     | combined  |\n",
      "| pos          | combined  |\n",
      "| lemma        | combined  |\n",
      "| depparse     | combined  |\n",
      "| sentiment    | sstplus   |\n",
      "| constituency | wsj       |\n",
      "| ner          | ontonotes |\n",
      "============================\n",
      "\n",
      "2022-08-28 10:13:13 INFO: Use device: cpu\n",
      "2022-08-28 10:13:13 INFO: Loading: tokenize\n",
      "2022-08-28 10:13:13 INFO: Loading: pos\n",
      "2022-08-28 10:13:14 INFO: Loading: lemma\n",
      "2022-08-28 10:13:14 INFO: Loading: depparse\n",
      "2022-08-28 10:13:14 INFO: Loading: sentiment\n",
      "2022-08-28 10:13:14 INFO: Loading: constituency\n",
      "2022-08-28 10:13:15 INFO: Loading: ner\n",
      "2022-08-28 10:13:16 INFO: Done loading processors!\n"
     ]
    }
   ],
   "source": [
    "nlp = stanza.Pipeline('en')"
   ]
  },
  {
   "cell_type": "code",
   "execution_count": 3,
   "id": "259d927a-267a-4a21-8a4d-84bbccfddc43",
   "metadata": {},
   "outputs": [],
   "source": [
    "from modules.g_news_corpus import *\n",
    "\n",
    "#arts = create_articles_from_keyphrase()"
   ]
  },
  {
   "cell_type": "code",
   "execution_count": 4,
   "id": "6d4584c5-21fe-435f-b6cd-2d2f5bef41c4",
   "metadata": {},
   "outputs": [
    {
     "name": "stdout",
     "output_type": "stream",
     "text": [
      "Querying en articles...\n",
      "Number of articles retrieved: 100\n",
      "Building corpus from 100 articles...\n",
      "Complete              Fail Rate: 6.00 %  \n"
     ]
    }
   ],
   "source": [
    "arts = create_articles_from_keyphrase(language='en')\n",
    "\n",
    "\n"
   ]
  },
  {
   "cell_type": "code",
   "execution_count": 7,
   "id": "4a53b295-ca1e-4466-8697-39e27ff72514",
   "metadata": {},
   "outputs": [],
   "source": [
    "doc = nlp(arts[0])"
   ]
  },
  {
   "cell_type": "code",
   "execution_count": 11,
   "id": "8eb8515c-37e3-4909-b58a-62483706160a",
   "metadata": {},
   "outputs": [],
   "source": [
    "d = doc.to_dict()"
   ]
  },
  {
   "cell_type": "code",
   "execution_count": 6,
   "id": "78ee1dca-31d1-414a-949a-c9ac08e6242c",
   "metadata": {},
   "outputs": [],
   "source": [
    "articles = arts"
   ]
  },
  {
   "cell_type": "code",
   "execution_count": 7,
   "id": "5cb0b300-478f-489d-a431-7a3c95fa9597",
   "metadata": {},
   "outputs": [
    {
     "data": {
      "application/json": {
       "ascii": false,
       "bar_format": null,
       "colour": null,
       "elapsed": 0.031207799911499023,
       "initial": 0,
       "n": 0,
       "ncols": null,
       "nrows": 29,
       "postfix": null,
       "prefix": "Downloading https://raw.githubusercontent.com/stanfordnlp/stanza-resources/main/resources_1.4.0.json",
       "rate": null,
       "total": 25998,
       "unit": "B",
       "unit_divisor": 1000,
       "unit_scale": true
      },
      "application/vnd.jupyter.widget-view+json": {
       "model_id": "41ade3a6dbea49bebd1aca6343eddffa",
       "version_major": 2,
       "version_minor": 0
      },
      "text/plain": [
       "Downloading https://raw.githubusercontent.com/stanfordnlp/stanza-resources/main/resources_1.4.0.json:   0%|   …"
      ]
     },
     "metadata": {},
     "output_type": "display_data"
    },
    {
     "name": "stderr",
     "output_type": "stream",
     "text": [
      "2022-08-28 10:14:43 INFO: Loading these models for language: en (English):\n",
      "========================\n",
      "| Processor | Package  |\n",
      "------------------------\n",
      "| tokenize  | combined |\n",
      "| pos       | combined |\n",
      "| lemma     | combined |\n",
      "========================\n",
      "\n",
      "2022-08-28 10:14:43 INFO: Use device: cpu\n",
      "2022-08-28 10:14:43 INFO: Loading: tokenize\n",
      "2022-08-28 10:14:43 INFO: Loading: pos\n",
      "2022-08-28 10:14:43 INFO: Loading: lemma\n",
      "2022-08-28 10:14:43 INFO: Done loading processors!\n"
     ]
    }
   ],
   "source": [
    "lemmas = []\n",
    "adjectives = []\n",
    "nouns = []\n",
    "nlp = stanza.Pipeline('en', processors='tokenize,pos,lemma')\n",
    "flattened_articles = \"\"\n",
    "flattened_articles = '           '.join(art for art in articles)\n",
    "\n",
    "\n",
    "corpus = nlp(flattened_articles)\n",
    "\n",
    "for sentence in corpus.sentences:\n",
    "    for word in sentence.words:\n",
    "        lemmas.append(word.lemma)\n",
    "        if word.upos == 'ADJ':\n",
    "            adjectives.append(word.lemma)\n",
    "        if word.upos == 'NOUN':\n",
    "            nouns.append(word.lemma)\n",
    "\n"
   ]
  },
  {
   "cell_type": "code",
   "execution_count": 24,
   "id": "4deaeabb-3ceb-4bf2-aeb3-0949671cdc55",
   "metadata": {},
   "outputs": [
    {
     "data": {
      "text/plain": [
       "66939"
      ]
     },
     "execution_count": 24,
     "metadata": {},
     "output_type": "execute_result"
    }
   ],
   "source": [
    "len(lemmas)"
   ]
  },
  {
   "cell_type": "code",
   "execution_count": 27,
   "id": "0177c2b8-fdd6-4ab2-85bb-6059ad3f4a94",
   "metadata": {},
   "outputs": [
    {
     "data": {
      "text/plain": [
       "FreqDist({'the': 3304, ',': 2782, '.': 2497, 'be': 2186, 'to': 1627, 'a': 1485, 'and': 1323, 'of': 1218, 'in': 1083, 'that': 760, ...})"
      ]
     },
     "execution_count": 27,
     "metadata": {},
     "output_type": "execute_result"
    }
   ],
   "source": [
    "from nltk.corpus import stopwords\n",
    "\n",
    "nltk.FreqDist(lemmas)"
   ]
  },
  {
   "cell_type": "code",
   "execution_count": 30,
   "id": "3f1e16d5-1bde-4816-91df-1a959ccc4ba6",
   "metadata": {},
   "outputs": [],
   "source": [
    "stopWords = set(stopwords.words('english'))\n",
    "stopWords.update({',', '.', '’', '“', '”', ')', '(', '—', '``', '?', ':', ';', \"''\", '/', '–', '‘',\n",
    "                     '$', '%', '[', ']', \"'s\", '!', \"'\", '-', '}', '{', '//'})\n",
    "\n",
    "lemmas = [i for i in lemmas if i not in stopWords]"
   ]
  },
  {
   "cell_type": "code",
   "execution_count": 31,
   "id": "4c24e556-b603-47bf-bc66-1e0503a80cc2",
   "metadata": {},
   "outputs": [
    {
     "data": {
      "text/plain": [
       "33864"
      ]
     },
     "execution_count": 31,
     "metadata": {},
     "output_type": "execute_result"
    }
   ],
   "source": [
    "len(lemmas)"
   ]
  },
  {
   "cell_type": "code",
   "execution_count": 32,
   "id": "40b56962-5443-4100-a9a6-d335d188ba78",
   "metadata": {},
   "outputs": [],
   "source": [
    "freq = nltk.FreqDist(lemmas)"
   ]
  },
  {
   "cell_type": "code",
   "execution_count": 38,
   "id": "19f0221f-a349-447f-9526-af4bb3f620ec",
   "metadata": {},
   "outputs": [
    {
     "data": {
      "text/plain": [
       "6"
      ]
     },
     "execution_count": 38,
     "metadata": {},
     "output_type": "execute_result"
    }
   ],
   "source": [
    "freq['music']"
   ]
  },
  {
   "cell_type": "code",
   "execution_count": 73,
   "id": "3531022d-3ba9-42dc-956a-18486ef96332",
   "metadata": {},
   "outputs": [
    {
     "data": {
      "text/plain": [
       "{\n",
       "  \"id\": 20,\n",
       "  \"text\": \"many\",\n",
       "  \"lemma\": \"many\",\n",
       "  \"upos\": \"ADJ\",\n",
       "  \"xpos\": \"JJ\",\n",
       "  \"feats\": \"Degree=Pos\",\n",
       "  \"start_char\": 144,\n",
       "  \"end_char\": 148\n",
       "}"
      ]
     },
     "execution_count": 73,
     "metadata": {},
     "output_type": "execute_result"
    }
   ],
   "source": [
    "corpus.sentences[1].words[19]"
   ]
  },
  {
   "cell_type": "code",
   "execution_count": 85,
   "id": "f7060fd6-eb19-447b-8f1f-3dc5ac184350",
   "metadata": {},
   "outputs": [
    {
     "data": {
      "text/plain": [
       "FreqDist({'year': 156, 'time': 96, 'people': 88, 'game': 86, 'player': 80, 'week': 76, 'season': 76, 'life': 72, 'day': 71, 'state': 71, ...})"
      ]
     },
     "execution_count": 85,
     "metadata": {},
     "output_type": "execute_result"
    }
   ],
   "source": [
    "nltk.FreqDist(nouns)"
   ]
  },
  {
   "cell_type": "code",
   "execution_count": null,
   "id": "ce54e79a-5c48-4744-90a4-641a032c8e82",
   "metadata": {},
   "outputs": [],
   "source": []
  }
 ],
 "metadata": {
  "kernelspec": {
   "display_name": "Python 3",
   "language": "python",
   "name": "python3"
  },
  "language_info": {
   "codemirror_mode": {
    "name": "ipython",
    "version": 3
   },
   "file_extension": ".py",
   "mimetype": "text/x-python",
   "name": "python",
   "nbconvert_exporter": "python",
   "pygments_lexer": "ipython3",
   "version": "3.9.5"
  }
 },
 "nbformat": 4,
 "nbformat_minor": 5
}
