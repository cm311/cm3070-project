{
 "cells": [
  {
   "cell_type": "code",
   "execution_count": 1,
   "id": "ef2220f6-1e70-4a88-9ae2-a689e5e0a81d",
   "metadata": {},
   "outputs": [],
   "source": [
    "import nltk\n",
    "from modules import g_news_corpus as gncb\n",
    "from nltk.corpus import stopwords\n",
    "from gensim.models import Word2Vec\n",
    "\n",
    "def word_tokenize_doc(doc):\n",
    "    stopWords = set(stopwords.words('english'))\n",
    "    stopWords.update({',', '.', '’', '“', '”', ')', '(', '—', '``', '?', ':', ';', \"''\", '/', '–', '‘',\n",
    "                     '$', '%', '[', ']', \"'s\", '!', \"'\", '-', '}', '{', '//'})\n",
    "\n",
    "    tokens = [i for i in nltk.word_tokenize(doc.lower()) if i not in stopWords]\n",
    "\n",
    "    return tokens\n",
    "\n",
    "\n",
    "def create_word2vec_model_from_articles(articles):\n",
    "    sentences = []\n",
    "\n",
    "    for art in articles:\n",
    "        raw_sentences = nltk.sent_tokenize(art)\n",
    "        for s in raw_sentences:\n",
    "            tokens_ = word_tokenize_doc(s)\n",
    "            sentences.append(tokens_)\n",
    "            \n",
    "    if (len(articles) < 50):\n",
    "        m_count = 1\n",
    "    if (len(articles) >= 50 and len(articles) < 200):\n",
    "        m_count = 2\n",
    "    if (len(articles) >= 200 and len(articles) < 500):\n",
    "        m_count = 3\n",
    "    if (len(articles) >= 500 and len(articles) < 800):\n",
    "        m_count = 4\n",
    "    if (len(articles) >= 800 and len(articles) < 1200):\n",
    "        m_count = 5\n",
    "    if (len(articles) >= 1200 and len(articles) < 1700):\n",
    "        m_count = 6\n",
    "    if (len(articles) >= 1700):\n",
    "        m_count = 7\n",
    "        \n",
    "    model = Word2Vec(sentences=sentences, window=5, min_count=m_count, workers=8)\n",
    "\n",
    "    return model\n",
    "\n",
    "def get_adjectives(similar):\n",
    "    terms = []\n",
    "    for term in similar:\n",
    "        terms.append(term[0])\n",
    "    \n",
    "    adjectives = []\n",
    "    for term in terms:\n",
    "        pos = nltk.pos_tag([term])\n",
    "        #print(pos[0][1])\n",
    "        if pos[0][1] in ['JJ', 'JJR', 'JJS']:\n",
    "            adjectives.append(pos[0][0])\n",
    "            \n",
    "    return adjectives\n",
    "\n",
    "def remove_short(articles):\n",
    "    for a in articles:\n",
    "        if (len(a)) < 500:\n",
    "            del articles[articles.index(a)]\n",
    "            \n",
    "\n",
    "\n"
   ]
  },
  {
   "cell_type": "code",
   "execution_count": 2,
   "id": "c4e7daaa-2fd3-44a2-8d6e-26f60075fe46",
   "metadata": {},
   "outputs": [],
   "source": [
    "def clean_and_save(articles, keyword, start, end):\n",
    "    remove_short(articles)\n",
    "    \n",
    "    filename = 'articles/' + keyword + ' ' + start + ' ' + end + '.txt'\n",
    "    # open file in write mode\n",
    "    with open(filename, 'w', encoding='utf-8') as fp:\n",
    "        for art in articles:\n",
    "            # write each item on a new line\n",
    "            fp.write(\"%s\\n\" % art)\n",
    "        print('Wrote articles to txt\\n')\n",
    "        \n"
   ]
  },
  {
   "cell_type": "code",
   "execution_count": 3,
   "id": "6ae8f733-f838-4d17-8d22-d0acd1a03da1",
   "metadata": {},
   "outputs": [
    {
     "name": "stdout",
     "output_type": "stream",
     "text": [
      "Using date ranges 2022-01-01 2022-01-21\n",
      "Querying en articles...\n",
      "https://news.google.com/rss/search?q=india+after:2022-01-01+before:2022-01-21&ceid=US:en&hl=en-US&gl=US\n",
      "<urllib3.response.HTTPResponse object at 0x0000019EE2AE0220>\n",
      "https://news.google.com/rss/search?q=india+after:2022-01-01+before:2022-01-11&ceid=US:en&hl=en-US&gl=US\n",
      "<urllib3.response.HTTPResponse object at 0x0000019E93A5FEB0>\n",
      "https://news.google.com/rss/search?q=india+after:2022-01-01+before:2022-01-06&ceid=US:en&hl=en-US&gl=US\n",
      "<urllib3.response.HTTPResponse object at 0x0000019E93B1EFA0>\n",
      "https://news.google.com/rss/search?q=india+after:2022-01-01+before:2022-01-03&ceid=US:en&hl=en-US&gl=US\n",
      "<urllib3.response.HTTPResponse object at 0x0000019E93BD8CD0>\n",
      "https://news.google.com/rss/search?q=india+after:2022-01-03+before:2022-01-06&ceid=US:en&hl=en-US&gl=US\n",
      "<urllib3.response.HTTPResponse object at 0x0000019E93A69130>\n",
      "https://news.google.com/rss/search?q=india+after:2022-01-06+before:2022-01-11&ceid=US:en&hl=en-US&gl=US\n",
      "<urllib3.response.HTTPResponse object at 0x0000019E93C403D0>\n",
      "https://news.google.com/rss/search?q=india+after:2022-01-11+before:2022-01-21&ceid=US:en&hl=en-US&gl=US\n",
      "<urllib3.response.HTTPResponse object at 0x0000019E93A691F0>\n",
      "https://news.google.com/rss/search?q=india+after:2022-01-11+before:2022-01-16&ceid=US:en&hl=en-US&gl=US\n",
      "<urllib3.response.HTTPResponse object at 0x0000019E93E439A0>\n",
      "https://news.google.com/rss/search?q=india+after:2022-01-11+before:2022-01-13&ceid=US:en&hl=en-US&gl=US\n",
      "<urllib3.response.HTTPResponse object at 0x0000019E93EFEA00>\n",
      "https://news.google.com/rss/search?q=india+after:2022-01-13+before:2022-01-16&ceid=US:en&hl=en-US&gl=US\n",
      "<urllib3.response.HTTPResponse object at 0x0000019E93E43910>\n",
      "https://news.google.com/rss/search?q=india+after:2022-01-16+before:2022-01-21&ceid=US:en&hl=en-US&gl=US\n",
      "<urllib3.response.HTTPResponse object at 0x0000019E93F7AD00>\n",
      "https://news.google.com/rss/search?q=india+after:2022-01-16+before:2022-01-18&ceid=US:en&hl=en-US&gl=US\n",
      "<urllib3.response.HTTPResponse object at 0x0000019E940B4EE0>\n",
      "https://news.google.com/rss/search?q=india+after:2022-01-18+before:2022-01-21&ceid=US:en&hl=en-US&gl=US\n",
      "<urllib3.response.HTTPResponse object at 0x0000019E940B4EE0>\n",
      "Number of articles retrieved: 497\n",
      "Building corpus from 497 articles...\n",
      "Complete              Fail Rate: 3.22 %  \n",
      "Wrote articles to txt\n",
      "\n",
      "Using date ranges 2022-01-22 2022-02-11\n",
      "Querying en articles...\n",
      "https://news.google.com/rss/search?q=india+after:2022-01-22+before:2022-02-11&ceid=US:en&hl=en-US&gl=US\n",
      "<urllib3.response.HTTPResponse object at 0x0000019E943258B0>\n",
      "https://news.google.com/rss/search?q=india+after:2022-01-22+before:2022-02-01&ceid=US:en&hl=en-US&gl=US\n",
      "<urllib3.response.HTTPResponse object at 0x0000019E94017910>\n",
      "https://news.google.com/rss/search?q=india+after:2022-01-22+before:2022-01-27&ceid=US:en&hl=en-US&gl=US\n",
      "<urllib3.response.HTTPResponse object at 0x0000019E93B3DA00>\n",
      "https://news.google.com/rss/search?q=india+after:2022-01-22+before:2022-01-24&ceid=US:en&hl=en-US&gl=US\n",
      "<urllib3.response.HTTPResponse object at 0x0000019E93BA5A90>\n",
      "https://news.google.com/rss/search?q=india+after:2022-01-24+before:2022-01-27&ceid=US:en&hl=en-US&gl=US\n",
      "<urllib3.response.HTTPResponse object at 0x0000019E93B3D970>\n",
      "https://news.google.com/rss/search?q=india+after:2022-01-27+before:2022-02-01&ceid=US:en&hl=en-US&gl=US\n",
      "<urllib3.response.HTTPResponse object at 0x0000019E93B3D730>\n",
      "https://news.google.com/rss/search?q=india+after:2022-01-27+before:2022-01-29&ceid=US:en&hl=en-US&gl=US\n",
      "<urllib3.response.HTTPResponse object at 0x0000019E93B909A0>\n",
      "https://news.google.com/rss/search?q=india+after:2022-01-29+before:2022-02-01&ceid=US:en&hl=en-US&gl=US\n",
      "<urllib3.response.HTTPResponse object at 0x0000019E94040160>\n",
      "https://news.google.com/rss/search?q=india+after:2022-02-01+before:2022-02-11&ceid=US:en&hl=en-US&gl=US\n",
      "<urllib3.response.HTTPResponse object at 0x0000019E943258E0>\n",
      "https://news.google.com/rss/search?q=india+after:2022-02-01+before:2022-02-06&ceid=US:en&hl=en-US&gl=US\n",
      "<urllib3.response.HTTPResponse object at 0x0000019E95450520>\n",
      "https://news.google.com/rss/search?q=india+after:2022-02-01+before:2022-02-03&ceid=US:en&hl=en-US&gl=US\n",
      "<urllib3.response.HTTPResponse object at 0x0000019E95508550>\n",
      "https://news.google.com/rss/search?q=india+after:2022-02-03+before:2022-02-06&ceid=US:en&hl=en-US&gl=US\n",
      "<urllib3.response.HTTPResponse object at 0x0000019E94017970>\n",
      "https://news.google.com/rss/search?q=india+after:2022-02-06+before:2022-02-11&ceid=US:en&hl=en-US&gl=US\n",
      "<urllib3.response.HTTPResponse object at 0x0000019E95587280>\n",
      "https://news.google.com/rss/search?q=india+after:2022-02-06+before:2022-02-08&ceid=US:en&hl=en-US&gl=US\n",
      "<urllib3.response.HTTPResponse object at 0x0000019E956B8DF0>\n",
      "https://news.google.com/rss/search?q=india+after:2022-02-08+before:2022-02-11&ceid=US:en&hl=en-US&gl=US\n",
      "<urllib3.response.HTTPResponse object at 0x0000019E95587250>\n",
      "Number of articles retrieved: 555\n",
      "Building corpus from 555 articles...\n",
      "Progress: 77.84 %    Fail Rate: 6.02 %   \r"
     ]
    },
    {
     "name": "stderr",
     "output_type": "stream",
     "text": [
      "c:\\python\\python39\\lib\\site-packages\\dateutil\\parser\\_parser.py:1207: UnknownTimezoneWarning: tzname IST identified but not understood.  Pass `tzinfos` argument in order to correctly return a timezone-aware datetime.  In a future version, this will raise an exception.\n",
      "  warnings.warn(\"tzname {tzname} identified but not understood.  \"\n"
     ]
    },
    {
     "name": "stdout",
     "output_type": "stream",
     "text": [
      "Complete              Fail Rate: 5.77 %  \n",
      "Wrote articles to txt\n",
      "\n",
      "Using date ranges 2022-02-12 2022-03-04\n",
      "Querying en articles...\n",
      "https://news.google.com/rss/search?q=india+after:2022-02-12+before:2022-03-04&ceid=US:en&hl=en-US&gl=US\n",
      "<urllib3.response.HTTPResponse object at 0x0000019E95450280>\n",
      "https://news.google.com/rss/search?q=india+after:2022-02-12+before:2022-02-22&ceid=US:en&hl=en-US&gl=US\n",
      "<urllib3.response.HTTPResponse object at 0x0000019E95450C40>\n",
      "https://news.google.com/rss/search?q=india+after:2022-02-12+before:2022-02-17&ceid=US:en&hl=en-US&gl=US\n",
      "<urllib3.response.HTTPResponse object at 0x0000019E94001310>\n",
      "https://news.google.com/rss/search?q=india+after:2022-02-12+before:2022-02-14&ceid=US:en&hl=en-US&gl=US\n",
      "<urllib3.response.HTTPResponse object at 0x0000019E940185E0>\n",
      "https://news.google.com/rss/search?q=india+after:2022-02-14+before:2022-02-17&ceid=US:en&hl=en-US&gl=US\n",
      "<urllib3.response.HTTPResponse object at 0x0000019E94001B50>\n",
      "https://news.google.com/rss/search?q=india+after:2022-02-17+before:2022-02-22&ceid=US:en&hl=en-US&gl=US\n",
      "<urllib3.response.HTTPResponse object at 0x0000019E940C7100>\n",
      "https://news.google.com/rss/search?q=india+after:2022-02-22+before:2022-03-04&ceid=US:en&hl=en-US&gl=US\n",
      "<urllib3.response.HTTPResponse object at 0x0000019E95450D00>\n",
      "https://news.google.com/rss/search?q=india+after:2022-02-22+before:2022-02-27&ceid=US:en&hl=en-US&gl=US\n",
      "<urllib3.response.HTTPResponse object at 0x0000019E9402CDF0>\n",
      "https://news.google.com/rss/search?q=india+after:2022-02-22+before:2022-02-24&ceid=US:en&hl=en-US&gl=US\n",
      "<urllib3.response.HTTPResponse object at 0x0000019E93F3D9A0>\n",
      "https://news.google.com/rss/search?q=india+after:2022-02-24+before:2022-02-27&ceid=US:en&hl=en-US&gl=US\n",
      "<urllib3.response.HTTPResponse object at 0x0000019E95450FD0>\n",
      "https://news.google.com/rss/search?q=india+after:2022-02-27+before:2022-03-04&ceid=US:en&hl=en-US&gl=US\n",
      "<urllib3.response.HTTPResponse object at 0x0000019E9402CAF0>\n",
      "https://news.google.com/rss/search?q=india+after:2022-02-27+before:2022-03-01&ceid=US:en&hl=en-US&gl=US\n",
      "<urllib3.response.HTTPResponse object at 0x0000019E956EDBE0>\n",
      "https://news.google.com/rss/search?q=india+after:2022-03-01+before:2022-03-04&ceid=US:en&hl=en-US&gl=US\n",
      "<urllib3.response.HTTPResponse object at 0x0000019E956EDB50>\n",
      "Number of articles retrieved: 471\n",
      "Building corpus from 471 articles...\n",
      "Complete              Fail Rate: 5.31 %  \n",
      "Wrote articles to txt\n",
      "\n",
      "Using date ranges 2022-03-05 2022-03-25\n",
      "Querying en articles...\n",
      "https://news.google.com/rss/search?q=india+after:2022-03-05+before:2022-03-25&ceid=US:en&hl=en-US&gl=US\n",
      "<urllib3.response.HTTPResponse object at 0x0000019E956ED970>\n",
      "https://news.google.com/rss/search?q=india+after:2022-03-05+before:2022-03-15&ceid=US:en&hl=en-US&gl=US\n",
      "<urllib3.response.HTTPResponse object at 0x0000019E9567EB50>\n",
      "https://news.google.com/rss/search?q=india+after:2022-03-05+before:2022-03-10&ceid=US:en&hl=en-US&gl=US\n",
      "<urllib3.response.HTTPResponse object at 0x0000019E953B39A0>\n",
      "https://news.google.com/rss/search?q=india+after:2022-03-05+before:2022-03-07&ceid=US:en&hl=en-US&gl=US\n",
      "<urllib3.response.HTTPResponse object at 0x0000019E9537CAC0>\n",
      "https://news.google.com/rss/search?q=india+after:2022-03-07+before:2022-03-10&ceid=US:en&hl=en-US&gl=US\n",
      "<urllib3.response.HTTPResponse object at 0x0000019E953B3A00>\n",
      "https://news.google.com/rss/search?q=india+after:2022-03-10+before:2022-03-15&ceid=US:en&hl=en-US&gl=US\n",
      "<urllib3.response.HTTPResponse object at 0x0000019E953B3970>\n",
      "https://news.google.com/rss/search?q=india+after:2022-03-10+before:2022-03-12&ceid=US:en&hl=en-US&gl=US\n",
      "<urllib3.response.HTTPResponse object at 0x0000019E93DE8400>\n",
      "https://news.google.com/rss/search?q=india+after:2022-03-12+before:2022-03-15&ceid=US:en&hl=en-US&gl=US\n",
      "<urllib3.response.HTTPResponse object at 0x0000019E93DE84F0>\n",
      "https://news.google.com/rss/search?q=india+after:2022-03-15+before:2022-03-25&ceid=US:en&hl=en-US&gl=US\n",
      "<urllib3.response.HTTPResponse object at 0x0000019E953B35B0>\n",
      "https://news.google.com/rss/search?q=india+after:2022-03-15+before:2022-03-20&ceid=US:en&hl=en-US&gl=US\n",
      "<urllib3.response.HTTPResponse object at 0x0000019E9434ED90>\n",
      "https://news.google.com/rss/search?q=india+after:2022-03-15+before:2022-03-17&ceid=US:en&hl=en-US&gl=US\n",
      "<urllib3.response.HTTPResponse object at 0x0000019E9404ACD0>\n",
      "https://news.google.com/rss/search?q=india+after:2022-03-17+before:2022-03-20&ceid=US:en&hl=en-US&gl=US\n",
      "<urllib3.response.HTTPResponse object at 0x0000019E9402A040>\n",
      "https://news.google.com/rss/search?q=india+after:2022-03-20+before:2022-03-25&ceid=US:en&hl=en-US&gl=US\n",
      "<urllib3.response.HTTPResponse object at 0x0000019E940400A0>\n",
      "https://news.google.com/rss/search?q=india+after:2022-03-20+before:2022-03-22&ceid=US:en&hl=en-US&gl=US\n",
      "<urllib3.response.HTTPResponse object at 0x0000019E93EE69D0>\n",
      "https://news.google.com/rss/search?q=india+after:2022-03-22+before:2022-03-25&ceid=US:en&hl=en-US&gl=US\n",
      "<urllib3.response.HTTPResponse object at 0x0000019E93EE6760>\n",
      "Number of articles retrieved: 423\n",
      "Building corpus from 423 articles...\n",
      "Complete              Fail Rate: 2.84 %  \n",
      "Wrote articles to txt\n",
      "\n",
      "Using date ranges 2022-03-26 2022-04-15\n",
      "Querying en articles...\n",
      "https://news.google.com/rss/search?q=india+after:2022-03-26+before:2022-04-15&ceid=US:en&hl=en-US&gl=US\n",
      "<urllib3.response.HTTPResponse object at 0x0000019E956ED970>\n",
      "https://news.google.com/rss/search?q=india+after:2022-03-26+before:2022-04-05&ceid=US:en&hl=en-US&gl=US\n",
      "<urllib3.response.HTTPResponse object at 0x0000019E93B0CE50>\n",
      "https://news.google.com/rss/search?q=india+after:2022-03-26+before:2022-03-31&ceid=US:en&hl=en-US&gl=US\n",
      "<urllib3.response.HTTPResponse object at 0x0000019E93DB1FD0>\n",
      "https://news.google.com/rss/search?q=india+after:2022-03-26+before:2022-03-28&ceid=US:en&hl=en-US&gl=US\n",
      "<urllib3.response.HTTPResponse object at 0x0000019E954A6AF0>\n",
      "https://news.google.com/rss/search?q=india+after:2022-03-28+before:2022-03-31&ceid=US:en&hl=en-US&gl=US\n",
      "<urllib3.response.HTTPResponse object at 0x0000019E954A6B50>\n",
      "https://news.google.com/rss/search?q=india+after:2022-03-31+before:2022-04-05&ceid=US:en&hl=en-US&gl=US\n",
      "<urllib3.response.HTTPResponse object at 0x0000019E94112F70>\n",
      "https://news.google.com/rss/search?q=india+after:2022-04-05+before:2022-04-15&ceid=US:en&hl=en-US&gl=US\n",
      "<urllib3.response.HTTPResponse object at 0x0000019E94112FA0>\n",
      "https://news.google.com/rss/search?q=india+after:2022-04-05+before:2022-04-10&ceid=US:en&hl=en-US&gl=US\n",
      "<urllib3.response.HTTPResponse object at 0x0000019E93C14EB0>\n",
      "https://news.google.com/rss/search?q=india+after:2022-04-05+before:2022-04-07&ceid=US:en&hl=en-US&gl=US\n",
      "<urllib3.response.HTTPResponse object at 0x0000019E93C7BF70>\n",
      "https://news.google.com/rss/search?q=india+after:2022-04-07+before:2022-04-10&ceid=US:en&hl=en-US&gl=US\n",
      "<urllib3.response.HTTPResponse object at 0x0000019E93C7BE80>\n",
      "https://news.google.com/rss/search?q=india+after:2022-04-10+before:2022-04-15&ceid=US:en&hl=en-US&gl=US\n",
      "<urllib3.response.HTTPResponse object at 0x0000019E940B6FD0>\n",
      "https://news.google.com/rss/search?q=india+after:2022-04-10+before:2022-04-12&ceid=US:en&hl=en-US&gl=US\n",
      "<urllib3.response.HTTPResponse object at 0x0000019E96E13B50>\n",
      "https://news.google.com/rss/search?q=india+after:2022-04-12+before:2022-04-15&ceid=US:en&hl=en-US&gl=US\n",
      "<urllib3.response.HTTPResponse object at 0x0000019E96E1E100>\n",
      "Number of articles retrieved: 438\n",
      "Building corpus from 438 articles...\n",
      "Complete              Fail Rate: 4.11 %  \n",
      "Wrote articles to txt\n",
      "\n",
      "Using date ranges 2022-04-16 2022-05-06\n",
      "Querying en articles...\n",
      "https://news.google.com/rss/search?q=india+after:2022-04-16+before:2022-05-06&ceid=US:en&hl=en-US&gl=US\n",
      "<urllib3.response.HTTPResponse object at 0x0000019E954F5F10>\n",
      "https://news.google.com/rss/search?q=india+after:2022-04-16+before:2022-04-26&ceid=US:en&hl=en-US&gl=US\n",
      "<urllib3.response.HTTPResponse object at 0x0000019E954F5B20>\n",
      "https://news.google.com/rss/search?q=india+after:2022-04-16+before:2022-04-21&ceid=US:en&hl=en-US&gl=US\n",
      "<urllib3.response.HTTPResponse object at 0x0000019E954A6460>\n",
      "https://news.google.com/rss/search?q=india+after:2022-04-16+before:2022-04-18&ceid=US:en&hl=en-US&gl=US\n",
      "<urllib3.response.HTTPResponse object at 0x0000019E94032CA0>\n",
      "https://news.google.com/rss/search?q=india+after:2022-04-18+before:2022-04-21&ceid=US:en&hl=en-US&gl=US\n",
      "<urllib3.response.HTTPResponse object at 0x0000019E94047070>\n",
      "https://news.google.com/rss/search?q=india+after:2022-04-21+before:2022-04-26&ceid=US:en&hl=en-US&gl=US\n",
      "<urllib3.response.HTTPResponse object at 0x0000019E93B1DAC0>\n",
      "https://news.google.com/rss/search?q=india+after:2022-04-21+before:2022-04-23&ceid=US:en&hl=en-US&gl=US\n",
      "<urllib3.response.HTTPResponse object at 0x0000019E957A1F10>\n",
      "https://news.google.com/rss/search?q=india+after:2022-04-23+before:2022-04-26&ceid=US:en&hl=en-US&gl=US\n",
      "<urllib3.response.HTTPResponse object at 0x0000019E957A1EB0>\n",
      "https://news.google.com/rss/search?q=india+after:2022-04-26+before:2022-05-06&ceid=US:en&hl=en-US&gl=US\n",
      "<urllib3.response.HTTPResponse object at 0x0000019E93E43040>\n",
      "https://news.google.com/rss/search?q=india+after:2022-04-26+before:2022-05-01&ceid=US:en&hl=en-US&gl=US\n",
      "<urllib3.response.HTTPResponse object at 0x0000019E93B54910>\n",
      "https://news.google.com/rss/search?q=india+after:2022-04-26+before:2022-04-28&ceid=US:en&hl=en-US&gl=US\n",
      "<urllib3.response.HTTPResponse object at 0x0000019E95E00970>\n",
      "https://news.google.com/rss/search?q=india+after:2022-04-28+before:2022-05-01&ceid=US:en&hl=en-US&gl=US\n",
      "<urllib3.response.HTTPResponse object at 0x0000019E93B548E0>\n",
      "https://news.google.com/rss/search?q=india+after:2022-05-01+before:2022-05-06&ceid=US:en&hl=en-US&gl=US\n",
      "<urllib3.response.HTTPResponse object at 0x0000019E954F5A00>\n",
      "https://news.google.com/rss/search?q=india+after:2022-05-01+before:2022-05-03&ceid=US:en&hl=en-US&gl=US\n",
      "<urllib3.response.HTTPResponse object at 0x0000019E93B8E700>\n",
      "https://news.google.com/rss/search?q=india+after:2022-05-03+before:2022-05-06&ceid=US:en&hl=en-US&gl=US\n",
      "<urllib3.response.HTTPResponse object at 0x0000019E93D55460>\n",
      "Number of articles retrieved: 522\n",
      "Building corpus from 522 articles...\n",
      "Complete              Fail Rate: 4.60 %  \n",
      "Wrote articles to txt\n",
      "\n",
      "Using date ranges 2022-05-07 2022-05-27\n",
      "Querying en articles...\n",
      "https://news.google.com/rss/search?q=india+after:2022-05-07+before:2022-05-27&ceid=US:en&hl=en-US&gl=US\n",
      "<urllib3.response.HTTPResponse object at 0x0000019E93E39C10>\n",
      "https://news.google.com/rss/search?q=india+after:2022-05-07+before:2022-05-17&ceid=US:en&hl=en-US&gl=US\n",
      "<urllib3.response.HTTPResponse object at 0x0000019E93C408B0>\n",
      "https://news.google.com/rss/search?q=india+after:2022-05-07+before:2022-05-12&ceid=US:en&hl=en-US&gl=US\n",
      "<urllib3.response.HTTPResponse object at 0x0000019E9579EB80>\n",
      "https://news.google.com/rss/search?q=india+after:2022-05-07+before:2022-05-09&ceid=US:en&hl=en-US&gl=US\n",
      "<urllib3.response.HTTPResponse object at 0x0000019E941D05B0>\n",
      "https://news.google.com/rss/search?q=india+after:2022-05-09+before:2022-05-12&ceid=US:en&hl=en-US&gl=US\n",
      "<urllib3.response.HTTPResponse object at 0x0000019E941D0520>\n",
      "https://news.google.com/rss/search?q=india+after:2022-05-12+before:2022-05-17&ceid=US:en&hl=en-US&gl=US\n",
      "<urllib3.response.HTTPResponse object at 0x0000019E9579E8B0>\n",
      "https://news.google.com/rss/search?q=india+after:2022-05-17+before:2022-05-27&ceid=US:en&hl=en-US&gl=US\n",
      "<urllib3.response.HTTPResponse object at 0x0000019E95346D30>\n",
      "https://news.google.com/rss/search?q=india+after:2022-05-17+before:2022-05-22&ceid=US:en&hl=en-US&gl=US\n",
      "<urllib3.response.HTTPResponse object at 0x0000019E93BB1EB0>\n",
      "https://news.google.com/rss/search?q=india+after:2022-05-17+before:2022-05-19&ceid=US:en&hl=en-US&gl=US\n",
      "<urllib3.response.HTTPResponse object at 0x0000019E9570ED00>\n",
      "https://news.google.com/rss/search?q=india+after:2022-05-19+before:2022-05-22&ceid=US:en&hl=en-US&gl=US\n",
      "<urllib3.response.HTTPResponse object at 0x0000019E93C40880>\n",
      "https://news.google.com/rss/search?q=india+after:2022-05-22+before:2022-05-27&ceid=US:en&hl=en-US&gl=US\n",
      "<urllib3.response.HTTPResponse object at 0x0000019E93BB1F10>\n",
      "https://news.google.com/rss/search?q=india+after:2022-05-22+before:2022-05-24&ceid=US:en&hl=en-US&gl=US\n",
      "<urllib3.response.HTTPResponse object at 0x0000019E95757AC0>\n",
      "https://news.google.com/rss/search?q=india+after:2022-05-24+before:2022-05-27&ceid=US:en&hl=en-US&gl=US\n",
      "<urllib3.response.HTTPResponse object at 0x0000019E95757A30>\n",
      "Number of articles retrieved: 386\n",
      "Building corpus from 386 articles...\n",
      "Complete              Fail Rate: 4.66 %  \n",
      "Wrote articles to txt\n",
      "\n",
      "Using date ranges 2022-05-28 2022-06-17\n",
      "Querying en articles...\n",
      "https://news.google.com/rss/search?q=india+after:2022-05-28+before:2022-06-17&ceid=US:en&hl=en-US&gl=US\n",
      "<urllib3.response.HTTPResponse object at 0x0000019E95E007C0>\n",
      "https://news.google.com/rss/search?q=india+after:2022-05-28+before:2022-06-07&ceid=US:en&hl=en-US&gl=US\n",
      "<urllib3.response.HTTPResponse object at 0x0000019E94177970>\n",
      "https://news.google.com/rss/search?q=india+after:2022-05-28+before:2022-06-02&ceid=US:en&hl=en-US&gl=US\n",
      "<urllib3.response.HTTPResponse object at 0x0000019E957AA9A0>\n",
      "https://news.google.com/rss/search?q=india+after:2022-05-28+before:2022-05-30&ceid=US:en&hl=en-US&gl=US\n",
      "<urllib3.response.HTTPResponse object at 0x0000019E93EFECD0>\n",
      "https://news.google.com/rss/search?q=india+after:2022-05-30+before:2022-06-02&ceid=US:en&hl=en-US&gl=US\n",
      "<urllib3.response.HTTPResponse object at 0x0000019E93EFE5B0>\n",
      "https://news.google.com/rss/search?q=india+after:2022-06-02+before:2022-06-07&ceid=US:en&hl=en-US&gl=US\n",
      "<urllib3.response.HTTPResponse object at 0x0000019E957AA8B0>\n",
      "https://news.google.com/rss/search?q=india+after:2022-06-02+before:2022-06-04&ceid=US:en&hl=en-US&gl=US\n",
      "<urllib3.response.HTTPResponse object at 0x0000019E93BA6A30>\n",
      "https://news.google.com/rss/search?q=india+after:2022-06-04+before:2022-06-07&ceid=US:en&hl=en-US&gl=US\n",
      "<urllib3.response.HTTPResponse object at 0x0000019E957AAB80>\n",
      "https://news.google.com/rss/search?q=india+after:2022-06-07+before:2022-06-17&ceid=US:en&hl=en-US&gl=US\n",
      "<urllib3.response.HTTPResponse object at 0x0000019E93BB1D30>\n",
      "https://news.google.com/rss/search?q=india+after:2022-06-07+before:2022-06-12&ceid=US:en&hl=en-US&gl=US\n",
      "<urllib3.response.HTTPResponse object at 0x0000019E93B385B0>\n",
      "https://news.google.com/rss/search?q=india+after:2022-06-07+before:2022-06-09&ceid=US:en&hl=en-US&gl=US\n",
      "<urllib3.response.HTTPResponse object at 0x0000019E940E2610>\n",
      "https://news.google.com/rss/search?q=india+after:2022-06-09+before:2022-06-12&ceid=US:en&hl=en-US&gl=US\n",
      "<urllib3.response.HTTPResponse object at 0x0000019E940E2580>\n",
      "https://news.google.com/rss/search?q=india+after:2022-06-12+before:2022-06-17&ceid=US:en&hl=en-US&gl=US\n",
      "<urllib3.response.HTTPResponse object at 0x0000019E93B383A0>\n",
      "https://news.google.com/rss/search?q=india+after:2022-06-12+before:2022-06-14&ceid=US:en&hl=en-US&gl=US\n",
      "<urllib3.response.HTTPResponse object at 0x0000019E93D5F6D0>\n",
      "https://news.google.com/rss/search?q=india+after:2022-06-14+before:2022-06-17&ceid=US:en&hl=en-US&gl=US\n",
      "<urllib3.response.HTTPResponse object at 0x0000019E93B380D0>\n",
      "Number of articles retrieved: 500\n",
      "Building corpus from 500 articles...\n",
      "Complete              Fail Rate: 5.60 %  \n",
      "Wrote articles to txt\n",
      "\n",
      "Using date ranges 2022-06-18 2022-07-08\n",
      "Querying en articles...\n",
      "https://news.google.com/rss/search?q=india+after:2022-06-18+before:2022-07-08&ceid=US:en&hl=en-US&gl=US\n",
      "<urllib3.response.HTTPResponse object at 0x0000019E93E6ACA0>\n",
      "https://news.google.com/rss/search?q=india+after:2022-06-18+before:2022-06-28&ceid=US:en&hl=en-US&gl=US\n",
      "<urllib3.response.HTTPResponse object at 0x0000019E956FEBE0>\n",
      "https://news.google.com/rss/search?q=india+after:2022-06-18+before:2022-06-23&ceid=US:en&hl=en-US&gl=US\n",
      "<urllib3.response.HTTPResponse object at 0x0000019E93FC9C10>\n",
      "https://news.google.com/rss/search?q=india+after:2022-06-18+before:2022-06-20&ceid=US:en&hl=en-US&gl=US\n",
      "<urllib3.response.HTTPResponse object at 0x0000019E95D90850>\n",
      "https://news.google.com/rss/search?q=india+after:2022-06-20+before:2022-06-23&ceid=US:en&hl=en-US&gl=US\n",
      "<urllib3.response.HTTPResponse object at 0x0000019E95D90850>\n",
      "https://news.google.com/rss/search?q=india+after:2022-06-23+before:2022-06-28&ceid=US:en&hl=en-US&gl=US\n",
      "<urllib3.response.HTTPResponse object at 0x0000019E96EBF160>\n",
      "https://news.google.com/rss/search?q=india+after:2022-06-28+before:2022-07-08&ceid=US:en&hl=en-US&gl=US\n",
      "<urllib3.response.HTTPResponse object at 0x0000019E96EBF160>\n",
      "https://news.google.com/rss/search?q=india+after:2022-06-28+before:2022-07-03&ceid=US:en&hl=en-US&gl=US\n",
      "<urllib3.response.HTTPResponse object at 0x0000019E956FEB80>\n",
      "https://news.google.com/rss/search?q=india+after:2022-06-28+before:2022-06-30&ceid=US:en&hl=en-US&gl=US\n",
      "<urllib3.response.HTTPResponse object at 0x0000019E93BB1940>\n",
      "https://news.google.com/rss/search?q=india+after:2022-06-30+before:2022-07-03&ceid=US:en&hl=en-US&gl=US\n",
      "<urllib3.response.HTTPResponse object at 0x0000019E9433EF70>\n",
      "https://news.google.com/rss/search?q=india+after:2022-07-03+before:2022-07-08&ceid=US:en&hl=en-US&gl=US\n",
      "<urllib3.response.HTTPResponse object at 0x0000019E9433E7C0>\n",
      "https://news.google.com/rss/search?q=india+after:2022-07-03+before:2022-07-05&ceid=US:en&hl=en-US&gl=US\n",
      "<urllib3.response.HTTPResponse object at 0x0000019E9537FCA0>\n",
      "https://news.google.com/rss/search?q=india+after:2022-07-05+before:2022-07-08&ceid=US:en&hl=en-US&gl=US\n",
      "<urllib3.response.HTTPResponse object at 0x0000019E93E35490>\n",
      "Number of articles retrieved: 594\n",
      "Building corpus from 594 articles...\n",
      "Complete              Fail Rate: 5.89 %  \n",
      "Wrote articles to txt\n",
      "\n",
      "Using date ranges 2022-07-09 2022-07-29\n",
      "Querying en articles...\n",
      "https://news.google.com/rss/search?q=india+after:2022-07-09+before:2022-07-29&ceid=US:en&hl=en-US&gl=US\n",
      "<urllib3.response.HTTPResponse object at 0x0000019E956FEA30>\n",
      "https://news.google.com/rss/search?q=india+after:2022-07-09+before:2022-07-19&ceid=US:en&hl=en-US&gl=US\n",
      "<urllib3.response.HTTPResponse object at 0x0000019E93F71E50>\n",
      "https://news.google.com/rss/search?q=india+after:2022-07-09+before:2022-07-14&ceid=US:en&hl=en-US&gl=US\n",
      "<urllib3.response.HTTPResponse object at 0x0000019E9570DAF0>\n",
      "https://news.google.com/rss/search?q=india+after:2022-07-09+before:2022-07-11&ceid=US:en&hl=en-US&gl=US\n",
      "<urllib3.response.HTTPResponse object at 0x0000019E9570DD30>\n",
      "https://news.google.com/rss/search?q=india+after:2022-07-11+before:2022-07-14&ceid=US:en&hl=en-US&gl=US\n",
      "<urllib3.response.HTTPResponse object at 0x0000019E9570DD30>\n",
      "https://news.google.com/rss/search?q=india+after:2022-07-14+before:2022-07-19&ceid=US:en&hl=en-US&gl=US\n",
      "<urllib3.response.HTTPResponse object at 0x0000019E9570DC70>\n",
      "https://news.google.com/rss/search?q=india+after:2022-07-14+before:2022-07-16&ceid=US:en&hl=en-US&gl=US\n",
      "<urllib3.response.HTTPResponse object at 0x0000019E93EC8670>\n",
      "https://news.google.com/rss/search?q=india+after:2022-07-16+before:2022-07-19&ceid=US:en&hl=en-US&gl=US\n",
      "<urllib3.response.HTTPResponse object at 0x0000019E93A8E730>\n",
      "https://news.google.com/rss/search?q=india+after:2022-07-19+before:2022-07-29&ceid=US:en&hl=en-US&gl=US\n",
      "<urllib3.response.HTTPResponse object at 0x0000019E93F71C40>\n",
      "https://news.google.com/rss/search?q=india+after:2022-07-19+before:2022-07-24&ceid=US:en&hl=en-US&gl=US\n",
      "<urllib3.response.HTTPResponse object at 0x0000019E956ED6D0>\n",
      "https://news.google.com/rss/search?q=india+after:2022-07-19+before:2022-07-21&ceid=US:en&hl=en-US&gl=US\n",
      "<urllib3.response.HTTPResponse object at 0x0000019E93C14B50>\n",
      "https://news.google.com/rss/search?q=india+after:2022-07-21+before:2022-07-24&ceid=US:en&hl=en-US&gl=US\n",
      "<urllib3.response.HTTPResponse object at 0x0000019E93C14B80>\n",
      "https://news.google.com/rss/search?q=india+after:2022-07-24+before:2022-07-29&ceid=US:en&hl=en-US&gl=US\n",
      "<urllib3.response.HTTPResponse object at 0x0000019E956ED220>\n",
      "https://news.google.com/rss/search?q=india+after:2022-07-24+before:2022-07-26&ceid=US:en&hl=en-US&gl=US\n",
      "<urllib3.response.HTTPResponse object at 0x0000019E93E5DC70>\n",
      "https://news.google.com/rss/search?q=india+after:2022-07-26+before:2022-07-29&ceid=US:en&hl=en-US&gl=US\n",
      "<urllib3.response.HTTPResponse object at 0x0000019E956ED190>\n",
      "Number of articles retrieved: 799\n",
      "Building corpus from 799 articles...\n",
      "Complete              Fail Rate: 5.26 %  \n",
      "Wrote articles to txt\n",
      "\n",
      "Using date ranges 2022-07-30 2022-08-19\n",
      "Querying en articles...\n",
      "https://news.google.com/rss/search?q=india+after:2022-07-30+before:2022-08-19&ceid=US:en&hl=en-US&gl=US\n",
      "<urllib3.response.HTTPResponse object at 0x0000019E956ED3A0>\n",
      "https://news.google.com/rss/search?q=india+after:2022-07-30+before:2022-08-09&ceid=US:en&hl=en-US&gl=US\n",
      "<urllib3.response.HTTPResponse object at 0x0000019E9546B4C0>\n",
      "https://news.google.com/rss/search?q=india+after:2022-07-30+before:2022-08-04&ceid=US:en&hl=en-US&gl=US\n",
      "<urllib3.response.HTTPResponse object at 0x0000019E956ED190>\n",
      "https://news.google.com/rss/search?q=india+after:2022-07-30+before:2022-08-01&ceid=US:en&hl=en-US&gl=US\n",
      "<urllib3.response.HTTPResponse object at 0x0000019E9546B250>\n",
      "https://news.google.com/rss/search?q=india+after:2022-08-01+before:2022-08-04&ceid=US:en&hl=en-US&gl=US\n",
      "<urllib3.response.HTTPResponse object at 0x0000019E9407F040>\n",
      "https://news.google.com/rss/search?q=india+after:2022-08-04+before:2022-08-09&ceid=US:en&hl=en-US&gl=US\n",
      "<urllib3.response.HTTPResponse object at 0x0000019E9407F0A0>\n",
      "https://news.google.com/rss/search?q=india+after:2022-08-04+before:2022-08-06&ceid=US:en&hl=en-US&gl=US\n",
      "<urllib3.response.HTTPResponse object at 0x0000019E93BD8100>\n",
      "https://news.google.com/rss/search?q=india+after:2022-08-06+before:2022-08-09&ceid=US:en&hl=en-US&gl=US\n",
      "<urllib3.response.HTTPResponse object at 0x0000019E96EB2940>\n",
      "https://news.google.com/rss/search?q=india+after:2022-08-09+before:2022-08-19&ceid=US:en&hl=en-US&gl=US\n",
      "<urllib3.response.HTTPResponse object at 0x0000019E95DA2D30>\n",
      "https://news.google.com/rss/search?q=india+after:2022-08-09+before:2022-08-14&ceid=US:en&hl=en-US&gl=US\n",
      "<urllib3.response.HTTPResponse object at 0x0000019E93F59FA0>\n",
      "https://news.google.com/rss/search?q=india+after:2022-08-09+before:2022-08-11&ceid=US:en&hl=en-US&gl=US\n",
      "<urllib3.response.HTTPResponse object at 0x0000019E93B47610>\n",
      "https://news.google.com/rss/search?q=india+after:2022-08-11+before:2022-08-14&ceid=US:en&hl=en-US&gl=US\n",
      "<urllib3.response.HTTPResponse object at 0x0000019E95DA2C70>\n",
      "https://news.google.com/rss/search?q=india+after:2022-08-14+before:2022-08-19&ceid=US:en&hl=en-US&gl=US\n",
      "<urllib3.response.HTTPResponse object at 0x0000019E93F9C1F0>\n",
      "https://news.google.com/rss/search?q=india+after:2022-08-14+before:2022-08-16&ceid=US:en&hl=en-US&gl=US\n",
      "<urllib3.response.HTTPResponse object at 0x0000019E93BD9BB0>\n",
      "https://news.google.com/rss/search?q=india+after:2022-08-16+before:2022-08-19&ceid=US:en&hl=en-US&gl=US\n",
      "<urllib3.response.HTTPResponse object at 0x0000019E9546B4C0>\n",
      "Number of articles retrieved: 797\n",
      "Building corpus from 797 articles...\n",
      "Complete              Fail Rate: 4.14 %  \n",
      "Wrote articles to txt\n",
      "\n",
      "Using date ranges 2022-08-20 2022-09-09\n",
      "Querying en articles...\n",
      "https://news.google.com/rss/search?q=india+after:2022-08-20+before:2022-09-09&ceid=US:en&hl=en-US&gl=US\n",
      "<urllib3.response.HTTPResponse object at 0x0000019E93F9C8B0>\n",
      "https://news.google.com/rss/search?q=india+after:2022-08-20+before:2022-08-30&ceid=US:en&hl=en-US&gl=US\n",
      "<urllib3.response.HTTPResponse object at 0x0000019E93F9CB20>\n",
      "https://news.google.com/rss/search?q=india+after:2022-08-20+before:2022-08-25&ceid=US:en&hl=en-US&gl=US\n",
      "<urllib3.response.HTTPResponse object at 0x0000019E94061FD0>\n",
      "https://news.google.com/rss/search?q=india+after:2022-08-20+before:2022-08-22&ceid=US:en&hl=en-US&gl=US\n",
      "<urllib3.response.HTTPResponse object at 0x0000019E94068370>\n",
      "https://news.google.com/rss/search?q=india+after:2022-08-22+before:2022-08-25&ceid=US:en&hl=en-US&gl=US\n",
      "<urllib3.response.HTTPResponse object at 0x0000019E94068370>\n",
      "https://news.google.com/rss/search?q=india+after:2022-08-25+before:2022-08-30&ceid=US:en&hl=en-US&gl=US\n",
      "<urllib3.response.HTTPResponse object at 0x0000019E956E51C0>\n",
      "https://news.google.com/rss/search?q=india+after:2022-08-25+before:2022-08-27&ceid=US:en&hl=en-US&gl=US\n",
      "<urllib3.response.HTTPResponse object at 0x0000019E95DCAAC0>\n",
      "https://news.google.com/rss/search?q=india+after:2022-08-27+before:2022-08-30&ceid=US:en&hl=en-US&gl=US\n",
      "<urllib3.response.HTTPResponse object at 0x0000019E95DCAF70>\n",
      "https://news.google.com/rss/search?q=india+after:2022-08-30+before:2022-09-09&ceid=US:en&hl=en-US&gl=US\n",
      "<urllib3.response.HTTPResponse object at 0x0000019E95DA2C70>\n",
      "Number of articles retrieved: 296\n",
      "Building corpus from 296 articles...\n",
      "Complete              Fail Rate: 5.07 %  \n",
      "Wrote articles to txt\n",
      "\n"
     ]
    }
   ],
   "source": [
    "import datetime\n",
    "from datetime import datetime as dtime\n",
    "\n",
    "def get_articles_incrementing_date(keyword):\n",
    "    \n",
    "    start = '2022-01-01'\n",
    "    \n",
    "    while dtime.strptime(start, \"%Y-%m-%d\") < datetime.datetime.today():\n",
    "        end = dtime.strptime(start, \"%Y-%m-%d\") + datetime.timedelta(days=20)\n",
    "        end = end.strftime(\"%Y-%m-%d\")\n",
    "        \n",
    "        print('Using date ranges ' + start + ' ' + end)\n",
    "        articles = gncb.create_articles_from_keyphrase(keyword, start, end)\n",
    "        clean_and_save(articles, keyword, start, end)\n",
    "\n",
    "        start=dtime.strptime(end, \"%Y-%m-%d\") + datetime.timedelta(days=1)\n",
    "        start = start.strftime(\"%Y-%m-%d\")\n",
    "\n",
    "get_articles_incrementing_date('india')"
   ]
  },
  {
   "cell_type": "code",
   "execution_count": 302,
   "id": "cec5aad8-2222-4d96-9d6f-fdf26e06f202",
   "metadata": {},
   "outputs": [
    {
     "data": {
      "text/plain": [
       "False"
      ]
     },
     "execution_count": 302,
     "metadata": {},
     "output_type": "execute_result"
    }
   ],
   "source": [
    "start = '2003-10-12'\n",
    "end = dtime.strptime(start, \"%Y-%m-%d\") + datetime.timedelta(days=60)\n",
    "\n",
    "dtime.strptime(start, \"%Y-%m-%d\") > datetime.datetime.today()"
   ]
  },
  {
   "cell_type": "code",
   "execution_count": 5,
   "id": "9d1b425f-b2bd-4c74-ad33-2b5e7517e25f",
   "metadata": {},
   "outputs": [
    {
     "ename": "NameError",
     "evalue": "name 'articles' is not defined",
     "output_type": "error",
     "traceback": [
      "\u001b[1;31m---------------------------------------------------------------------------\u001b[0m",
      "\u001b[1;31mNameError\u001b[0m                                 Traceback (most recent call last)",
      "\u001b[1;32m<ipython-input-5-e1f1d16ebf32>\u001b[0m in \u001b[0;36m<module>\u001b[1;34m\u001b[0m\n\u001b[1;32m----> 1\u001b[1;33m \u001b[0marticles\u001b[0m\u001b[1;33m\u001b[0m\u001b[1;33m\u001b[0m\u001b[0m\n\u001b[0m",
      "\u001b[1;31mNameError\u001b[0m: name 'articles' is not defined"
     ]
    }
   ],
   "source": [
    "articles"
   ]
  },
  {
   "cell_type": "code",
   "execution_count": 271,
   "id": "75baf900-046d-45ff-bd92-f60776fa1daf",
   "metadata": {},
   "outputs": [
    {
     "name": "stdout",
     "output_type": "stream",
     "text": [
      "Querying en articles...\n",
      "Number of articles retrieved: 5\n",
      "Building corpus from 5 articles...\n",
      "Complete              Fail Rate: 0.00 %  \n",
      "Wrote articles to txt\n",
      "\n",
      "Querying en articles...\n",
      "Number of articles retrieved: 11\n",
      "Building corpus from 11 articles...\n",
      "Complete              Fail Rate: 9.09 %  \n",
      "Wrote articles to txt\n",
      "\n",
      "Querying en articles...\n",
      "Number of articles retrieved: 11\n",
      "Building corpus from 11 articles...\n",
      "Complete              Fail Rate: 0.00 %  \n",
      "Wrote articles to txt\n",
      "\n",
      "Querying en articles...\n",
      "Number of articles retrieved: 9\n",
      "Building corpus from 9 articles...\n",
      "Complete              Fail Rate: 0.00 %  \n",
      "Wrote articles to txt\n",
      "\n"
     ]
    }
   ],
   "source": [
    "\n",
    "\n",
    "articles = gncb.create_articles_from_keyphrase('putin', '2004-11-02', '2005-01-01')\n",
    "clean_and_save(articles, 'putin', '2004-11-02', '2005-01-01')\n",
    "\n",
    "articles = gncb.create_articles_from_keyphrase('putin', '2005-01-02', '2005-06-01')\n",
    "clean_and_save(articles, 'putin', '2005-01-02', '2005-06-01')\n",
    "\n",
    "articles = gncb.create_articles_from_keyphrase('putin', '2005-06-02', '2006-01-01')\n",
    "clean_and_save(articles, 'putin', '2005-06-02', '2006-01-01')\n",
    "\n",
    "articles = gncb.create_articles_from_keyphrase('putin', '2006-01-02', '2006-06-01')\n",
    "clean_and_save(articles, 'putin', '2006-01-02', '2006-06-01')"
   ]
  },
  {
   "cell_type": "code",
   "execution_count": 115,
   "id": "97348491-e359-487a-b9a5-ca4f381cbbf5",
   "metadata": {},
   "outputs": [
    {
     "data": {
      "text/plain": [
       "['oldest', 'youngest', '30-year-old', '36-year-old', 'married']"
      ]
     },
     "execution_count": 115,
     "metadata": {},
     "output_type": "execute_result"
    }
   ],
   "source": [
    "similar1 = model1.wv.most_similar('trump', topn=550)\n",
    "get_adjectives(similar1)[:5]"
   ]
  },
  {
   "cell_type": "code",
   "execution_count": 116,
   "id": "bbb64215-f63d-44c5-9a50-6eb4ec65fde0",
   "metadata": {},
   "outputs": [
    {
     "data": {
      "text/plain": [
       "['upturned', 'wire-tapped', 'enviable', '70-floor', 'indisputable']"
      ]
     },
     "execution_count": 116,
     "metadata": {},
     "output_type": "execute_result"
    }
   ],
   "source": [
    "similar2 = model2.wv.most_similar('trump', topn=550)\n",
    "get_adjectives(similar2)[:5]"
   ]
  },
  {
   "cell_type": "code",
   "execution_count": 91,
   "id": "02ca0570-fe5e-4aea-bdd1-0aa9c766bcfa",
   "metadata": {},
   "outputs": [
    {
     "data": {
      "text/plain": [
       "34471"
      ]
     },
     "execution_count": 91,
     "metadata": {},
     "output_type": "execute_result"
    }
   ],
   "source": [
    "model1.corpus_total_words\n",
    "\n",
    "#total unique words\n",
    "len(model1.wv.index2word)"
   ]
  },
  {
   "cell_type": "code",
   "execution_count": 92,
   "id": "dc95f036-68a7-46cd-a93c-d4f0d982e7a8",
   "metadata": {},
   "outputs": [
    {
     "data": {
      "text/plain": [
       "75833"
      ]
     },
     "execution_count": 92,
     "metadata": {},
     "output_type": "execute_result"
    }
   ],
   "source": [
    "model2.corpus_total_words\n",
    "\n",
    "#total unique words\n",
    "len(model2.wv.index2word)"
   ]
  },
  {
   "cell_type": "code",
   "execution_count": 94,
   "id": "4e6b907c-d9db-4f34-86ee-a1a1d7389c9b",
   "metadata": {},
   "outputs": [
    {
     "data": {
      "text/plain": [
       "[('president-elect', 0.6436886787414551),\n",
       " ('trump.', 0.5972613096237183),\n",
       " ('senatori', 0.5810485482215881),\n",
       " ('short—it', 0.5696094036102295),\n",
       " ('trump—something', 0.5605754852294922),\n",
       " ('upturned', 0.5581437945365906),\n",
       " ('motive.', 0.5576278567314148),\n",
       " ('soon-to-be-president', 0.5517127513885498),\n",
       " ('housekeeping.', 0.5482652187347412),\n",
       " ('wire-tapped', 0.5451478958129883)]"
      ]
     },
     "execution_count": 94,
     "metadata": {},
     "output_type": "execute_result"
    }
   ],
   "source": [
    "model2.wv.most_similar('trump')"
   ]
  },
  {
   "cell_type": "code",
   "execution_count": 113,
   "id": "28c51e04-543a-4ceb-8333-519fd9c4261a",
   "metadata": {},
   "outputs": [
    {
     "data": {
      "text/plain": [
       "[{'@id': '/c/en/trumped', 'weight': 0.874},\n",
       " {'@id': '/c/en/trumps', 'weight': 0.786},\n",
       " {'@id': '/c/en/trump_card', 'weight': 0.736},\n",
       " {'@id': '/c/en/trumping', 'weight': 0.701},\n",
       " {'@id': '/c/en/ivanka', 'weight': 0.55},\n",
       " {'@id': '/c/en/trumpy', 'weight': 0.426},\n",
       " {'@id': '/c/en/donald', 'weight': 0.406},\n",
       " {'@id': '/c/en/hillary', 'weight': 0.391},\n",
       " {'@id': '/c/en/sancho', 'weight': 0.39}]"
      ]
     },
     "execution_count": 113,
     "metadata": {},
     "output_type": "execute_result"
    }
   ],
   "source": [
    "import requests\n",
    "\n",
    "obj = requests.get('http://api.conceptnet.io/related/c/en/' + 'trump' + '?filter=/c/en').json()\n",
    "obj['related'][1:10]"
   ]
  },
  {
   "cell_type": "code",
   "execution_count": 114,
   "id": "e416ea2d-5b40-4c43-9213-7fecc6426890",
   "metadata": {},
   "outputs": [
    {
     "data": {
      "text/plain": [
       "{'@context': ['http://api.conceptnet.io/ld/conceptnet5.7/context.ld.json'],\n",
       " 'error': {'details': 'Internal server error', 'status': 500},\n",
       " 'version': '5.8.1'}"
      ]
     },
     "execution_count": 114,
     "metadata": {},
     "output_type": "execute_result"
    }
   ],
   "source": [
    "obj = requests.get('http://api.conceptnet.io/c/en/what').json()\n",
    "obj"
   ]
  },
  {
   "cell_type": "code",
   "execution_count": 111,
   "id": "b8c29f61-9ab0-41b4-a821-460a2546792f",
   "metadata": {},
   "outputs": [],
   "source": [
    "response = requests.get('http://api.conceptnet.io/query?start=/c/en/apple&rel=/r/ExternalURL&limit=1000')\n",
    "obj = response.json()"
   ]
  },
  {
   "cell_type": "code",
   "execution_count": 112,
   "id": "14651a4f-12ea-4d53-a790-a36400a5527d",
   "metadata": {},
   "outputs": [
    {
     "data": {
      "text/plain": [
       "{'@context': ['http://api.conceptnet.io/ld/conceptnet5.7/context.ld.json'],\n",
       " 'error': {'details': 'Internal server error', 'status': 500},\n",
       " 'version': '5.8.1'}"
      ]
     },
     "execution_count": 112,
     "metadata": {},
     "output_type": "execute_result"
    }
   ],
   "source": [
    "obj"
   ]
  },
  {
   "cell_type": "code",
   "execution_count": 120,
   "id": "4e3cb326-73d5-4f71-957c-864d679f2a67",
   "metadata": {},
   "outputs": [],
   "source": [
    "model1.save('word2vec models/trump, 2012-01-01, 2015-01-01.vectors')"
   ]
  },
  {
   "cell_type": "code",
   "execution_count": 121,
   "id": "6116f57b-0649-4452-b736-b08ff859a027",
   "metadata": {},
   "outputs": [],
   "source": [
    "model2.save('word2vec models/trump, 2016-01-01, 2018-01-01.vectors')"
   ]
  },
  {
   "cell_type": "code",
   "execution_count": 126,
   "id": "b81f21d0-9a52-42d1-a75e-5af5af7f2de3",
   "metadata": {},
   "outputs": [],
   "source": [
    "model = Word2Vec.load('word2vec models/trump, 2012-01-01, 2015-01-01.vectors')"
   ]
  },
  {
   "cell_type": "code",
   "execution_count": 139,
   "id": "b6ea5851-a455-4d9f-a89c-644baa7b3526",
   "metadata": {},
   "outputs": [
    {
     "name": "stdout",
     "output_type": "stream",
     "text": [
      "Querying en articles...\n",
      "Number of articles retrieved: 3100\n",
      "Building corpus from 3100 articles...\n",
      "Complete              Fail Rate: 2.10 %  \n",
      "Querying en articles...\n",
      "Number of articles retrieved: 3200\n",
      "Building corpus from 3200 articles...\n",
      "Progress: 63.81 %    Fail Rate: 5.29 %   \r"
     ]
    },
    {
     "name": "stderr",
     "output_type": "stream",
     "text": [
      "c:\\python\\python39\\lib\\site-packages\\dateutil\\parser\\_parser.py:1207: UnknownTimezoneWarning: tzname EDT identified but not understood.  Pass `tzinfos` argument in order to correctly return a timezone-aware datetime.  In a future version, this will raise an exception.\n",
      "  warnings.warn(\"tzname {tzname} identified but not understood.  \"\n"
     ]
    },
    {
     "name": "stdout",
     "output_type": "stream",
     "text": [
      "Complete              Fail Rate: 5.66 %  \n"
     ]
    }
   ],
   "source": [
    "c = gncb.create_articles_from_keyphrase('trump', '2018-01-02', '2020-01-01')\n",
    "d = gncb.create_articles_from_keyphrase('trump', '2020-01-02', '2022-01-01')\n",
    "\n",
    "model3 = create_word2vec_model_from_articles(c)\n",
    "model4 = create_word2vec_model_from_articles(d)\n",
    "\n",
    "model3.save('word2vec models/trump, 2018-01-02, 2020-01-01.vectors')\n",
    "model4.save('word2vec models/trump, 2020-01-02, 2022-01-01.vectors')"
   ]
  },
  {
   "cell_type": "code",
   "execution_count": 141,
   "id": "da586188-c9e2-4529-9d8a-297b8cfbc2ef",
   "metadata": {},
   "outputs": [
    {
     "name": "stdout",
     "output_type": "stream",
     "text": [
      "1838386\n"
     ]
    },
    {
     "data": {
      "text/plain": [
       "68832"
      ]
     },
     "execution_count": 141,
     "metadata": {},
     "output_type": "execute_result"
    }
   ],
   "source": [
    "print(model3.corpus_total_words)\n",
    "\n",
    "#total unique words\n",
    "len(model3.wv.index2word)"
   ]
  },
  {
   "cell_type": "code",
   "execution_count": 142,
   "id": "3deba1a9-d997-4156-9451-516489ba09e7",
   "metadata": {},
   "outputs": [
    {
     "name": "stdout",
     "output_type": "stream",
     "text": [
      "1780408\n"
     ]
    },
    {
     "data": {
      "text/plain": [
       "61127"
      ]
     },
     "execution_count": 142,
     "metadata": {},
     "output_type": "execute_result"
    }
   ],
   "source": [
    "print(model4.corpus_total_words)\n",
    "\n",
    "#total unique words\n",
    "len(model4.wv.index2word)"
   ]
  },
  {
   "cell_type": "code",
   "execution_count": 143,
   "id": "04783655-ba87-4853-9377-1411f263a96f",
   "metadata": {},
   "outputs": [
    {
     "data": {
      "text/plain": [
       "['ad-libbed',\n",
       " 'mission-oriented',\n",
       " 'shutdown-themed',\n",
       " 'pedal-to-the-metal',\n",
       " 'expendable']"
      ]
     },
     "execution_count": 143,
     "metadata": {},
     "output_type": "execute_result"
    }
   ],
   "source": []
  },
  {
   "cell_type": "code",
   "execution_count": 145,
   "id": "f685dbb0-86c1-4bcc-b75e-e2c31ac6fda4",
   "metadata": {},
   "outputs": [
    {
     "data": {
      "text/plain": [
       "['hobble', 'multi-pronged', 'hectic', 'anti-elite', 'unfocused']"
      ]
     },
     "execution_count": 145,
     "metadata": {},
     "output_type": "execute_result"
    }
   ],
   "source": [
    "similar4 = model4.wv.most_similar('trump', topn=550)\n",
    "get_adjectives(similar4)[:5]"
   ]
  },
  {
   "cell_type": "code",
   "execution_count": 158,
   "id": "a0e647ae-0683-4f64-bbc5-b9296ad73a0a",
   "metadata": {},
   "outputs": [],
   "source": [
    "model1 = create_word2vec_model_from_articles(a)\n",
    "model2 = create_word2vec_model_from_articles(b)\n",
    "model3 = create_word2vec_model_from_articles(c)\n",
    "model4 = create_word2vec_model_from_articles(d)"
   ]
  },
  {
   "cell_type": "code",
   "execution_count": 165,
   "id": "dfb0ee37-4a20-4c51-b6ed-cdb363007910",
   "metadata": {},
   "outputs": [
    {
     "name": "stdout",
     "output_type": "stream",
     "text": [
      "2012 - 2014\n",
      "['married', 'oldest', 'international', 'second', 'unveiled']\n",
      "\n",
      "\n",
      "2016 - 2017\n",
      "['cryptic', 'unusual', 'remarkable', 'chaotic', 'controversial']\n",
      "\n",
      "\n",
      "2018 - 2019\n",
      "['french', 'new', 'open', 'nuclear', 'legal']\n",
      "\n",
      "\n",
      "2020 - 2021\n",
      "['improbable', 'unclear', 'chaotic', 'unsuccessful', 'uninterested']\n",
      "\n",
      "\n"
     ]
    }
   ],
   "source": [
    "similar1 = model1.wv.most_similar('trump', topn=550)\n",
    "print('2012 - 2014')\n",
    "print(get_adjectives(similar1)[:5])\n",
    "print('\\n')\n",
    "\n",
    "similar2 = model2.wv.most_similar('trump', topn=550)\n",
    "print('2016 - 2017')\n",
    "print(get_adjectives(similar2)[:5])\n",
    "print('\\n')\n",
    "\n",
    "similar3 = model3.wv.most_similar('trump', topn=550)\n",
    "print('2018 - 2019')\n",
    "print(get_adjectives(similar3)[:5])\n",
    "print('\\n')\n",
    "\n",
    "similar4 = model4.wv.most_similar('trump', topn=550)\n",
    "print('2020 - 2021')\n",
    "print(get_adjectives(similar4)[:5])\n",
    "print('\\n')"
   ]
  },
  {
   "cell_type": "code",
   "execution_count": 162,
   "id": "70e92af2-262c-4479-b4c2-afcd724ef847",
   "metadata": {},
   "outputs": [],
   "source": [
    "model1.save('word2vec models/trump, 2012-01-01, 2015-01-01.vectors')\n",
    "model2.save('word2vec models/trump, 2016-01-01, 2018-01-01.vectors')\n",
    "model3.save('word2vec models/trump, 2018-01-02, 2020-01-01.vectors')\n",
    "model4.save('word2vec models/trump, 2020-01-02, 2022-01-01.vectors')"
   ]
  },
  {
   "cell_type": "code",
   "execution_count": 171,
   "id": "755f5518-12f3-43c3-951c-e0fdfbbdcc57",
   "metadata": {},
   "outputs": [
    {
     "name": "stdout",
     "output_type": "stream",
     "text": [
      "Querying en articles...\n",
      "Number of articles retrieved: 28\n",
      "Building corpus from 28 articles...\n",
      "Complete              Fail Rate: 10.71 %  \n"
     ]
    }
   ],
   "source": [
    "c = gncb.create_articles_from_keyphrase('macron', '2012-01-02', '2016-01-01')\n",
    "\n",
    "model3 = create_word2vec_model_from_articles(c)"
   ]
  },
  {
   "cell_type": "code",
   "execution_count": 174,
   "id": "4b836ef3-576f-453b-aa76-af3e96319c36",
   "metadata": {},
   "outputs": [
    {
     "name": "stdout",
     "output_type": "stream",
     "text": [
      "Querying en articles...\n",
      "Number of articles retrieved: 2037\n",
      "Building corpus from 2037 articles...\n",
      "Complete              Fail Rate: 5.15 %  \n"
     ]
    }
   ],
   "source": [
    "d = gncb.create_articles_from_keyphrase('macron', '2018-01-02', '2020-01-01')\n",
    "\n",
    "model = create_word2vec_model_from_articles(d)"
   ]
  },
  {
   "cell_type": "code",
   "execution_count": 175,
   "id": "47c4fdd8-b113-42d8-af8a-504adfd290fe",
   "metadata": {},
   "outputs": [],
   "source": [
    "#model3.save('word2vec models/macron, 2012-01-02, 2016-01-01.vectors')\n",
    "#model4.save('word2vec models/macron, 2016-01-02, 2018-01-01.vectors')\n",
    "model5.save('word2vec models/macron, 2018-01-02, 2020-01-01.vectors')\n",
    "#model6.save('word2vec models/macron, 2020-01-02, 2022-01-01.vectors')"
   ]
  },
  {
   "cell_type": "code",
   "execution_count": 176,
   "id": "9ec391ee-7572-4b02-9317-3af9fff00962",
   "metadata": {},
   "outputs": [
    {
     "name": "stdout",
     "output_type": "stream",
     "text": [
      "2020 - 2021\n",
      "['french', 'sartorial', 'delicious', 'upended', 'honorable']\n",
      "\n",
      "\n"
     ]
    }
   ],
   "source": [
    "model = model5\n",
    "\n",
    "similar = model.wv.most_similar('macron', topn=550)\n",
    "print('2020 - 2021')\n",
    "print(get_adjectives(similar)[:5])\n",
    "print('\\n')"
   ]
  },
  {
   "cell_type": "code",
   "execution_count": 206,
   "id": "2d663f18-4240-468c-bf01-6c53b8c8e0ec",
   "metadata": {},
   "outputs": [
    {
     "name": "stdout",
     "output_type": "stream",
     "text": [
      "Querying en articles...\n",
      "Number of articles retrieved: 17\n",
      "Building corpus from 17 articles...\n",
      "Complete              Fail Rate: 5.88 %  \n"
     ]
    }
   ],
   "source": [
    "d = gncb.create_articles_from_keyphrase('ernst junger', '2003-11-02', '2020-01-01')"
   ]
  },
  {
   "cell_type": "code",
   "execution_count": 232,
   "id": "1fc9421e-c38d-4a10-b63c-10424cbf78a4",
   "metadata": {},
   "outputs": [],
   "source": [
    "for a in d:\n",
    "    if (len(a)) < 500:\n",
    "        print(a)\n",
    "        del d[d.index(a)]\n",
    "#500 is a good length to chop\n",
    "\n",
    "model = create_word2vec_model_from_articles(d)"
   ]
  },
  {
   "cell_type": "code",
   "execution_count": 234,
   "id": "70ee7535-8c1b-4577-8778-7c6e41d650dc",
   "metadata": {},
   "outputs": [
    {
     "name": "stdout",
     "output_type": "stream",
     "text": [
      "junger\n",
      "['necessary', 'nonjudgmental', 'natural', 'interested', 'terrible']\n",
      "\n",
      "\n"
     ]
    }
   ],
   "source": [
    "similar = model.wv.most_similar('junger', topn=500)\n",
    "print('junger')\n",
    "print(get_adjectives(similar)[:5])\n",
    "print('\\n')"
   ]
  },
  {
   "cell_type": "code",
   "execution_count": 6,
   "id": "2517ffd0-59e6-4305-a801-5b5449594092",
   "metadata": {},
   "outputs": [
    {
     "ename": "IndentationError",
     "evalue": "unexpected indent (<ipython-input-6-26d19f2f5273>, line 6)",
     "output_type": "error",
     "traceback": [
      "\u001b[1;36m  File \u001b[1;32m\"<ipython-input-6-26d19f2f5273>\"\u001b[1;36m, line \u001b[1;32m6\u001b[0m\n\u001b[1;33m    with open(filename, 'w', encoding='utf-8') as fp:\u001b[0m\n\u001b[1;37m    ^\u001b[0m\n\u001b[1;31mIndentationError\u001b[0m\u001b[1;31m:\u001b[0m unexpected indent\n"
     ]
    }
   ],
   "source": [
    "keyword = 'india'\n",
    "\n",
    "\n",
    "filename = 'articles/' + keyword + ' ' + start + ' ' + end + '.txt'\n",
    "    # open file in write mode\n",
    "    with open(filename, 'w', encoding='utf-8') as fp:\n",
    "        for art in articles:\n",
    "            # write each item on a new line\n",
    "            fp.write(\"%s\\n\" % art)\n",
    "        print('Wrote articles to txt\\n')"
   ]
  },
  {
   "cell_type": "code",
   "execution_count": 18,
   "id": "e8b183f9-eafb-49ed-b754-68356a62a5a1",
   "metadata": {},
   "outputs": [
    {
     "data": {
      "text/plain": [
       "True"
      ]
     },
     "execution_count": 18,
     "metadata": {},
     "output_type": "execute_result"
    }
   ],
   "source": [
    "from os.path import join, isfile\n",
    "from os import listdir\n",
    "\n",
    "path = 'bitcoin 2017-10-14 2017-11-03.txt'\n",
    "\n",
    "isfile(join('articles', path))\n",
    "#frontPageImgs = [f for f in listdir(mypath) if isfile(join(mypath, f))]"
   ]
  },
  {
   "cell_type": "code",
   "execution_count": 52,
   "id": "147608f1-2df8-45c5-9868-5d7246ca8bec",
   "metadata": {},
   "outputs": [],
   "source": [
    "def read_in_files(file_list):\n",
    "    arts = {}\n",
    "    for file in file_list:\n",
    "        with open('articles/'+file, 'r', encoding='utf-8') as f:\n",
    "            arts[file[8:]]= f.readlines()\n",
    "    return arts\n",
    "\n",
    "\n",
    "\n",
    "topics = ['bitcoin']\n",
    "\n",
    "for topic in topics:\n",
    "    topic_files = [f for f in listdir('articles') if topic in f]\n",
    "    \n",
    "    topic_corpus = read_in_files(topic_files)\n",
    "    \n",
    "\n",
    "\n",
    "    "
   ]
  },
  {
   "cell_type": "code",
   "execution_count": 53,
   "id": "0e674edd-a19c-41ca-91c1-0a22bcf3c6d4",
   "metadata": {},
   "outputs": [
    {
     "data": {
      "text/plain": [
       "{'2010-12-17 2011-02-15.txt': [\"A few weeks ago, we mentioned a rather unusual technological endeavor to create an online currency. We received a few queries about this subject, so decided to provide a more thorough description of what digital currency is, how this system works, why it's appealing and how it might fall short of user expectations.\\n\",\n",
       "  '\\n',\n",
       "  'To understand digital currency, one must first note that money in the digital age has moved from a largely anonymous system to one increasingly laden with tracking, control and regulatory overhead. Our cold hard cash is now shepherded through a series of regulated financial institutions like banks, credit unions and lenders. Bitcoin, created in 2009 by Satoshi Nakamoto, is a peer-to-peer digital currency system that endeavors to re-establish both privacy and autonomy by avoiding the banking and government middlemen. The goal is to allow individuals and merchants to generate and exchange modern money directly. Once the Bitcoin software has been downloaded, a user can store Bitcoins and exchange them directly with other users or merchants — without the currency being verified by a third party such as a bank or government. It uses a unique system to prevent multiple-spending of each coin, which makes it an interesting development in the movement toward digital cash systems.\\n',\n",
       "  '\\n',\n",
       "  \"The model proposed by Bitcoin is in many ways a response to some of the privacy and autonomy concerns surrounding our current financial system. Current money systems now increasingly come with monitoring of financial transactions and blocking of financial anonymity. A peer-to-peer currency could theoretically offer an alternative to the bank practices that increasingly include sharing information on their customers who don't actively opt-out, and who may even then be able to share data with affiliates and joint marketers. Bitcoin is particularly interesting in the wake of recent events that demonstrated how financial institutions can make political decisions in whom they service, showcased by the decisions of PayPal, Visa, Mastercard and Bank of America to cut off services to Wikileaks. Bitcoin, if it were to live up to the dreams of its creators, might offer the kind of anonymity and freedom in the digital environment we associate with cash used in the offline world.\\n\",\n",
       "  '\\n',\n",
       "  \"But Bitcoin's current implementation won't resolve all of the issues surrounding autonomy and privacy. Notably, the anonymity on Bitcoin is not entirely secure at this time, which makes its merits as a more private form of currency tenuous at best. There are also other weaknesses to the system, some significant, which should be understood before using Bitcoin. And as of this writing, Bitcoin can't be used to donate to Wikileaks. But even more important than these concerns is the fact that governments around the world may raise legal issues with any digital cash scheme — ranging from money laundering to tax evasion to a range of other regulatory concerns. Nonetheless, Bitcoin is an intriguing project and worth watching to see how it develops in the coming years.\\n\",\n",
       "  '\\n',\n",
       "  'While Bitcoin is relatively young, digital currencies have been around a long time. Digicash, released in 1994, is considered a pioneer of electronic cash using cryptography to maintain anonymity. The Ripple currency project relies on interpersonal relationships to allow communities to create their own money systems (which is similar to the Local Exchange Trading System). There is also the anonymous digital cash system eCache, which can only be accessed via the anonymous onion routing network Tor. There are also numerous other digital money projects that have been proposed over the years; Bitcoin is just the newest chapter in the ongoing effort to create wholly digital currency.\\n',\n",
       "  '\\n',\n",
       "  'Bitcoin is not challenging to use. Anyone can go online and start generating Bitcoins. The computer creates a coin by dedicating CPU power to solving a mathematical problem; every time the problem is solved, a Bitcoin is generated and another problem is offered up. The total number of Bitcoins will approach 21,000,000 over time. Learn more.\\n',\n",
       "  '\\n',\n",
       "  'Perhaps the most interesting dimension of the Bitcoin project is its unorthodox approach to fraud prevention. Traditional currency systems have relied on trusted third parties to verify that the same unit of currency is not exchanged multiple times. For example, when you make a purchase with your credit card, the credit card company adjusts your available balance. Bitcoin addresses this problem without a third party by making all transactions public. As Bitcoin developer Gavin Andresen explained, every coin has a digital signature attached to it for every transaction that takes place; each time the coin is exchanged, another signature is added. If two coins appear identical, the one that was accepted by the Bitcoin network first is considered valid. Even though the transactions are public, the individuals tied to the transactions are anonymous. This is similar to how the stock exchange makes stock values public without disclosing individual owners. See the technical paper: Bitcoin: a Peer-to-Peer Electronic Cash System.\\n',\n",
       "  '\\n',\n",
       "  \"It's too early to say whether Bitcoin will be a success. Any new currency system faces an uphill battle, both technically and legally. The worth of Bitcoins, if the system ever gets wide adoption, will be based on an ever-fluctuating market value. Merchants will need to accept Bitcoins as a placeholder for goods and services, just like any other form of currency. This has been a barrier to other digital cash options historically, so it's difficult to know whether Bitcoin will be better prepared to face these challenges. But many believe that there's a need for decentralized currency system, and Bitcoin certainly is a step toward censorship-resistant digital currency. Bitcoins can already be used to make purchases and can even be donated to a few of your favorite charities — including EFF.\\n\"]}"
      ]
     },
     "execution_count": 53,
     "metadata": {},
     "output_type": "execute_result"
    }
   ],
   "source": [
    "topic_corpus"
   ]
  },
  {
   "cell_type": "code",
   "execution_count": 3,
   "id": "15c72f6b-f842-4bc8-9e09-31d441a8d20b",
   "metadata": {},
   "outputs": [
    {
     "data": {
      "text/plain": [
       "[{'@id': '/a/[/r/RelatedTo/,/c/sh/koji/n/,/c/en/what/]',\n",
       "  '@type': 'Edge',\n",
       "  'dataset': '/d/wiktionary/en',\n",
       "  'end': {'@id': '/c/en/what',\n",
       "   '@type': 'Node',\n",
       "   'label': 'what',\n",
       "   'language': 'en',\n",
       "   'term': '/c/en/what'},\n",
       "  'license': 'cc:by-sa/4.0',\n",
       "  'rel': {'@id': '/r/RelatedTo', '@type': 'Relation', 'label': 'RelatedTo'},\n",
       "  'sources': [{'@id': '/and/[/s/process/wikiparsec/2/,/s/resource/wiktionary/en/]',\n",
       "    '@type': 'Source',\n",
       "    'contributor': '/s/resource/wiktionary/en',\n",
       "    'process': '/s/process/wikiparsec/2'}],\n",
       "  'start': {'@id': '/c/sh/koji/n',\n",
       "   '@type': 'Node',\n",
       "   'label': 'koji',\n",
       "   'language': 'sh',\n",
       "   'sense_label': 'n',\n",
       "   'term': '/c/sh/koji'},\n",
       "  'surfaceText': None,\n",
       "  'weight': 2.82842712474619},\n",
       " {'@id': '/a/[/r/Synonym/,/c/ja/何だって/,/c/en/what/]',\n",
       "  '@type': 'Edge',\n",
       "  'dataset': '/d/jmdict',\n",
       "  'end': {'@id': '/c/en/what',\n",
       "   '@type': 'Node',\n",
       "   'label': 'what',\n",
       "   'language': 'en',\n",
       "   'term': '/c/en/what'},\n",
       "  'license': 'cc:by-sa/4.0',\n",
       "  'rel': {'@id': '/r/Synonym', '@type': 'Relation', 'label': 'Synonym'},\n",
       "  'sources': [{'@id': '/s/resource/jmdict/1.07',\n",
       "    '@type': 'Source',\n",
       "    'contributor': '/s/resource/jmdict/1.07'}],\n",
       "  'start': {'@id': '/c/ja/何だって',\n",
       "   '@type': 'Node',\n",
       "   'label': '何だって',\n",
       "   'language': 'ja',\n",
       "   'term': '/c/ja/何だって'},\n",
       "  'surfaceText': None,\n",
       "  'weight': 2.0},\n",
       " {'@id': '/a/[/r/RelatedTo/,/c/sh/šta/n/,/c/en/what/]',\n",
       "  '@type': 'Edge',\n",
       "  'dataset': '/d/wiktionary/en',\n",
       "  'end': {'@id': '/c/en/what',\n",
       "   '@type': 'Node',\n",
       "   'label': 'what',\n",
       "   'language': 'en',\n",
       "   'term': '/c/en/what'},\n",
       "  'license': 'cc:by-sa/4.0',\n",
       "  'rel': {'@id': '/r/RelatedTo', '@type': 'Relation', 'label': 'RelatedTo'},\n",
       "  'sources': [{'@id': '/and/[/s/process/wikiparsec/2/,/s/resource/wiktionary/en/]',\n",
       "    '@type': 'Source',\n",
       "    'contributor': '/s/resource/wiktionary/en',\n",
       "    'process': '/s/process/wikiparsec/2'}],\n",
       "  'start': {'@id': '/c/sh/šta/n',\n",
       "   '@type': 'Node',\n",
       "   'label': 'šta',\n",
       "   'language': 'sh',\n",
       "   'sense_label': 'n',\n",
       "   'term': '/c/sh/šta'},\n",
       "  'surfaceText': None,\n",
       "  'weight': 2.0},\n",
       " {'@id': '/a/[/r/Synonym/,/c/ja/何事/n/jmdict/1/,/c/en/what/]',\n",
       "  '@type': 'Edge',\n",
       "  'dataset': '/d/jmdict',\n",
       "  'end': {'@id': '/c/en/what',\n",
       "   '@type': 'Node',\n",
       "   'label': 'what',\n",
       "   'language': 'en',\n",
       "   'term': '/c/en/what'},\n",
       "  'license': 'cc:by-sa/4.0',\n",
       "  'rel': {'@id': '/r/Synonym', '@type': 'Relation', 'label': 'Synonym'},\n",
       "  'sources': [{'@id': '/s/resource/jmdict/1.07',\n",
       "    '@type': 'Source',\n",
       "    'contributor': '/s/resource/jmdict/1.07'}],\n",
       "  'start': {'@id': '/c/ja/何事/n/jmdict/1',\n",
       "   '@type': 'Node',\n",
       "   'label': '何事',\n",
       "   'language': 'ja',\n",
       "   'sense_label': 'n',\n",
       "   'term': '/c/ja/何事'},\n",
       "  'surfaceText': None,\n",
       "  'weight': 2.0},\n",
       " {'@id': '/a/[/r/Synonym/,/c/ja/何じゃ/,/c/en/what/]',\n",
       "  '@type': 'Edge',\n",
       "  'dataset': '/d/jmdict',\n",
       "  'end': {'@id': '/c/en/what',\n",
       "   '@type': 'Node',\n",
       "   'label': 'what',\n",
       "   'language': 'en',\n",
       "   'term': '/c/en/what'},\n",
       "  'license': 'cc:by-sa/4.0',\n",
       "  'rel': {'@id': '/r/Synonym', '@type': 'Relation', 'label': 'Synonym'},\n",
       "  'sources': [{'@id': '/s/resource/jmdict/1.07',\n",
       "    '@type': 'Source',\n",
       "    'contributor': '/s/resource/jmdict/1.07'}],\n",
       "  'start': {'@id': '/c/ja/何じゃ',\n",
       "   '@type': 'Node',\n",
       "   'label': '何じゃ',\n",
       "   'language': 'ja',\n",
       "   'term': '/c/ja/何じゃ'},\n",
       "  'surfaceText': None,\n",
       "  'weight': 2.0},\n",
       " {'@id': '/a/[/r/RelatedTo/,/c/sh/takav/a/,/c/en/what/]',\n",
       "  '@type': 'Edge',\n",
       "  'dataset': '/d/wiktionary/en',\n",
       "  'end': {'@id': '/c/en/what',\n",
       "   '@type': 'Node',\n",
       "   'label': 'what',\n",
       "   'language': 'en',\n",
       "   'term': '/c/en/what'},\n",
       "  'license': 'cc:by-sa/4.0',\n",
       "  'rel': {'@id': '/r/RelatedTo', '@type': 'Relation', 'label': 'RelatedTo'},\n",
       "  'sources': [{'@id': '/and/[/s/process/wikiparsec/2/,/s/resource/wiktionary/en/]',\n",
       "    '@type': 'Source',\n",
       "    'contributor': '/s/resource/wiktionary/en',\n",
       "    'process': '/s/process/wikiparsec/2'}],\n",
       "  'start': {'@id': '/c/sh/takav/a',\n",
       "   '@type': 'Node',\n",
       "   'label': 'takav',\n",
       "   'language': 'sh',\n",
       "   'sense_label': 'a',\n",
       "   'term': '/c/sh/takav'},\n",
       "  'surfaceText': None,\n",
       "  'weight': 2.0},\n",
       " {'@id': '/a/[/r/Synonym/,/c/en/what/n/,/c/sh/kaj/]',\n",
       "  '@type': 'Edge',\n",
       "  'dataset': '/d/wiktionary/en',\n",
       "  'end': {'@id': '/c/sh/kaj',\n",
       "   '@type': 'Node',\n",
       "   'label': 'kaj',\n",
       "   'language': 'sh',\n",
       "   'term': '/c/sh/kaj'},\n",
       "  'license': 'cc:by-sa/4.0',\n",
       "  'rel': {'@id': '/r/Synonym', '@type': 'Relation', 'label': 'Synonym'},\n",
       "  'sources': [{'@id': '/and/[/s/process/wikiparsec/2/,/s/resource/wiktionary/en/]',\n",
       "    '@type': 'Source',\n",
       "    'contributor': '/s/resource/wiktionary/en',\n",
       "    'process': '/s/process/wikiparsec/2'}],\n",
       "  'start': {'@id': '/c/en/what/n',\n",
       "   '@type': 'Node',\n",
       "   'label': 'what',\n",
       "   'language': 'en',\n",
       "   'sense_label': 'n',\n",
       "   'term': '/c/en/what'},\n",
       "  'surfaceText': None,\n",
       "  'weight': 2.0},\n",
       " {'@id': '/a/[/r/Synonym/,/c/ja/は/,/c/en/what/]',\n",
       "  '@type': 'Edge',\n",
       "  'dataset': '/d/jmdict',\n",
       "  'end': {'@id': '/c/en/what',\n",
       "   '@type': 'Node',\n",
       "   'label': 'what',\n",
       "   'language': 'en',\n",
       "   'term': '/c/en/what'},\n",
       "  'license': 'cc:by-sa/4.0',\n",
       "  'rel': {'@id': '/r/Synonym', '@type': 'Relation', 'label': 'Synonym'},\n",
       "  'sources': [{'@id': '/s/resource/jmdict/1.07',\n",
       "    '@type': 'Source',\n",
       "    'contributor': '/s/resource/jmdict/1.07'}],\n",
       "  'start': {'@id': '/c/ja/は',\n",
       "   '@type': 'Node',\n",
       "   'label': 'は',\n",
       "   'language': 'ja',\n",
       "   'term': '/c/ja/は'},\n",
       "  'surfaceText': None,\n",
       "  'weight': 2.0},\n",
       " {'@id': '/a/[/r/RelatedTo/,/c/sh/čemu/n/,/c/en/what/]',\n",
       "  '@type': 'Edge',\n",
       "  'dataset': '/d/wiktionary/en',\n",
       "  'end': {'@id': '/c/en/what',\n",
       "   '@type': 'Node',\n",
       "   'label': 'what',\n",
       "   'language': 'en',\n",
       "   'term': '/c/en/what'},\n",
       "  'license': 'cc:by-sa/4.0',\n",
       "  'rel': {'@id': '/r/RelatedTo', '@type': 'Relation', 'label': 'RelatedTo'},\n",
       "  'sources': [{'@id': '/and/[/s/process/wikiparsec/2/,/s/resource/wiktionary/en/]',\n",
       "    '@type': 'Source',\n",
       "    'contributor': '/s/resource/wiktionary/en',\n",
       "    'process': '/s/process/wikiparsec/2'}],\n",
       "  'start': {'@id': '/c/sh/čemu/n',\n",
       "   '@type': 'Node',\n",
       "   'label': 'čemu',\n",
       "   'language': 'sh',\n",
       "   'sense_label': 'n',\n",
       "   'term': '/c/sh/čemu'},\n",
       "  'surfaceText': None,\n",
       "  'weight': 2.0},\n",
       " {'@id': '/a/[/r/Synonym/,/c/ja/何/a/jmdict/1/,/c/en/what/]',\n",
       "  '@type': 'Edge',\n",
       "  'dataset': '/d/jmdict',\n",
       "  'end': {'@id': '/c/en/what',\n",
       "   '@type': 'Node',\n",
       "   'label': 'what',\n",
       "   'language': 'en',\n",
       "   'term': '/c/en/what'},\n",
       "  'license': 'cc:by-sa/4.0',\n",
       "  'rel': {'@id': '/r/Synonym', '@type': 'Relation', 'label': 'Synonym'},\n",
       "  'sources': [{'@id': '/s/resource/jmdict/1.07',\n",
       "    '@type': 'Source',\n",
       "    'contributor': '/s/resource/jmdict/1.07'}],\n",
       "  'start': {'@id': '/c/ja/何/a/jmdict/1',\n",
       "   '@type': 'Node',\n",
       "   'label': '何',\n",
       "   'language': 'ja',\n",
       "   'sense_label': 'a',\n",
       "   'term': '/c/ja/何'},\n",
       "  'surfaceText': None,\n",
       "  'weight': 2.0},\n",
       " {'@id': '/a/[/r/Synonym/,/c/ja/何何/,/c/en/what/]',\n",
       "  '@type': 'Edge',\n",
       "  'dataset': '/d/jmdict',\n",
       "  'end': {'@id': '/c/en/what',\n",
       "   '@type': 'Node',\n",
       "   'label': 'what',\n",
       "   'language': 'en',\n",
       "   'term': '/c/en/what'},\n",
       "  'license': 'cc:by-sa/4.0',\n",
       "  'rel': {'@id': '/r/Synonym', '@type': 'Relation', 'label': 'Synonym'},\n",
       "  'sources': [{'@id': '/s/resource/jmdict/1.07',\n",
       "    '@type': 'Source',\n",
       "    'contributor': '/s/resource/jmdict/1.07'}],\n",
       "  'start': {'@id': '/c/ja/何何',\n",
       "   '@type': 'Node',\n",
       "   'label': '何何',\n",
       "   'language': 'ja',\n",
       "   'term': '/c/ja/何何'},\n",
       "  'surfaceText': None,\n",
       "  'weight': 2.0},\n",
       " {'@id': '/a/[/r/Synonym/,/c/en/what/n/,/c/sh/šta/]',\n",
       "  '@type': 'Edge',\n",
       "  'dataset': '/d/wiktionary/en',\n",
       "  'end': {'@id': '/c/sh/šta',\n",
       "   '@type': 'Node',\n",
       "   'label': 'šta',\n",
       "   'language': 'sh',\n",
       "   'term': '/c/sh/šta'},\n",
       "  'license': 'cc:by-sa/4.0',\n",
       "  'rel': {'@id': '/r/Synonym', '@type': 'Relation', 'label': 'Synonym'},\n",
       "  'sources': [{'@id': '/and/[/s/process/wikiparsec/2/,/s/resource/wiktionary/en/]',\n",
       "    '@type': 'Source',\n",
       "    'contributor': '/s/resource/wiktionary/en',\n",
       "    'process': '/s/process/wikiparsec/2'}],\n",
       "  'start': {'@id': '/c/en/what/n',\n",
       "   '@type': 'Node',\n",
       "   'label': 'what',\n",
       "   'language': 'en',\n",
       "   'sense_label': 'n',\n",
       "   'term': '/c/en/what'},\n",
       "  'surfaceText': None,\n",
       "  'weight': 2.0},\n",
       " {'@id': '/a/[/r/RelatedTo/,/c/sh/čem/n/,/c/en/what/]',\n",
       "  '@type': 'Edge',\n",
       "  'dataset': '/d/wiktionary/en',\n",
       "  'end': {'@id': '/c/en/what',\n",
       "   '@type': 'Node',\n",
       "   'label': 'what',\n",
       "   'language': 'en',\n",
       "   'term': '/c/en/what'},\n",
       "  'license': 'cc:by-sa/4.0',\n",
       "  'rel': {'@id': '/r/RelatedTo', '@type': 'Relation', 'label': 'RelatedTo'},\n",
       "  'sources': [{'@id': '/and/[/s/process/wikiparsec/2/,/s/resource/wiktionary/en/]',\n",
       "    '@type': 'Source',\n",
       "    'contributor': '/s/resource/wiktionary/en',\n",
       "    'process': '/s/process/wikiparsec/2'}],\n",
       "  'start': {'@id': '/c/sh/čem/n',\n",
       "   '@type': 'Node',\n",
       "   'label': 'čem',\n",
       "   'language': 'sh',\n",
       "   'sense_label': 'n',\n",
       "   'term': '/c/sh/čem'},\n",
       "  'surfaceText': None,\n",
       "  'weight': 2.0},\n",
       " {'@id': '/a/[/r/RelatedTo/,/c/sh/kolik/a/,/c/en/what/]',\n",
       "  '@type': 'Edge',\n",
       "  'dataset': '/d/wiktionary/en',\n",
       "  'end': {'@id': '/c/en/what',\n",
       "   '@type': 'Node',\n",
       "   'label': 'what',\n",
       "   'language': 'en',\n",
       "   'term': '/c/en/what'},\n",
       "  'license': 'cc:by-sa/4.0',\n",
       "  'rel': {'@id': '/r/RelatedTo', '@type': 'Relation', 'label': 'RelatedTo'},\n",
       "  'sources': [{'@id': '/and/[/s/process/wikiparsec/2/,/s/resource/wiktionary/en/]',\n",
       "    '@type': 'Source',\n",
       "    'contributor': '/s/resource/wiktionary/en',\n",
       "    'process': '/s/process/wikiparsec/2'}],\n",
       "  'start': {'@id': '/c/sh/kolik/a',\n",
       "   '@type': 'Node',\n",
       "   'label': 'kolik',\n",
       "   'language': 'sh',\n",
       "   'sense_label': 'a',\n",
       "   'term': '/c/sh/kolik'},\n",
       "  'surfaceText': None,\n",
       "  'weight': 2.0},\n",
       " {'@id': '/a/[/r/Synonym/,/c/ja/何と/r/,/c/en/what/]',\n",
       "  '@type': 'Edge',\n",
       "  'dataset': '/d/jmdict',\n",
       "  'end': {'@id': '/c/en/what',\n",
       "   '@type': 'Node',\n",
       "   'label': 'what',\n",
       "   'language': 'en',\n",
       "   'term': '/c/en/what'},\n",
       "  'license': 'cc:by-sa/4.0',\n",
       "  'rel': {'@id': '/r/Synonym', '@type': 'Relation', 'label': 'Synonym'},\n",
       "  'sources': [{'@id': '/s/resource/jmdict/1.07',\n",
       "    '@type': 'Source',\n",
       "    'contributor': '/s/resource/jmdict/1.07'}],\n",
       "  'start': {'@id': '/c/ja/何と/r',\n",
       "   '@type': 'Node',\n",
       "   'label': '何と',\n",
       "   'language': 'ja',\n",
       "   'sense_label': 'r',\n",
       "   'term': '/c/ja/何と'},\n",
       "  'surfaceText': None,\n",
       "  'weight': 2.0},\n",
       " {'@id': '/a/[/r/Synonym/,/c/ja/何等/n/jmdict/1/,/c/en/what/]',\n",
       "  '@type': 'Edge',\n",
       "  'dataset': '/d/jmdict',\n",
       "  'end': {'@id': '/c/en/what',\n",
       "   '@type': 'Node',\n",
       "   'label': 'what',\n",
       "   'language': 'en',\n",
       "   'term': '/c/en/what'},\n",
       "  'license': 'cc:by-sa/4.0',\n",
       "  'rel': {'@id': '/r/Synonym', '@type': 'Relation', 'label': 'Synonym'},\n",
       "  'sources': [{'@id': '/s/resource/jmdict/1.07',\n",
       "    '@type': 'Source',\n",
       "    'contributor': '/s/resource/jmdict/1.07'}],\n",
       "  'start': {'@id': '/c/ja/何等/n/jmdict/1',\n",
       "   '@type': 'Node',\n",
       "   'label': '何等',\n",
       "   'language': 'ja',\n",
       "   'sense_label': 'n',\n",
       "   'term': '/c/ja/何等'},\n",
       "  'surfaceText': None,\n",
       "  'weight': 2.0},\n",
       " {'@id': '/a/[/r/Synonym/,/c/ja/なんだよおい/,/c/en/what/]',\n",
       "  '@type': 'Edge',\n",
       "  'dataset': '/d/jmdict',\n",
       "  'end': {'@id': '/c/en/what',\n",
       "   '@type': 'Node',\n",
       "   'label': 'what',\n",
       "   'language': 'en',\n",
       "   'term': '/c/en/what'},\n",
       "  'license': 'cc:by-sa/4.0',\n",
       "  'rel': {'@id': '/r/Synonym', '@type': 'Relation', 'label': 'Synonym'},\n",
       "  'sources': [{'@id': '/s/resource/jmdict/1.07',\n",
       "    '@type': 'Source',\n",
       "    'contributor': '/s/resource/jmdict/1.07'}],\n",
       "  'start': {'@id': '/c/ja/なんだよおい',\n",
       "   '@type': 'Node',\n",
       "   'label': 'なんだよおい',\n",
       "   'language': 'ja',\n",
       "   'term': '/c/ja/なんだよおい'},\n",
       "  'surfaceText': None,\n",
       "  'weight': 2.0},\n",
       " {'@id': '/a/[/r/RelatedTo/,/c/ht/ki/,/c/en/what/]',\n",
       "  '@type': 'Edge',\n",
       "  'dataset': '/d/wiktionary/en',\n",
       "  'end': {'@id': '/c/en/what',\n",
       "   '@type': 'Node',\n",
       "   'label': 'what',\n",
       "   'language': 'en',\n",
       "   'term': '/c/en/what'},\n",
       "  'license': 'cc:by-sa/4.0',\n",
       "  'rel': {'@id': '/r/RelatedTo', '@type': 'Relation', 'label': 'RelatedTo'},\n",
       "  'sources': [{'@id': '/and/[/s/process/wikiparsec/2/,/s/resource/wiktionary/en/]',\n",
       "    '@type': 'Source',\n",
       "    'contributor': '/s/resource/wiktionary/en',\n",
       "    'process': '/s/process/wikiparsec/2'}],\n",
       "  'start': {'@id': '/c/ht/ki',\n",
       "   '@type': 'Node',\n",
       "   'label': 'ki',\n",
       "   'language': 'ht',\n",
       "   'term': '/c/ht/ki'},\n",
       "  'surfaceText': None,\n",
       "  'weight': 2.0},\n",
       " {'@id': '/a/[/r/Synonym/,/c/ja/何たる/a/,/c/en/what/]',\n",
       "  '@type': 'Edge',\n",
       "  'dataset': '/d/jmdict',\n",
       "  'end': {'@id': '/c/en/what',\n",
       "   '@type': 'Node',\n",
       "   'label': 'what',\n",
       "   'language': 'en',\n",
       "   'term': '/c/en/what'},\n",
       "  'license': 'cc:by-sa/4.0',\n",
       "  'rel': {'@id': '/r/Synonym', '@type': 'Relation', 'label': 'Synonym'},\n",
       "  'sources': [{'@id': '/s/resource/jmdict/1.07',\n",
       "    '@type': 'Source',\n",
       "    'contributor': '/s/resource/jmdict/1.07'}],\n",
       "  'start': {'@id': '/c/ja/何たる/a',\n",
       "   '@type': 'Node',\n",
       "   'label': '何たる',\n",
       "   'language': 'ja',\n",
       "   'sense_label': 'a',\n",
       "   'term': '/c/ja/何たる'},\n",
       "  'surfaceText': None,\n",
       "  'weight': 2.0},\n",
       " {'@id': '/a/[/r/Synonym/,/c/en/what/n/,/c/sh/što/]',\n",
       "  '@type': 'Edge',\n",
       "  'dataset': '/d/wiktionary/en',\n",
       "  'end': {'@id': '/c/sh/što',\n",
       "   '@type': 'Node',\n",
       "   'label': 'što',\n",
       "   'language': 'sh',\n",
       "   'term': '/c/sh/što'},\n",
       "  'license': 'cc:by-sa/4.0',\n",
       "  'rel': {'@id': '/r/Synonym', '@type': 'Relation', 'label': 'Synonym'},\n",
       "  'sources': [{'@id': '/and/[/s/process/wikiparsec/2/,/s/resource/wiktionary/en/]',\n",
       "    '@type': 'Source',\n",
       "    'contributor': '/s/resource/wiktionary/en',\n",
       "    'process': '/s/process/wikiparsec/2'}],\n",
       "  'start': {'@id': '/c/en/what/n',\n",
       "   '@type': 'Node',\n",
       "   'label': 'what',\n",
       "   'language': 'en',\n",
       "   'sense_label': 'n',\n",
       "   'term': '/c/en/what'},\n",
       "  'surfaceText': None,\n",
       "  'weight': 2.0}]"
      ]
     },
     "execution_count": 3,
     "metadata": {},
     "output_type": "execute_result"
    }
   ],
   "source": [
    "import requests\n",
    "\n",
    "obj = requests.get('http://api.conceptnet.io/c/en/what').json()\n",
    "obj['edges']"
   ]
  },
  {
   "cell_type": "code",
   "execution_count": 12,
   "id": "f1d55cf7-d8aa-4a8b-88a5-e3c82668b2ef",
   "metadata": {},
   "outputs": [
    {
     "data": {
      "text/plain": [
       "'en'"
      ]
     },
     "execution_count": 12,
     "metadata": {},
     "output_type": "execute_result"
    }
   ],
   "source": [
    "obj['edges'][6]['start']['language']"
   ]
  },
  {
   "cell_type": "code",
   "execution_count": 14,
   "id": "8f894d0a-e2e9-4475-a25a-0267dff3acb3",
   "metadata": {},
   "outputs": [
    {
     "data": {
      "text/plain": [
       "{'@id': '/c/en/what/n',\n",
       " '@type': 'Node',\n",
       " 'label': 'what',\n",
       " 'language': 'en',\n",
       " 'sense_label': 'n',\n",
       " 'term': '/c/en/what'}"
      ]
     },
     "execution_count": 14,
     "metadata": {},
     "output_type": "execute_result"
    }
   ],
   "source": [
    "obj['edges'][6]['start']"
   ]
  },
  {
   "cell_type": "code",
   "execution_count": 35,
   "id": "a8410b9b-1896-430b-bdac-013783aa2d55",
   "metadata": {},
   "outputs": [
    {
     "data": {
      "text/plain": [
       "6.32455532033676"
      ]
     },
     "execution_count": 35,
     "metadata": {},
     "output_type": "execute_result"
    }
   ],
   "source": [
    "#obj = requests.get('http://api.conceptnet.io/c/en/what').json()\n",
    "\n",
    "obj = requests.get('http://api.conceptnet.io/query?node=/c/en/eat&other=/c/en').json()\n",
    "obj['edges'][4]['weight']"
   ]
  },
  {
   "cell_type": "code",
   "execution_count": 43,
   "id": "862ded60-85f0-47c5-81e8-16dcc9064b16",
   "metadata": {},
   "outputs": [
    {
     "data": {
      "text/plain": [
       "{'@id': '/c/en/eat',\n",
       " '@type': 'Node',\n",
       " 'label': 'eat',\n",
       " 'language': 'en',\n",
       " 'term': '/c/en/eat'}"
      ]
     },
     "execution_count": 43,
     "metadata": {},
     "output_type": "execute_result"
    }
   ],
   "source": [
    "obj['edges'][0]['end']"
   ]
  },
  {
   "cell_type": "code",
   "execution_count": 25,
   "id": "1103bccd-ac31-4fce-99e6-d833165e7412",
   "metadata": {},
   "outputs": [
    {
     "data": {
      "text/plain": [
       "{'@id': '/c/ja/猫',\n",
       " '@type': 'Node',\n",
       " 'label': '猫',\n",
       " 'language': 'ja',\n",
       " 'term': '/c/ja/猫'}"
      ]
     },
     "execution_count": 25,
     "metadata": {},
     "output_type": "execute_result"
    }
   ],
   "source": [
    "obj['edges'][0]['start']"
   ]
  },
  {
   "cell_type": "code",
   "execution_count": 51,
   "id": "875749a9-ddfc-4369-8a32-9e1d9bc1223d",
   "metadata": {},
   "outputs": [],
   "source": [
    "obj = requests.get('http://api.conceptnet.io/related/c/en/tea_kettle?filter=/c/en').json()\n",
    "\n"
   ]
  },
  {
   "cell_type": "code",
   "execution_count": 52,
   "id": "b69fae01-12e8-414b-b695-95dc90e4718a",
   "metadata": {},
   "outputs": [
    {
     "data": {
      "text/plain": [
       "{'@id': '/c/en/tea_kettle',\n",
       " 'related': [{'@id': '/c/en/tea_kettle', 'weight': 1.0},\n",
       "  {'@id': '/c/en/teakettle', 'weight': 0.868},\n",
       "  {'@id': '/c/en/teapot', 'weight': 0.738},\n",
       "  {'@id': '/c/en/teapots', 'weight': 0.711},\n",
       "  {'@id': '/c/en/kettle', 'weight': 0.709},\n",
       "  {'@id': '/c/en/kettles', 'weight': 0.668},\n",
       "  {'@id': '/c/en/coffeepot', 'weight': 0.62},\n",
       "  {'@id': '/c/en/boil_water', 'weight': 0.574},\n",
       "  {'@id': '/c/en/coffee_pot', 'weight': 0.557},\n",
       "  {'@id': '/c/en/stockpot', 'weight': 0.519},\n",
       "  {'@id': '/c/en/coffee_mug', 'weight': 0.495},\n",
       "  {'@id': '/c/en/cookware', 'weight': 0.491},\n",
       "  {'@id': '/c/en/potful', 'weight': 0.49},\n",
       "  {'@id': '/c/en/boiling', 'weight': 0.488},\n",
       "  {'@id': '/c/en/tinware', 'weight': 0.487},\n",
       "  {'@id': '/c/en/mugs', 'weight': 0.482},\n",
       "  {'@id': '/c/en/tureens', 'weight': 0.479},\n",
       "  {'@id': '/c/en/tureen', 'weight': 0.479},\n",
       "  {'@id': '/c/en/saucepans', 'weight': 0.474},\n",
       "  {'@id': '/c/en/samovar', 'weight': 0.472},\n",
       "  {'@id': '/c/en/coffee_maker', 'weight': 0.47},\n",
       "  {'@id': '/c/en/saucepan', 'weight': 0.465},\n",
       "  {'@id': '/c/en/kitchen_cupboard', 'weight': 0.462},\n",
       "  {'@id': '/c/en/teacups', 'weight': 0.46},\n",
       "  {'@id': '/c/en/cooking_utensils', 'weight': 0.459},\n",
       "  {'@id': '/c/en/cauldron', 'weight': 0.457},\n",
       "  {'@id': '/c/en/teacup', 'weight': 0.456},\n",
       "  {'@id': '/c/en/chafing_dish', 'weight': 0.456},\n",
       "  {'@id': '/c/en/stovetop', 'weight': 0.456},\n",
       "  {'@id': '/c/en/rice_cooker', 'weight': 0.449},\n",
       "  {'@id': '/c/en/cafetiere', 'weight': 0.445},\n",
       "  {'@id': '/c/en/pots', 'weight': 0.442},\n",
       "  {'@id': '/c/en/caldrons', 'weight': 0.442},\n",
       "  {'@id': '/c/en/caldron', 'weight': 0.441},\n",
       "  {'@id': '/c/en/chawan', 'weight': 0.436},\n",
       "  {'@id': '/c/en/cauldrons', 'weight': 0.432},\n",
       "  {'@id': '/c/en/crockery', 'weight': 0.431},\n",
       "  {'@id': '/c/en/jug', 'weight': 0.431},\n",
       "  {'@id': '/c/en/pot', 'weight': 0.427},\n",
       "  {'@id': '/c/en/mug', 'weight': 0.426},\n",
       "  {'@id': '/c/en/tympani', 'weight': 0.426},\n",
       "  {'@id': '/c/en/scalding', 'weight': 0.423},\n",
       "  {'@id': '/c/en/boil', 'weight': 0.423},\n",
       "  {'@id': '/c/en/saucer', 'weight': 0.418},\n",
       "  {'@id': '/c/en/tea', 'weight': 0.417},\n",
       "  {'@id': '/c/en/coffeemaker', 'weight': 0.416},\n",
       "  {'@id': '/c/en/jugged', 'weight': 0.415},\n",
       "  {'@id': '/c/en/tazza', 'weight': 0.413},\n",
       "  {'@id': '/c/en/stoved', 'weight': 0.412},\n",
       "  {'@id': '/c/en/dishware', 'weight': 0.412}]}"
      ]
     },
     "execution_count": 52,
     "metadata": {},
     "output_type": "execute_result"
    }
   ],
   "source": [
    "obj"
   ]
  },
  {
   "cell_type": "code",
   "execution_count": null,
   "id": "33d7bff8-ca49-43fe-ab5e-03fd87272dfe",
   "metadata": {},
   "outputs": [],
   "source": []
  }
 ],
 "metadata": {
  "kernelspec": {
   "display_name": "Python 3",
   "language": "python",
   "name": "python3"
  },
  "language_info": {
   "codemirror_mode": {
    "name": "ipython",
    "version": 3
   },
   "file_extension": ".py",
   "mimetype": "text/x-python",
   "name": "python",
   "nbconvert_exporter": "python",
   "pygments_lexer": "ipython3",
   "version": "3.9.5"
  }
 },
 "nbformat": 4,
 "nbformat_minor": 5
}
